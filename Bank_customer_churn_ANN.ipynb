{
  "nbformat": 4,
  "nbformat_minor": 0,
  "metadata": {
    "colab": {
      "name": "Bank customer churn ANN.ipynb",
      "provenance": [],
      "collapsed_sections": [],
      "authorship_tag": "ABX9TyNUiuPi2LtUmcwD+fhpr+0w",
      "include_colab_link": true
    },
    "kernelspec": {
      "name": "python3",
      "display_name": "Python 3"
    },
    "accelerator": "TPU"
  },
  "cells": [
    {
      "cell_type": "markdown",
      "metadata": {
        "id": "view-in-github",
        "colab_type": "text"
      },
      "source": [
        "<a href=\"https://colab.research.google.com/github/nitinpatil301a/Tensorflow-Keras-Work/blob/master/Bank_customer_churn_ANN.ipynb\" target=\"_parent\"><img src=\"https://colab.research.google.com/assets/colab-badge.svg\" alt=\"Open In Colab\"/></a>"
      ]
    },
    {
      "cell_type": "code",
      "metadata": {
        "id": "79u1Hn5M_ESW",
        "colab_type": "code",
        "colab": {
          "base_uri": "https://localhost:8080/",
          "height": 119
        },
        "outputId": "e620f945-594d-45d8-bb1f-b0d20efd1007"
      },
      "source": [
        "%tensorflow_version 2.0.0\n",
        "import tensorflow as tf\n",
        "print(tf.__version__)\n",
        "from tensorflow import keras\n",
        "import numpy as np\n",
        "import pandas as pd\n",
        "import matplotlib.pyplot as plt"
      ],
      "execution_count": 48,
      "outputs": [
        {
          "output_type": "stream",
          "text": [
            "`%tensorflow_version` only switches the major version: 1.x or 2.x.\n",
            "You set: `2.0.0`. This will be interpreted as: `2.x`.\n",
            "\n",
            "\n",
            "TensorFlow is already loaded. Please restart the runtime to change versions.\n",
            "2.1.0\n"
          ],
          "name": "stdout"
        }
      ]
    },
    {
      "cell_type": "code",
      "metadata": {
        "id": "BENhwwXJ_gSo",
        "colab_type": "code",
        "colab": {
          "base_uri": "https://localhost:8080/",
          "height": 224
        },
        "outputId": "5d57168b-827b-43fe-9685-cc52e086d72a"
      },
      "source": [
        "data=pd.read_csv(\"Customer_Churn_Modelling.csv\")\n",
        "data.head()"
      ],
      "execution_count": 49,
      "outputs": [
        {
          "output_type": "execute_result",
          "data": {
            "text/html": [
              "<div>\n",
              "<style scoped>\n",
              "    .dataframe tbody tr th:only-of-type {\n",
              "        vertical-align: middle;\n",
              "    }\n",
              "\n",
              "    .dataframe tbody tr th {\n",
              "        vertical-align: top;\n",
              "    }\n",
              "\n",
              "    .dataframe thead th {\n",
              "        text-align: right;\n",
              "    }\n",
              "</style>\n",
              "<table border=\"1\" class=\"dataframe\">\n",
              "  <thead>\n",
              "    <tr style=\"text-align: right;\">\n",
              "      <th></th>\n",
              "      <th>RowNumber</th>\n",
              "      <th>CustomerId</th>\n",
              "      <th>Surname</th>\n",
              "      <th>CreditScore</th>\n",
              "      <th>Geography</th>\n",
              "      <th>Gender</th>\n",
              "      <th>Age</th>\n",
              "      <th>Tenure</th>\n",
              "      <th>Balance</th>\n",
              "      <th>NumOfProducts</th>\n",
              "      <th>HasCrCard</th>\n",
              "      <th>IsActiveMember</th>\n",
              "      <th>EstimatedSalary</th>\n",
              "      <th>Exited</th>\n",
              "    </tr>\n",
              "  </thead>\n",
              "  <tbody>\n",
              "    <tr>\n",
              "      <th>0</th>\n",
              "      <td>1</td>\n",
              "      <td>15634602</td>\n",
              "      <td>Hargrave</td>\n",
              "      <td>619</td>\n",
              "      <td>France</td>\n",
              "      <td>Female</td>\n",
              "      <td>42</td>\n",
              "      <td>2</td>\n",
              "      <td>0.00</td>\n",
              "      <td>1</td>\n",
              "      <td>1</td>\n",
              "      <td>1</td>\n",
              "      <td>101348.88</td>\n",
              "      <td>1</td>\n",
              "    </tr>\n",
              "    <tr>\n",
              "      <th>1</th>\n",
              "      <td>2</td>\n",
              "      <td>15647311</td>\n",
              "      <td>Hill</td>\n",
              "      <td>608</td>\n",
              "      <td>Spain</td>\n",
              "      <td>Female</td>\n",
              "      <td>41</td>\n",
              "      <td>1</td>\n",
              "      <td>83807.86</td>\n",
              "      <td>1</td>\n",
              "      <td>0</td>\n",
              "      <td>1</td>\n",
              "      <td>112542.58</td>\n",
              "      <td>0</td>\n",
              "    </tr>\n",
              "    <tr>\n",
              "      <th>2</th>\n",
              "      <td>3</td>\n",
              "      <td>15619304</td>\n",
              "      <td>Onio</td>\n",
              "      <td>502</td>\n",
              "      <td>France</td>\n",
              "      <td>Female</td>\n",
              "      <td>42</td>\n",
              "      <td>8</td>\n",
              "      <td>159660.80</td>\n",
              "      <td>3</td>\n",
              "      <td>1</td>\n",
              "      <td>0</td>\n",
              "      <td>113931.57</td>\n",
              "      <td>1</td>\n",
              "    </tr>\n",
              "    <tr>\n",
              "      <th>3</th>\n",
              "      <td>4</td>\n",
              "      <td>15701354</td>\n",
              "      <td>Boni</td>\n",
              "      <td>699</td>\n",
              "      <td>France</td>\n",
              "      <td>Female</td>\n",
              "      <td>39</td>\n",
              "      <td>1</td>\n",
              "      <td>0.00</td>\n",
              "      <td>2</td>\n",
              "      <td>0</td>\n",
              "      <td>0</td>\n",
              "      <td>93826.63</td>\n",
              "      <td>0</td>\n",
              "    </tr>\n",
              "    <tr>\n",
              "      <th>4</th>\n",
              "      <td>5</td>\n",
              "      <td>15737888</td>\n",
              "      <td>Mitchell</td>\n",
              "      <td>850</td>\n",
              "      <td>Spain</td>\n",
              "      <td>Female</td>\n",
              "      <td>43</td>\n",
              "      <td>2</td>\n",
              "      <td>125510.82</td>\n",
              "      <td>1</td>\n",
              "      <td>1</td>\n",
              "      <td>1</td>\n",
              "      <td>79084.10</td>\n",
              "      <td>0</td>\n",
              "    </tr>\n",
              "  </tbody>\n",
              "</table>\n",
              "</div>"
            ],
            "text/plain": [
              "   RowNumber  CustomerId   Surname  ...  IsActiveMember EstimatedSalary Exited\n",
              "0          1    15634602  Hargrave  ...               1       101348.88      1\n",
              "1          2    15647311      Hill  ...               1       112542.58      0\n",
              "2          3    15619304      Onio  ...               0       113931.57      1\n",
              "3          4    15701354      Boni  ...               0        93826.63      0\n",
              "4          5    15737888  Mitchell  ...               1        79084.10      0\n",
              "\n",
              "[5 rows x 14 columns]"
            ]
          },
          "metadata": {
            "tags": []
          },
          "execution_count": 49
        }
      ]
    },
    {
      "cell_type": "code",
      "metadata": {
        "id": "lY9mY5PN_pTw",
        "colab_type": "code",
        "colab": {}
      },
      "source": [
        "X=data.drop([\"RowNumber\",\"CustomerId\",\"Surname\",\"Exited\"],axis=1)\n",
        "y=data[\"Exited\"]"
      ],
      "execution_count": 0,
      "outputs": []
    },
    {
      "cell_type": "code",
      "metadata": {
        "id": "ySdJobSmAC7h",
        "colab_type": "code",
        "colab": {
          "base_uri": "https://localhost:8080/",
          "height": 204
        },
        "outputId": "3d5d4224-06bf-48eb-a138-4e9f6b04bed3"
      },
      "source": [
        "from sklearn.preprocessing import LabelEncoder\n",
        "le=LabelEncoder()\n",
        "X[\"Geography\"]=le.fit_transform(X[\"Geography\"])\n",
        "X[\"Gender\"]=le.fit_transform(X[\"Gender\"])\n",
        "X.head()"
      ],
      "execution_count": 51,
      "outputs": [
        {
          "output_type": "execute_result",
          "data": {
            "text/html": [
              "<div>\n",
              "<style scoped>\n",
              "    .dataframe tbody tr th:only-of-type {\n",
              "        vertical-align: middle;\n",
              "    }\n",
              "\n",
              "    .dataframe tbody tr th {\n",
              "        vertical-align: top;\n",
              "    }\n",
              "\n",
              "    .dataframe thead th {\n",
              "        text-align: right;\n",
              "    }\n",
              "</style>\n",
              "<table border=\"1\" class=\"dataframe\">\n",
              "  <thead>\n",
              "    <tr style=\"text-align: right;\">\n",
              "      <th></th>\n",
              "      <th>CreditScore</th>\n",
              "      <th>Geography</th>\n",
              "      <th>Gender</th>\n",
              "      <th>Age</th>\n",
              "      <th>Tenure</th>\n",
              "      <th>Balance</th>\n",
              "      <th>NumOfProducts</th>\n",
              "      <th>HasCrCard</th>\n",
              "      <th>IsActiveMember</th>\n",
              "      <th>EstimatedSalary</th>\n",
              "    </tr>\n",
              "  </thead>\n",
              "  <tbody>\n",
              "    <tr>\n",
              "      <th>0</th>\n",
              "      <td>619</td>\n",
              "      <td>0</td>\n",
              "      <td>0</td>\n",
              "      <td>42</td>\n",
              "      <td>2</td>\n",
              "      <td>0.00</td>\n",
              "      <td>1</td>\n",
              "      <td>1</td>\n",
              "      <td>1</td>\n",
              "      <td>101348.88</td>\n",
              "    </tr>\n",
              "    <tr>\n",
              "      <th>1</th>\n",
              "      <td>608</td>\n",
              "      <td>2</td>\n",
              "      <td>0</td>\n",
              "      <td>41</td>\n",
              "      <td>1</td>\n",
              "      <td>83807.86</td>\n",
              "      <td>1</td>\n",
              "      <td>0</td>\n",
              "      <td>1</td>\n",
              "      <td>112542.58</td>\n",
              "    </tr>\n",
              "    <tr>\n",
              "      <th>2</th>\n",
              "      <td>502</td>\n",
              "      <td>0</td>\n",
              "      <td>0</td>\n",
              "      <td>42</td>\n",
              "      <td>8</td>\n",
              "      <td>159660.80</td>\n",
              "      <td>3</td>\n",
              "      <td>1</td>\n",
              "      <td>0</td>\n",
              "      <td>113931.57</td>\n",
              "    </tr>\n",
              "    <tr>\n",
              "      <th>3</th>\n",
              "      <td>699</td>\n",
              "      <td>0</td>\n",
              "      <td>0</td>\n",
              "      <td>39</td>\n",
              "      <td>1</td>\n",
              "      <td>0.00</td>\n",
              "      <td>2</td>\n",
              "      <td>0</td>\n",
              "      <td>0</td>\n",
              "      <td>93826.63</td>\n",
              "    </tr>\n",
              "    <tr>\n",
              "      <th>4</th>\n",
              "      <td>850</td>\n",
              "      <td>2</td>\n",
              "      <td>0</td>\n",
              "      <td>43</td>\n",
              "      <td>2</td>\n",
              "      <td>125510.82</td>\n",
              "      <td>1</td>\n",
              "      <td>1</td>\n",
              "      <td>1</td>\n",
              "      <td>79084.10</td>\n",
              "    </tr>\n",
              "  </tbody>\n",
              "</table>\n",
              "</div>"
            ],
            "text/plain": [
              "   CreditScore  Geography  Gender  ...  HasCrCard  IsActiveMember  EstimatedSalary\n",
              "0          619          0       0  ...          1               1        101348.88\n",
              "1          608          2       0  ...          0               1        112542.58\n",
              "2          502          0       0  ...          1               0        113931.57\n",
              "3          699          0       0  ...          0               0         93826.63\n",
              "4          850          2       0  ...          1               1         79084.10\n",
              "\n",
              "[5 rows x 10 columns]"
            ]
          },
          "metadata": {
            "tags": []
          },
          "execution_count": 51
        }
      ]
    },
    {
      "cell_type": "code",
      "metadata": {
        "id": "Kcw98o8GAuDg",
        "colab_type": "code",
        "colab": {
          "base_uri": "https://localhost:8080/",
          "height": 204
        },
        "outputId": "e29be821-0ccb-4d4e-cfa1-41127b343dea"
      },
      "source": [
        "X=pd.get_dummies(X,drop_first=True,columns=[\"Geography\"])\n",
        "X.head()"
      ],
      "execution_count": 52,
      "outputs": [
        {
          "output_type": "execute_result",
          "data": {
            "text/html": [
              "<div>\n",
              "<style scoped>\n",
              "    .dataframe tbody tr th:only-of-type {\n",
              "        vertical-align: middle;\n",
              "    }\n",
              "\n",
              "    .dataframe tbody tr th {\n",
              "        vertical-align: top;\n",
              "    }\n",
              "\n",
              "    .dataframe thead th {\n",
              "        text-align: right;\n",
              "    }\n",
              "</style>\n",
              "<table border=\"1\" class=\"dataframe\">\n",
              "  <thead>\n",
              "    <tr style=\"text-align: right;\">\n",
              "      <th></th>\n",
              "      <th>CreditScore</th>\n",
              "      <th>Gender</th>\n",
              "      <th>Age</th>\n",
              "      <th>Tenure</th>\n",
              "      <th>Balance</th>\n",
              "      <th>NumOfProducts</th>\n",
              "      <th>HasCrCard</th>\n",
              "      <th>IsActiveMember</th>\n",
              "      <th>EstimatedSalary</th>\n",
              "      <th>Geography_1</th>\n",
              "      <th>Geography_2</th>\n",
              "    </tr>\n",
              "  </thead>\n",
              "  <tbody>\n",
              "    <tr>\n",
              "      <th>0</th>\n",
              "      <td>619</td>\n",
              "      <td>0</td>\n",
              "      <td>42</td>\n",
              "      <td>2</td>\n",
              "      <td>0.00</td>\n",
              "      <td>1</td>\n",
              "      <td>1</td>\n",
              "      <td>1</td>\n",
              "      <td>101348.88</td>\n",
              "      <td>0</td>\n",
              "      <td>0</td>\n",
              "    </tr>\n",
              "    <tr>\n",
              "      <th>1</th>\n",
              "      <td>608</td>\n",
              "      <td>0</td>\n",
              "      <td>41</td>\n",
              "      <td>1</td>\n",
              "      <td>83807.86</td>\n",
              "      <td>1</td>\n",
              "      <td>0</td>\n",
              "      <td>1</td>\n",
              "      <td>112542.58</td>\n",
              "      <td>0</td>\n",
              "      <td>1</td>\n",
              "    </tr>\n",
              "    <tr>\n",
              "      <th>2</th>\n",
              "      <td>502</td>\n",
              "      <td>0</td>\n",
              "      <td>42</td>\n",
              "      <td>8</td>\n",
              "      <td>159660.80</td>\n",
              "      <td>3</td>\n",
              "      <td>1</td>\n",
              "      <td>0</td>\n",
              "      <td>113931.57</td>\n",
              "      <td>0</td>\n",
              "      <td>0</td>\n",
              "    </tr>\n",
              "    <tr>\n",
              "      <th>3</th>\n",
              "      <td>699</td>\n",
              "      <td>0</td>\n",
              "      <td>39</td>\n",
              "      <td>1</td>\n",
              "      <td>0.00</td>\n",
              "      <td>2</td>\n",
              "      <td>0</td>\n",
              "      <td>0</td>\n",
              "      <td>93826.63</td>\n",
              "      <td>0</td>\n",
              "      <td>0</td>\n",
              "    </tr>\n",
              "    <tr>\n",
              "      <th>4</th>\n",
              "      <td>850</td>\n",
              "      <td>0</td>\n",
              "      <td>43</td>\n",
              "      <td>2</td>\n",
              "      <td>125510.82</td>\n",
              "      <td>1</td>\n",
              "      <td>1</td>\n",
              "      <td>1</td>\n",
              "      <td>79084.10</td>\n",
              "      <td>0</td>\n",
              "      <td>1</td>\n",
              "    </tr>\n",
              "  </tbody>\n",
              "</table>\n",
              "</div>"
            ],
            "text/plain": [
              "   CreditScore  Gender  Age  ...  EstimatedSalary  Geography_1  Geography_2\n",
              "0          619       0   42  ...        101348.88            0            0\n",
              "1          608       0   41  ...        112542.58            0            1\n",
              "2          502       0   42  ...        113931.57            0            0\n",
              "3          699       0   39  ...         93826.63            0            0\n",
              "4          850       0   43  ...         79084.10            0            1\n",
              "\n",
              "[5 rows x 11 columns]"
            ]
          },
          "metadata": {
            "tags": []
          },
          "execution_count": 52
        }
      ]
    },
    {
      "cell_type": "code",
      "metadata": {
        "id": "GjO9TmEfBc2M",
        "colab_type": "code",
        "colab": {}
      },
      "source": [
        "from sklearn.preprocessing import StandardScaler\n",
        "ss=StandardScaler()\n",
        "X=ss.fit_transform(X)\n"
      ],
      "execution_count": 0,
      "outputs": []
    },
    {
      "cell_type": "code",
      "metadata": {
        "id": "buAAFYciCKq8",
        "colab_type": "code",
        "colab": {
          "base_uri": "https://localhost:8080/",
          "height": 34
        },
        "outputId": "6b3b7c17-91a0-42cb-ef6d-5302e7a2120b"
      },
      "source": [
        "from sklearn.model_selection import train_test_split\n",
        "X_train,X_test,y_train,y_test=train_test_split(X,y,test_size=.20,stratify=y)\n",
        "X_train.shape,y_train.shape"
      ],
      "execution_count": 54,
      "outputs": [
        {
          "output_type": "execute_result",
          "data": {
            "text/plain": [
              "((8000, 11), (8000,))"
            ]
          },
          "metadata": {
            "tags": []
          },
          "execution_count": 54
        }
      ]
    },
    {
      "cell_type": "code",
      "metadata": {
        "id": "eJwMEQwqCNkS",
        "colab_type": "code",
        "colab": {}
      },
      "source": [
        "from tensorflow.keras.layers import Dense,Flatten,Dropout\n",
        "from tensorflow.keras import Sequential"
      ],
      "execution_count": 0,
      "outputs": []
    },
    {
      "cell_type": "code",
      "metadata": {
        "id": "ugK6OjYHDnmp",
        "colab_type": "code",
        "colab": {}
      },
      "source": [
        "model=Sequential()\n",
        "model.add(Dense(X_train.shape[0],activation=\"relu\"))\n",
        "model.add(Dense(128,activation=\"relu\"))\n",
        "model.add(Dropout(0.5))\n",
        "model.add(Dense(128,activation=\"relu\"))\n",
        "model.add(Dropout(0.3))\n",
        "model.add(Dense(1,activation=\"sigmoid\"))"
      ],
      "execution_count": 0,
      "outputs": []
    },
    {
      "cell_type": "code",
      "metadata": {
        "id": "eHcdL6jLEUX8",
        "colab_type": "code",
        "colab": {}
      },
      "source": [
        "model.compile(optimizer=\"adam\",loss=\"binary_crossentropy\",metrics=[\"accuracy\"])"
      ],
      "execution_count": 0,
      "outputs": []
    },
    {
      "cell_type": "code",
      "metadata": {
        "id": "iUxblmQ7EuZH",
        "colab_type": "code",
        "colab": {
          "base_uri": "https://localhost:8080/",
          "height": 1000
        },
        "outputId": "276ef7e4-db5e-4d3c-9b91-2fda97b879d5"
      },
      "source": [
        "history=model.fit(X_train,y_train.to_numpy(),epochs=100,batch_size=10,validation_split=0.1)"
      ],
      "execution_count": 64,
      "outputs": [
        {
          "output_type": "stream",
          "text": [
            "Train on 7200 samples, validate on 800 samples\n",
            "Epoch 1/100\n",
            "7200/7200 [==============================] - 7s 974us/sample - loss: 0.4389 - accuracy: 0.8188 - val_loss: 0.3321 - val_accuracy: 0.8813\n",
            "Epoch 2/100\n",
            "7200/7200 [==============================] - 7s 930us/sample - loss: 0.3908 - accuracy: 0.8414 - val_loss: 0.3353 - val_accuracy: 0.8750\n",
            "Epoch 3/100\n",
            "7200/7200 [==============================] - 6s 893us/sample - loss: 0.3734 - accuracy: 0.8476 - val_loss: 0.3338 - val_accuracy: 0.8750\n",
            "Epoch 4/100\n",
            "7200/7200 [==============================] - 6s 890us/sample - loss: 0.3731 - accuracy: 0.8492 - val_loss: 0.3276 - val_accuracy: 0.8725\n",
            "Epoch 5/100\n",
            "7200/7200 [==============================] - 6s 876us/sample - loss: 0.3680 - accuracy: 0.8499 - val_loss: 0.3270 - val_accuracy: 0.8725\n",
            "Epoch 6/100\n",
            "7200/7200 [==============================] - 6s 858us/sample - loss: 0.3607 - accuracy: 0.8540 - val_loss: 0.3118 - val_accuracy: 0.8750\n",
            "Epoch 7/100\n",
            "7200/7200 [==============================] - 6s 853us/sample - loss: 0.3560 - accuracy: 0.8533 - val_loss: 0.3270 - val_accuracy: 0.8825\n",
            "Epoch 8/100\n",
            "7200/7200 [==============================] - 6s 872us/sample - loss: 0.3570 - accuracy: 0.8560 - val_loss: 0.3104 - val_accuracy: 0.8763\n",
            "Epoch 9/100\n",
            "7200/7200 [==============================] - 6s 869us/sample - loss: 0.3512 - accuracy: 0.8578 - val_loss: 0.3191 - val_accuracy: 0.8763\n",
            "Epoch 10/100\n",
            "7200/7200 [==============================] - 6s 900us/sample - loss: 0.3500 - accuracy: 0.8582 - val_loss: 0.3095 - val_accuracy: 0.8813\n",
            "Epoch 11/100\n",
            "7200/7200 [==============================] - 7s 963us/sample - loss: 0.3468 - accuracy: 0.8596 - val_loss: 0.3089 - val_accuracy: 0.8863\n",
            "Epoch 12/100\n",
            "7200/7200 [==============================] - 7s 940us/sample - loss: 0.3472 - accuracy: 0.8578 - val_loss: 0.3168 - val_accuracy: 0.8687\n",
            "Epoch 13/100\n",
            "7200/7200 [==============================] - 7s 940us/sample - loss: 0.3457 - accuracy: 0.8565 - val_loss: 0.3069 - val_accuracy: 0.8850\n",
            "Epoch 14/100\n",
            "7200/7200 [==============================] - 7s 936us/sample - loss: 0.3424 - accuracy: 0.8601 - val_loss: 0.3163 - val_accuracy: 0.8838\n",
            "Epoch 15/100\n",
            "7200/7200 [==============================] - 7s 928us/sample - loss: 0.3382 - accuracy: 0.8626 - val_loss: 0.3067 - val_accuracy: 0.8788\n",
            "Epoch 16/100\n",
            "7200/7200 [==============================] - 7s 908us/sample - loss: 0.3379 - accuracy: 0.8624 - val_loss: 0.3159 - val_accuracy: 0.8725\n",
            "Epoch 17/100\n",
            "7200/7200 [==============================] - 6s 899us/sample - loss: 0.3350 - accuracy: 0.8626 - val_loss: 0.3292 - val_accuracy: 0.8763\n",
            "Epoch 18/100\n",
            "7200/7200 [==============================] - 6s 892us/sample - loss: 0.3317 - accuracy: 0.8643 - val_loss: 0.3103 - val_accuracy: 0.8750\n",
            "Epoch 19/100\n",
            "7200/7200 [==============================] - 7s 920us/sample - loss: 0.3358 - accuracy: 0.8628 - val_loss: 0.3150 - val_accuracy: 0.8863\n",
            "Epoch 20/100\n",
            "7200/7200 [==============================] - 6s 902us/sample - loss: 0.3312 - accuracy: 0.8614 - val_loss: 0.3280 - val_accuracy: 0.8825\n",
            "Epoch 21/100\n",
            "7200/7200 [==============================] - 6s 898us/sample - loss: 0.3247 - accuracy: 0.8624 - val_loss: 0.2989 - val_accuracy: 0.8813\n",
            "Epoch 22/100\n",
            "7200/7200 [==============================] - 7s 906us/sample - loss: 0.3258 - accuracy: 0.8618 - val_loss: 0.3147 - val_accuracy: 0.8750\n",
            "Epoch 23/100\n",
            "7200/7200 [==============================] - 7s 948us/sample - loss: 0.3220 - accuracy: 0.8647 - val_loss: 0.3158 - val_accuracy: 0.8737\n",
            "Epoch 24/100\n",
            "7200/7200 [==============================] - 7s 950us/sample - loss: 0.3229 - accuracy: 0.8625 - val_loss: 0.3069 - val_accuracy: 0.8750\n",
            "Epoch 25/100\n",
            "7200/7200 [==============================] - 7s 950us/sample - loss: 0.3179 - accuracy: 0.8675 - val_loss: 0.3193 - val_accuracy: 0.8700\n",
            "Epoch 26/100\n",
            "7200/7200 [==============================] - 7s 941us/sample - loss: 0.3145 - accuracy: 0.8657 - val_loss: 0.3037 - val_accuracy: 0.8838\n",
            "Epoch 27/100\n",
            "7200/7200 [==============================] - 7s 919us/sample - loss: 0.3164 - accuracy: 0.8653 - val_loss: 0.3029 - val_accuracy: 0.8775\n",
            "Epoch 28/100\n",
            "7200/7200 [==============================] - 7s 946us/sample - loss: 0.3089 - accuracy: 0.8685 - val_loss: 0.3175 - val_accuracy: 0.8750\n",
            "Epoch 29/100\n",
            "7200/7200 [==============================] - 7s 938us/sample - loss: 0.3067 - accuracy: 0.8686 - val_loss: 0.3250 - val_accuracy: 0.8712\n",
            "Epoch 30/100\n",
            "7200/7200 [==============================] - 7s 919us/sample - loss: 0.3040 - accuracy: 0.8687 - val_loss: 0.3077 - val_accuracy: 0.8788\n",
            "Epoch 31/100\n",
            "7200/7200 [==============================] - 7s 917us/sample - loss: 0.3053 - accuracy: 0.8679 - val_loss: 0.3124 - val_accuracy: 0.8763\n",
            "Epoch 32/100\n",
            "7200/7200 [==============================] - 7s 948us/sample - loss: 0.2998 - accuracy: 0.8704 - val_loss: 0.3337 - val_accuracy: 0.8750\n",
            "Epoch 33/100\n",
            "7200/7200 [==============================] - 7s 919us/sample - loss: 0.2991 - accuracy: 0.8694 - val_loss: 0.3119 - val_accuracy: 0.8712\n",
            "Epoch 34/100\n",
            "7200/7200 [==============================] - 7s 906us/sample - loss: 0.2965 - accuracy: 0.8740 - val_loss: 0.3164 - val_accuracy: 0.8687\n",
            "Epoch 35/100\n",
            "7200/7200 [==============================] - 6s 897us/sample - loss: 0.2975 - accuracy: 0.8711 - val_loss: 0.3214 - val_accuracy: 0.8737\n",
            "Epoch 36/100\n",
            "7200/7200 [==============================] - 6s 894us/sample - loss: 0.2951 - accuracy: 0.8707 - val_loss: 0.3140 - val_accuracy: 0.8750\n",
            "Epoch 37/100\n",
            "7200/7200 [==============================] - 7s 940us/sample - loss: 0.2922 - accuracy: 0.8715 - val_loss: 0.3247 - val_accuracy: 0.8662\n",
            "Epoch 38/100\n",
            "7200/7200 [==============================] - 7s 945us/sample - loss: 0.2892 - accuracy: 0.8707 - val_loss: 0.3260 - val_accuracy: 0.8700\n",
            "Epoch 39/100\n",
            "7200/7200 [==============================] - 7s 944us/sample - loss: 0.2843 - accuracy: 0.8733 - val_loss: 0.3457 - val_accuracy: 0.8775\n",
            "Epoch 40/100\n",
            "7200/7200 [==============================] - 6s 890us/sample - loss: 0.2826 - accuracy: 0.8744 - val_loss: 0.3359 - val_accuracy: 0.8737\n",
            "Epoch 41/100\n",
            "7200/7200 [==============================] - 6s 880us/sample - loss: 0.2791 - accuracy: 0.8774 - val_loss: 0.3514 - val_accuracy: 0.8750\n",
            "Epoch 42/100\n",
            "7200/7200 [==============================] - 6s 899us/sample - loss: 0.2855 - accuracy: 0.8729 - val_loss: 0.3285 - val_accuracy: 0.8737\n",
            "Epoch 43/100\n",
            "7200/7200 [==============================] - 6s 898us/sample - loss: 0.2787 - accuracy: 0.8753 - val_loss: 0.3304 - val_accuracy: 0.8662\n",
            "Epoch 44/100\n",
            "7200/7200 [==============================] - 6s 884us/sample - loss: 0.2777 - accuracy: 0.8779 - val_loss: 0.3382 - val_accuracy: 0.8763\n",
            "Epoch 45/100\n",
            "7200/7200 [==============================] - 7s 911us/sample - loss: 0.2755 - accuracy: 0.8769 - val_loss: 0.3359 - val_accuracy: 0.8712\n",
            "Epoch 46/100\n",
            "7200/7200 [==============================] - 7s 905us/sample - loss: 0.2734 - accuracy: 0.8757 - val_loss: 0.3780 - val_accuracy: 0.8750\n",
            "Epoch 47/100\n",
            "7200/7200 [==============================] - 6s 887us/sample - loss: 0.2721 - accuracy: 0.8796 - val_loss: 0.3466 - val_accuracy: 0.8650\n",
            "Epoch 48/100\n",
            "7200/7200 [==============================] - 6s 880us/sample - loss: 0.2767 - accuracy: 0.8740 - val_loss: 0.3341 - val_accuracy: 0.8712\n",
            "Epoch 49/100\n",
            "7200/7200 [==============================] - 6s 877us/sample - loss: 0.2676 - accuracy: 0.8779 - val_loss: 0.3819 - val_accuracy: 0.8800\n",
            "Epoch 50/100\n",
            "7200/7200 [==============================] - 6s 895us/sample - loss: 0.2635 - accuracy: 0.8776 - val_loss: 0.3808 - val_accuracy: 0.8662\n",
            "Epoch 51/100\n",
            "7200/7200 [==============================] - 6s 880us/sample - loss: 0.2591 - accuracy: 0.8772 - val_loss: 0.3799 - val_accuracy: 0.8712\n",
            "Epoch 52/100\n",
            "7200/7200 [==============================] - 6s 869us/sample - loss: 0.2594 - accuracy: 0.8796 - val_loss: 0.3550 - val_accuracy: 0.8800\n",
            "Epoch 53/100\n",
            "7200/7200 [==============================] - 6s 836us/sample - loss: 0.2587 - accuracy: 0.8794 - val_loss: 0.3922 - val_accuracy: 0.8712\n",
            "Epoch 54/100\n",
            "7200/7200 [==============================] - 6s 874us/sample - loss: 0.2597 - accuracy: 0.8794 - val_loss: 0.3783 - val_accuracy: 0.8637\n",
            "Epoch 55/100\n",
            "7200/7200 [==============================] - 6s 882us/sample - loss: 0.2533 - accuracy: 0.8804 - val_loss: 0.4269 - val_accuracy: 0.8662\n",
            "Epoch 56/100\n",
            "7200/7200 [==============================] - 7s 918us/sample - loss: 0.2523 - accuracy: 0.8821 - val_loss: 0.3838 - val_accuracy: 0.8687\n",
            "Epoch 57/100\n",
            "7200/7200 [==============================] - 6s 897us/sample - loss: 0.2496 - accuracy: 0.8810 - val_loss: 0.3737 - val_accuracy: 0.8788\n",
            "Epoch 58/100\n",
            "7200/7200 [==============================] - 6s 848us/sample - loss: 0.2542 - accuracy: 0.8817 - val_loss: 0.3593 - val_accuracy: 0.8725\n",
            "Epoch 59/100\n",
            "7200/7200 [==============================] - 6s 851us/sample - loss: 0.2521 - accuracy: 0.8782 - val_loss: 0.4159 - val_accuracy: 0.8750\n",
            "Epoch 60/100\n",
            "7200/7200 [==============================] - 6s 853us/sample - loss: 0.2438 - accuracy: 0.8806 - val_loss: 0.4294 - val_accuracy: 0.8737\n",
            "Epoch 61/100\n",
            "7200/7200 [==============================] - 6s 883us/sample - loss: 0.2497 - accuracy: 0.8819 - val_loss: 0.4108 - val_accuracy: 0.8650\n",
            "Epoch 62/100\n",
            "7200/7200 [==============================] - 6s 890us/sample - loss: 0.2459 - accuracy: 0.8831 - val_loss: 0.3705 - val_accuracy: 0.8650\n",
            "Epoch 63/100\n",
            "7200/7200 [==============================] - 6s 879us/sample - loss: 0.2425 - accuracy: 0.8858 - val_loss: 0.4491 - val_accuracy: 0.8650\n",
            "Epoch 64/100\n",
            "7200/7200 [==============================] - 6s 841us/sample - loss: 0.2440 - accuracy: 0.8808 - val_loss: 0.3951 - val_accuracy: 0.8737\n",
            "Epoch 65/100\n",
            "7200/7200 [==============================] - 6s 843us/sample - loss: 0.2424 - accuracy: 0.8849 - val_loss: 0.4445 - val_accuracy: 0.8637\n",
            "Epoch 66/100\n",
            "7200/7200 [==============================] - 6s 833us/sample - loss: 0.2411 - accuracy: 0.8833 - val_loss: 0.4420 - val_accuracy: 0.8838\n",
            "Epoch 67/100\n",
            "7200/7200 [==============================] - 6s 813us/sample - loss: 0.2433 - accuracy: 0.8817 - val_loss: 0.4006 - val_accuracy: 0.8700\n",
            "Epoch 68/100\n",
            "7200/7200 [==============================] - 6s 837us/sample - loss: 0.2433 - accuracy: 0.8814 - val_loss: 0.4156 - val_accuracy: 0.8675\n",
            "Epoch 69/100\n",
            "7200/7200 [==============================] - 6s 851us/sample - loss: 0.2362 - accuracy: 0.8911 - val_loss: 0.4032 - val_accuracy: 0.8750\n",
            "Epoch 70/100\n",
            "7200/7200 [==============================] - 6s 817us/sample - loss: 0.2321 - accuracy: 0.8833 - val_loss: 0.4868 - val_accuracy: 0.8712\n",
            "Epoch 71/100\n",
            "7200/7200 [==============================] - 6s 861us/sample - loss: 0.2378 - accuracy: 0.8903 - val_loss: 0.3873 - val_accuracy: 0.8788\n",
            "Epoch 72/100\n",
            "7200/7200 [==============================] - 6s 829us/sample - loss: 0.2343 - accuracy: 0.8868 - val_loss: 0.5151 - val_accuracy: 0.8687\n",
            "Epoch 73/100\n",
            "7200/7200 [==============================] - 7s 906us/sample - loss: 0.2358 - accuracy: 0.8838 - val_loss: 0.5471 - val_accuracy: 0.8675\n",
            "Epoch 74/100\n",
            "7200/7200 [==============================] - 6s 850us/sample - loss: 0.2346 - accuracy: 0.8903 - val_loss: 0.4184 - val_accuracy: 0.8712\n",
            "Epoch 75/100\n",
            "7200/7200 [==============================] - 6s 863us/sample - loss: 0.2246 - accuracy: 0.8929 - val_loss: 0.4484 - val_accuracy: 0.8725\n",
            "Epoch 76/100\n",
            "7200/7200 [==============================] - 6s 843us/sample - loss: 0.2273 - accuracy: 0.8939 - val_loss: 0.4127 - val_accuracy: 0.8587\n",
            "Epoch 77/100\n",
            "7200/7200 [==============================] - 6s 868us/sample - loss: 0.2270 - accuracy: 0.8917 - val_loss: 0.4925 - val_accuracy: 0.8662\n",
            "Epoch 78/100\n",
            "7200/7200 [==============================] - 6s 865us/sample - loss: 0.2166 - accuracy: 0.8938 - val_loss: 0.4757 - val_accuracy: 0.8712\n",
            "Epoch 79/100\n",
            "7200/7200 [==============================] - 6s 840us/sample - loss: 0.2184 - accuracy: 0.8929 - val_loss: 0.4949 - val_accuracy: 0.8625\n",
            "Epoch 80/100\n",
            "7200/7200 [==============================] - 6s 847us/sample - loss: 0.2254 - accuracy: 0.8938 - val_loss: 0.5509 - val_accuracy: 0.8725\n",
            "Epoch 81/100\n",
            "7200/7200 [==============================] - 6s 843us/sample - loss: 0.2254 - accuracy: 0.8931 - val_loss: 0.4833 - val_accuracy: 0.8687\n",
            "Epoch 82/100\n",
            "7200/7200 [==============================] - 6s 850us/sample - loss: 0.2214 - accuracy: 0.8897 - val_loss: 0.4887 - val_accuracy: 0.8662\n",
            "Epoch 83/100\n",
            "7200/7200 [==============================] - 6s 851us/sample - loss: 0.2174 - accuracy: 0.8960 - val_loss: 0.5245 - val_accuracy: 0.8725\n",
            "Epoch 84/100\n",
            "7200/7200 [==============================] - 6s 862us/sample - loss: 0.2147 - accuracy: 0.8939 - val_loss: 0.5148 - val_accuracy: 0.8650\n",
            "Epoch 85/100\n",
            "7200/7200 [==============================] - 6s 896us/sample - loss: 0.2206 - accuracy: 0.8913 - val_loss: 0.5531 - val_accuracy: 0.8712\n",
            "Epoch 86/100\n",
            "7200/7200 [==============================] - 6s 845us/sample - loss: 0.2147 - accuracy: 0.8944 - val_loss: 0.5139 - val_accuracy: 0.8687\n",
            "Epoch 87/100\n",
            "7200/7200 [==============================] - 6s 862us/sample - loss: 0.2233 - accuracy: 0.8929 - val_loss: 0.4934 - val_accuracy: 0.8550\n",
            "Epoch 88/100\n",
            "7200/7200 [==============================] - 6s 866us/sample - loss: 0.2145 - accuracy: 0.8899 - val_loss: 0.5312 - val_accuracy: 0.8662\n",
            "Epoch 89/100\n",
            "7200/7200 [==============================] - 6s 862us/sample - loss: 0.2110 - accuracy: 0.8929 - val_loss: 0.4772 - val_accuracy: 0.8662\n",
            "Epoch 90/100\n",
            "7200/7200 [==============================] - 6s 864us/sample - loss: 0.2188 - accuracy: 0.8918 - val_loss: 0.4943 - val_accuracy: 0.8725\n",
            "Epoch 91/100\n",
            "7200/7200 [==============================] - 7s 907us/sample - loss: 0.2102 - accuracy: 0.8958 - val_loss: 0.5632 - val_accuracy: 0.8562\n",
            "Epoch 92/100\n",
            "7200/7200 [==============================] - 6s 856us/sample - loss: 0.2085 - accuracy: 0.8963 - val_loss: 0.5735 - val_accuracy: 0.8725\n",
            "Epoch 93/100\n",
            "7200/7200 [==============================] - 6s 852us/sample - loss: 0.2041 - accuracy: 0.8956 - val_loss: 0.5242 - val_accuracy: 0.8600\n",
            "Epoch 94/100\n",
            "7200/7200 [==============================] - 6s 885us/sample - loss: 0.2065 - accuracy: 0.9008 - val_loss: 0.6124 - val_accuracy: 0.8662\n",
            "Epoch 95/100\n",
            "7200/7200 [==============================] - 6s 884us/sample - loss: 0.2099 - accuracy: 0.8954 - val_loss: 0.5147 - val_accuracy: 0.8600\n",
            "Epoch 96/100\n",
            "7200/7200 [==============================] - 6s 867us/sample - loss: 0.1995 - accuracy: 0.9024 - val_loss: 0.6018 - val_accuracy: 0.8625\n",
            "Epoch 97/100\n",
            "7200/7200 [==============================] - 7s 931us/sample - loss: 0.2138 - accuracy: 0.8956 - val_loss: 0.5660 - val_accuracy: 0.8650\n",
            "Epoch 98/100\n",
            "7200/7200 [==============================] - 7s 950us/sample - loss: 0.2054 - accuracy: 0.8983 - val_loss: 0.6181 - val_accuracy: 0.8662\n",
            "Epoch 99/100\n",
            "7200/7200 [==============================] - 7s 922us/sample - loss: 0.2052 - accuracy: 0.8979 - val_loss: 0.6374 - val_accuracy: 0.8625\n",
            "Epoch 100/100\n",
            "7200/7200 [==============================] - 7s 921us/sample - loss: 0.2057 - accuracy: 0.8996 - val_loss: 0.5896 - val_accuracy: 0.8637\n"
          ],
          "name": "stdout"
        }
      ]
    },
    {
      "cell_type": "code",
      "metadata": {
        "id": "BI9wSiyEFEsA",
        "colab_type": "code",
        "colab": {
          "base_uri": "https://localhost:8080/",
          "height": 51
        },
        "outputId": "c67c1b20-fa36-4970-9c59-190a41d02735"
      },
      "source": [
        "model.evaluate(X_test,y_test.to_numpy())\n"
      ],
      "execution_count": 65,
      "outputs": [
        {
          "output_type": "stream",
          "text": [
            "2000/2000 [==============================] - 0s 125us/sample - loss: 0.6891 - accuracy: 0.8510\n"
          ],
          "name": "stdout"
        },
        {
          "output_type": "execute_result",
          "data": {
            "text/plain": [
              "[0.6890958025455475, 0.851]"
            ]
          },
          "metadata": {
            "tags": []
          },
          "execution_count": 65
        }
      ]
    },
    {
      "cell_type": "code",
      "metadata": {
        "id": "4BP0Czx4G5zq",
        "colab_type": "code",
        "colab": {}
      },
      "source": [
        ""
      ],
      "execution_count": 0,
      "outputs": []
    }
  ]
}