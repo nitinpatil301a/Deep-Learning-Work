{
  "nbformat": 4,
  "nbformat_minor": 0,
  "metadata": {
    "colab": {
      "name": "airline passengers RNN.ipynb",
      "provenance": [],
      "authorship_tag": "ABX9TyOaRFMjSlFL5kUjiPdQE9qB",
      "include_colab_link": true
    },
    "kernelspec": {
      "name": "python3",
      "display_name": "Python 3"
    },
    "accelerator": "TPU"
  },
  "cells": [
    {
      "cell_type": "markdown",
      "metadata": {
        "id": "view-in-github",
        "colab_type": "text"
      },
      "source": [
        "<a href=\"https://colab.research.google.com/github/nitinpatil301a/Tensorflow-Keras-Work/blob/master/airline_passengers_RNN.ipynb\" target=\"_parent\"><img src=\"https://colab.research.google.com/assets/colab-badge.svg\" alt=\"Open In Colab\"/></a>"
      ]
    },
    {
      "cell_type": "code",
      "metadata": {
        "id": "pB_mPsDZzu9W",
        "colab_type": "code",
        "colab": {
          "base_uri": "https://localhost:8080/",
          "height": 102
        },
        "outputId": "3c743722-8f9d-429b-ac8b-c43b451dfabb"
      },
      "source": [
        "%tensorflow_version 2.0.0\n",
        "import tensorflow as tf\n",
        "import numpy as np\n",
        "import pandas as pd\n",
        "import matplotlib.pyplot as plt\n",
        "from tensorflow.keras.layers import LSTM, Dropout,Dense\n",
        "from tensorflow.keras import Sequential\n",
        "from sklearn.preprocessing import MinMaxScaler"
      ],
      "execution_count": 1,
      "outputs": [
        {
          "output_type": "stream",
          "text": [
            "`%tensorflow_version` only switches the major version: 1.x or 2.x.\n",
            "You set: `2.0.0`. This will be interpreted as: `2.x`.\n",
            "\n",
            "\n",
            "TensorFlow 2.x selected.\n"
          ],
          "name": "stdout"
        }
      ]
    },
    {
      "cell_type": "code",
      "metadata": {
        "id": "pE2XPEQB1Y7n",
        "colab_type": "code",
        "colab": {
          "base_uri": "https://localhost:8080/",
          "height": 119
        },
        "outputId": "290b13d3-c6c8-4687-a9ec-167250016968"
      },
      "source": [
        "!git clone https://github.com/nitinpatil301a/Tensorflow-Keras-Work.git"
      ],
      "execution_count": 2,
      "outputs": [
        {
          "output_type": "stream",
          "text": [
            "Cloning into 'Tensorflow-Keras-Work'...\n",
            "remote: Enumerating objects: 51, done.\u001b[K\n",
            "remote: Counting objects:   1% (1/51)\u001b[K\rremote: Counting objects:   3% (2/51)\u001b[K\rremote: Counting objects:   5% (3/51)\u001b[K\rremote: Counting objects:   7% (4/51)\u001b[K\rremote: Counting objects:   9% (5/51)\u001b[K\rremote: Counting objects:  11% (6/51)\u001b[K\rremote: Counting objects:  13% (7/51)\u001b[K\rremote: Counting objects:  15% (8/51)\u001b[K\rremote: Counting objects:  17% (9/51)\u001b[K\rremote: Counting objects:  19% (10/51)\u001b[K\rremote: Counting objects:  21% (11/51)\u001b[K\rremote: Counting objects:  23% (12/51)\u001b[K\rremote: Counting objects:  25% (13/51)\u001b[K\rremote: Counting objects:  27% (14/51)\u001b[K\rremote: Counting objects:  29% (15/51)\u001b[K\rremote: Counting objects:  31% (16/51)\u001b[K\rremote: Counting objects:  33% (17/51)\u001b[K\rremote: Counting objects:  35% (18/51)\u001b[K\rremote: Counting objects:  37% (19/51)\u001b[K\rremote: Counting objects:  39% (20/51)\u001b[K\rremote: Counting objects:  41% (21/51)\u001b[K\rremote: Counting objects:  43% (22/51)\u001b[K\rremote: Counting objects:  45% (23/51)\u001b[K\rremote: Counting objects:  47% (24/51)\u001b[K\rremote: Counting objects:  49% (25/51)\u001b[K\rremote: Counting objects:  50% (26/51)\u001b[K\rremote: Counting objects:  52% (27/51)\u001b[K\rremote: Counting objects:  54% (28/51)\u001b[K\rremote: Counting objects:  56% (29/51)\u001b[K\rremote: Counting objects:  58% (30/51)\u001b[K\rremote: Counting objects:  60% (31/51)\u001b[K\rremote: Counting objects:  62% (32/51)\u001b[K\rremote: Counting objects:  64% (33/51)\u001b[K\rremote: Counting objects:  66% (34/51)\u001b[K\rremote: Counting objects:  68% (35/51)\u001b[K\rremote: Counting objects:  70% (36/51)\u001b[K\rremote: Counting objects:  72% (37/51)\u001b[K\rremote: Counting objects:  74% (38/51)\u001b[K\rremote: Counting objects:  76% (39/51)\u001b[K\rremote: Counting objects:  78% (40/51)\u001b[K\rremote: Counting objects:  80% (41/51)\u001b[K\rremote: Counting objects:  82% (42/51)\u001b[K\rremote: Counting objects:  84% (43/51)\u001b[K\rremote: Counting objects:  86% (44/51)\u001b[K\rremote: Counting objects:  88% (45/51)\u001b[K\rremote: Counting objects:  90% (46/51)\u001b[K\rremote: Counting objects:  92% (47/51)\u001b[K\rremote: Counting objects:  94% (48/51)\u001b[K\rremote: Counting objects:  96% (49/51)\u001b[K\rremote: Counting objects:  98% (50/51)\u001b[K\rremote: Counting objects: 100% (51/51)\u001b[K\rremote: Counting objects: 100% (51/51), done.\u001b[K\n",
            "remote: Compressing objects:   1% (1/51)\u001b[K\rremote: Compressing objects:   3% (2/51)\u001b[K\rremote: Compressing objects:   5% (3/51)\u001b[K\rremote: Compressing objects:   7% (4/51)\u001b[K\rremote: Compressing objects:   9% (5/51)\u001b[K\rremote: Compressing objects:  11% (6/51)\u001b[K\rremote: Compressing objects:  13% (7/51)\u001b[K\rremote: Compressing objects:  15% (8/51)\u001b[K\rremote: Compressing objects:  17% (9/51)\u001b[K\rremote: Compressing objects:  19% (10/51)\u001b[K\rremote: Compressing objects:  21% (11/51)\u001b[K\rremote: Compressing objects:  23% (12/51)\u001b[K\rremote: Compressing objects:  25% (13/51)\u001b[K\rremote: Compressing objects:  27% (14/51)\u001b[K\rremote: Compressing objects:  29% (15/51)\u001b[K\rremote: Compressing objects:  31% (16/51)\u001b[K\rremote: Compressing objects:  33% (17/51)\u001b[K\rremote: Compressing objects:  35% (18/51)\u001b[K\rremote: Compressing objects:  37% (19/51)\u001b[K\rremote: Compressing objects:  39% (20/51)\u001b[K\rremote: Compressing objects:  41% (21/51)\u001b[K\rremote: Compressing objects:  43% (22/51)\u001b[K\rremote: Compressing objects:  45% (23/51)\u001b[K\rremote: Compressing objects:  47% (24/51)\u001b[K\rremote: Compressing objects:  49% (25/51)\u001b[K\rremote: Compressing objects:  50% (26/51)\u001b[K\rremote: Compressing objects:  52% (27/51)\u001b[K\rremote: Compressing objects:  54% (28/51)\u001b[K\rremote: Compressing objects:  56% (29/51)\u001b[K\rremote: Compressing objects:  58% (30/51)\u001b[K\rremote: Compressing objects:  60% (31/51)\u001b[K\rremote: Compressing objects:  62% (32/51)\u001b[K\rremote: Compressing objects:  64% (33/51)\u001b[K\rremote: Compressing objects:  66% (34/51)\u001b[K\rremote: Compressing objects:  68% (35/51)\u001b[K\rremote: Compressing objects:  70% (36/51)\u001b[K\rremote: Compressing objects:  72% (37/51)\u001b[K\rremote: Compressing objects:  74% (38/51)\u001b[K\rremote: Compressing objects:  76% (39/51)\u001b[K\rremote: Compressing objects:  78% (40/51)\u001b[K\rremote: Compressing objects:  80% (41/51)\u001b[K\rremote: Compressing objects:  82% (42/51)\u001b[K\rremote: Compressing objects:  84% (43/51)\u001b[K\rremote: Compressing objects:  86% (44/51)\u001b[K\rremote: Compressing objects:  88% (45/51)\u001b[K\rremote: Compressing objects:  90% (46/51)\u001b[K\rremote: Compressing objects:  92% (47/51)\u001b[K\rremote: Compressing objects:  94% (48/51)\u001b[K\rremote: Compressing objects:  96% (49/51)\u001b[K\rremote: Compressing objects:  98% (50/51)\u001b[K\rremote: Compressing objects: 100% (51/51)\u001b[K\rremote: Compressing objects: 100% (51/51), done.\u001b[K\n",
            "remote: Total 51 (delta 18), reused 0 (delta 0), pack-reused 0\u001b[K\n",
            "Unpacking objects: 100% (51/51), done.\n"
          ],
          "name": "stdout"
        }
      ]
    },
    {
      "cell_type": "code",
      "metadata": {
        "id": "911IzDoZ1Zkr",
        "colab_type": "code",
        "colab": {
          "base_uri": "https://localhost:8080/",
          "height": 204
        },
        "outputId": "18873f14-7da6-495a-a829-2e6c060a14a5"
      },
      "source": [
        "dataset = pd.read_csv('/content/Tensorflow-Keras-Work/AirPassengers.csv')\n",
        "dataset.head()"
      ],
      "execution_count": 3,
      "outputs": [
        {
          "output_type": "execute_result",
          "data": {
            "text/html": [
              "<div>\n",
              "<style scoped>\n",
              "    .dataframe tbody tr th:only-of-type {\n",
              "        vertical-align: middle;\n",
              "    }\n",
              "\n",
              "    .dataframe tbody tr th {\n",
              "        vertical-align: top;\n",
              "    }\n",
              "\n",
              "    .dataframe thead th {\n",
              "        text-align: right;\n",
              "    }\n",
              "</style>\n",
              "<table border=\"1\" class=\"dataframe\">\n",
              "  <thead>\n",
              "    <tr style=\"text-align: right;\">\n",
              "      <th></th>\n",
              "      <th>Month</th>\n",
              "      <th>#Passengers</th>\n",
              "    </tr>\n",
              "  </thead>\n",
              "  <tbody>\n",
              "    <tr>\n",
              "      <th>0</th>\n",
              "      <td>1949-01</td>\n",
              "      <td>112</td>\n",
              "    </tr>\n",
              "    <tr>\n",
              "      <th>1</th>\n",
              "      <td>1949-02</td>\n",
              "      <td>118</td>\n",
              "    </tr>\n",
              "    <tr>\n",
              "      <th>2</th>\n",
              "      <td>1949-03</td>\n",
              "      <td>132</td>\n",
              "    </tr>\n",
              "    <tr>\n",
              "      <th>3</th>\n",
              "      <td>1949-04</td>\n",
              "      <td>129</td>\n",
              "    </tr>\n",
              "    <tr>\n",
              "      <th>4</th>\n",
              "      <td>1949-05</td>\n",
              "      <td>121</td>\n",
              "    </tr>\n",
              "  </tbody>\n",
              "</table>\n",
              "</div>"
            ],
            "text/plain": [
              "     Month  #Passengers\n",
              "0  1949-01          112\n",
              "1  1949-02          118\n",
              "2  1949-03          132\n",
              "3  1949-04          129\n",
              "4  1949-05          121"
            ]
          },
          "metadata": {
            "tags": []
          },
          "execution_count": 3
        }
      ]
    },
    {
      "cell_type": "code",
      "metadata": {
        "id": "Py97m9lz1vk2",
        "colab_type": "code",
        "colab": {
          "base_uri": "https://localhost:8080/",
          "height": 34
        },
        "outputId": "830951de-1e20-49e8-cc92-577e4144d968"
      },
      "source": [
        "dataset = dataset['#Passengers']\n",
        "dataset = np.array(dataset).reshape(-1,1)\n",
        "dataset.shape"
      ],
      "execution_count": 4,
      "outputs": [
        {
          "output_type": "execute_result",
          "data": {
            "text/plain": [
              "(144, 1)"
            ]
          },
          "metadata": {
            "tags": []
          },
          "execution_count": 4
        }
      ]
    },
    {
      "cell_type": "code",
      "metadata": {
        "id": "MDRoOU-m19fi",
        "colab_type": "code",
        "colab": {
          "base_uri": "https://localhost:8080/",
          "height": 1000
        },
        "outputId": "1d441dbe-c6f8-4dc7-c698-2e2dd4cce188"
      },
      "source": [
        "dataset"
      ],
      "execution_count": 5,
      "outputs": [
        {
          "output_type": "execute_result",
          "data": {
            "text/plain": [
              "array([[112],\n",
              "       [118],\n",
              "       [132],\n",
              "       [129],\n",
              "       [121],\n",
              "       [135],\n",
              "       [148],\n",
              "       [148],\n",
              "       [136],\n",
              "       [119],\n",
              "       [104],\n",
              "       [118],\n",
              "       [115],\n",
              "       [126],\n",
              "       [141],\n",
              "       [135],\n",
              "       [125],\n",
              "       [149],\n",
              "       [170],\n",
              "       [170],\n",
              "       [158],\n",
              "       [133],\n",
              "       [114],\n",
              "       [140],\n",
              "       [145],\n",
              "       [150],\n",
              "       [178],\n",
              "       [163],\n",
              "       [172],\n",
              "       [178],\n",
              "       [199],\n",
              "       [199],\n",
              "       [184],\n",
              "       [162],\n",
              "       [146],\n",
              "       [166],\n",
              "       [171],\n",
              "       [180],\n",
              "       [193],\n",
              "       [181],\n",
              "       [183],\n",
              "       [218],\n",
              "       [230],\n",
              "       [242],\n",
              "       [209],\n",
              "       [191],\n",
              "       [172],\n",
              "       [194],\n",
              "       [196],\n",
              "       [196],\n",
              "       [236],\n",
              "       [235],\n",
              "       [229],\n",
              "       [243],\n",
              "       [264],\n",
              "       [272],\n",
              "       [237],\n",
              "       [211],\n",
              "       [180],\n",
              "       [201],\n",
              "       [204],\n",
              "       [188],\n",
              "       [235],\n",
              "       [227],\n",
              "       [234],\n",
              "       [264],\n",
              "       [302],\n",
              "       [293],\n",
              "       [259],\n",
              "       [229],\n",
              "       [203],\n",
              "       [229],\n",
              "       [242],\n",
              "       [233],\n",
              "       [267],\n",
              "       [269],\n",
              "       [270],\n",
              "       [315],\n",
              "       [364],\n",
              "       [347],\n",
              "       [312],\n",
              "       [274],\n",
              "       [237],\n",
              "       [278],\n",
              "       [284],\n",
              "       [277],\n",
              "       [317],\n",
              "       [313],\n",
              "       [318],\n",
              "       [374],\n",
              "       [413],\n",
              "       [405],\n",
              "       [355],\n",
              "       [306],\n",
              "       [271],\n",
              "       [306],\n",
              "       [315],\n",
              "       [301],\n",
              "       [356],\n",
              "       [348],\n",
              "       [355],\n",
              "       [422],\n",
              "       [465],\n",
              "       [467],\n",
              "       [404],\n",
              "       [347],\n",
              "       [305],\n",
              "       [336],\n",
              "       [340],\n",
              "       [318],\n",
              "       [362],\n",
              "       [348],\n",
              "       [363],\n",
              "       [435],\n",
              "       [491],\n",
              "       [505],\n",
              "       [404],\n",
              "       [359],\n",
              "       [310],\n",
              "       [337],\n",
              "       [360],\n",
              "       [342],\n",
              "       [406],\n",
              "       [396],\n",
              "       [420],\n",
              "       [472],\n",
              "       [548],\n",
              "       [559],\n",
              "       [463],\n",
              "       [407],\n",
              "       [362],\n",
              "       [405],\n",
              "       [417],\n",
              "       [391],\n",
              "       [419],\n",
              "       [461],\n",
              "       [472],\n",
              "       [535],\n",
              "       [622],\n",
              "       [606],\n",
              "       [508],\n",
              "       [461],\n",
              "       [390],\n",
              "       [432]])"
            ]
          },
          "metadata": {
            "tags": []
          },
          "execution_count": 5
        }
      ]
    },
    {
      "cell_type": "code",
      "metadata": {
        "id": "qi7fKfaq2YhO",
        "colab_type": "code",
        "colab": {
          "base_uri": "https://localhost:8080/",
          "height": 282
        },
        "outputId": "417c82ca-38aa-460e-8729-2d8661bdc384"
      },
      "source": [
        "plt.plot(dataset)"
      ],
      "execution_count": 6,
      "outputs": [
        {
          "output_type": "execute_result",
          "data": {
            "text/plain": [
              "[<matplotlib.lines.Line2D at 0x7fddbbe93630>]"
            ]
          },
          "metadata": {
            "tags": []
          },
          "execution_count": 6
        },
        {
          "output_type": "display_data",
          "data": {
            "image/png": "[encoded data removed]",
            "text/plain": [
              "<Figure size 432x288 with 1 Axes>"
            ]
          },
          "metadata": {
            "tags": []
          }
        }
      ]
    },
    {
      "cell_type": "code",
      "metadata": {
        "id": "zFZXYhKx2oBr",
        "colab_type": "code",
        "colab": {}
      },
      "source": [
        "scaler = MinMaxScaler()\n",
        "dataset = scaler.fit_transform(dataset)\n"
      ],
      "execution_count": 0,
      "outputs": []
    },
    {
      "cell_type": "code",
      "metadata": {
        "id": "UPR8-nso2u5P",
        "colab_type": "code",
        "colab": {}
      },
      "source": [
        "train_size = 100\n",
        "test_size = 44"
      ],
      "execution_count": 0,
      "outputs": []
    },
    {
      "cell_type": "code",
      "metadata": {
        "id": "JY99nqYP2x7U",
        "colab_type": "code",
        "colab": {
          "base_uri": "https://localhost:8080/",
          "height": 34
        },
        "outputId": "94b43fcb-1f7b-498b-b212-68968affdd6d"
      },
      "source": [
        "train = dataset[0:train_size, :]\n",
        "train.shape"
      ],
      "execution_count": 9,
      "outputs": [
        {
          "output_type": "execute_result",
          "data": {
            "text/plain": [
              "(100, 1)"
            ]
          },
          "metadata": {
            "tags": []
          },
          "execution_count": 9
        }
      ]
    },
    {
      "cell_type": "code",
      "metadata": {
        "id": "mwlyRqeU2-9r",
        "colab_type": "code",
        "colab": {
          "base_uri": "https://localhost:8080/",
          "height": 34
        },
        "outputId": "da390f5b-5c26-47d4-9323-3e7c52cc46cb"
      },
      "source": [
        "test = dataset[train_size:144, :]\n",
        "test.shape"
      ],
      "execution_count": 10,
      "outputs": [
        {
          "output_type": "execute_result",
          "data": {
            "text/plain": [
              "(44, 1)"
            ]
          },
          "metadata": {
            "tags": []
          },
          "execution_count": 10
        }
      ]
    },
    {
      "cell_type": "code",
      "metadata": {
        "id": "EdclG0eU3GNs",
        "colab_type": "code",
        "colab": {}
      },
      "source": [
        "def get_data(dataset, look_back):\n",
        "    dataX, dataY = [], []\n",
        "    for i in range(len(dataset)-look_back-1):\n",
        "        a = dataset[i:(i+look_back), 0]\n",
        "        dataX.append(a)\n",
        "        dataY.append(dataset[i+look_back, 0])\n",
        "    return np.array(dataX), np.array(dataY)"
      ],
      "execution_count": 0,
      "outputs": []
    },
    {
      "cell_type": "code",
      "metadata": {
        "id": "tsmucTve42-h",
        "colab_type": "code",
        "colab": {}
      },
      "source": [
        "look_back = 1\n",
        "X_train, y_train = get_data(train, look_back)"
      ],
      "execution_count": 0,
      "outputs": []
    },
    {
      "cell_type": "code",
      "metadata": {
        "id": "QcxEaR0A46vf",
        "colab_type": "code",
        "colab": {
          "base_uri": "https://localhost:8080/",
          "height": 1000
        },
        "outputId": "55d26e90-b399-442b-d3be-f0896527b357"
      },
      "source": [
        "X_train"
      ],
      "execution_count": 13,
      "outputs": [
        {
          "output_type": "execute_result",
          "data": {
            "text/plain": [
              "array([[0.01544402],\n",
              "       [0.02702703],\n",
              "       [0.05405405],\n",
              "       [0.04826255],\n",
              "       [0.03281853],\n",
              "       [0.05984556],\n",
              "       [0.08494208],\n",
              "       [0.08494208],\n",
              "       [0.06177606],\n",
              "       [0.02895753],\n",
              "       [0.        ],\n",
              "       [0.02702703],\n",
              "       [0.02123552],\n",
              "       [0.04247104],\n",
              "       [0.07142857],\n",
              "       [0.05984556],\n",
              "       [0.04054054],\n",
              "       [0.08687259],\n",
              "       [0.12741313],\n",
              "       [0.12741313],\n",
              "       [0.1042471 ],\n",
              "       [0.05598456],\n",
              "       [0.01930502],\n",
              "       [0.06949807],\n",
              "       [0.07915058],\n",
              "       [0.08880309],\n",
              "       [0.14285714],\n",
              "       [0.11389961],\n",
              "       [0.13127413],\n",
              "       [0.14285714],\n",
              "       [0.18339768],\n",
              "       [0.18339768],\n",
              "       [0.15444015],\n",
              "       [0.11196911],\n",
              "       [0.08108108],\n",
              "       [0.11969112],\n",
              "       [0.12934363],\n",
              "       [0.14671815],\n",
              "       [0.17181467],\n",
              "       [0.14864865],\n",
              "       [0.15250965],\n",
              "       [0.22007722],\n",
              "       [0.24324324],\n",
              "       [0.26640927],\n",
              "       [0.2027027 ],\n",
              "       [0.16795367],\n",
              "       [0.13127413],\n",
              "       [0.17374517],\n",
              "       [0.17760618],\n",
              "       [0.17760618],\n",
              "       [0.25482625],\n",
              "       [0.25289575],\n",
              "       [0.24131274],\n",
              "       [0.26833977],\n",
              "       [0.30888031],\n",
              "       [0.32432432],\n",
              "       [0.25675676],\n",
              "       [0.20656371],\n",
              "       [0.14671815],\n",
              "       [0.18725869],\n",
              "       [0.19305019],\n",
              "       [0.16216216],\n",
              "       [0.25289575],\n",
              "       [0.23745174],\n",
              "       [0.25096525],\n",
              "       [0.30888031],\n",
              "       [0.38223938],\n",
              "       [0.36486486],\n",
              "       [0.2992278 ],\n",
              "       [0.24131274],\n",
              "       [0.19111969],\n",
              "       [0.24131274],\n",
              "       [0.26640927],\n",
              "       [0.24903475],\n",
              "       [0.31467181],\n",
              "       [0.31853282],\n",
              "       [0.32046332],\n",
              "       [0.40733591],\n",
              "       [0.5019305 ],\n",
              "       [0.46911197],\n",
              "       [0.4015444 ],\n",
              "       [0.32818533],\n",
              "       [0.25675676],\n",
              "       [0.33590734],\n",
              "       [0.34749035],\n",
              "       [0.33397683],\n",
              "       [0.41119691],\n",
              "       [0.4034749 ],\n",
              "       [0.41312741],\n",
              "       [0.52123552],\n",
              "       [0.5965251 ],\n",
              "       [0.58108108],\n",
              "       [0.48455598],\n",
              "       [0.38996139],\n",
              "       [0.32239382],\n",
              "       [0.38996139],\n",
              "       [0.40733591],\n",
              "       [0.38030888]])"
            ]
          },
          "metadata": {
            "tags": []
          },
          "execution_count": 13
        }
      ]
    },
    {
      "cell_type": "code",
      "metadata": {
        "id": "dUrr9gxN48YO",
        "colab_type": "code",
        "colab": {
          "base_uri": "https://localhost:8080/",
          "height": 357
        },
        "outputId": "e13e84d0-4730-408e-971d-27a883853696"
      },
      "source": [
        "y_train"
      ],
      "execution_count": 14,
      "outputs": [
        {
          "output_type": "execute_result",
          "data": {
            "text/plain": [
              "array([0.02702703, 0.05405405, 0.04826255, 0.03281853, 0.05984556,\n",
              "       0.08494208, 0.08494208, 0.06177606, 0.02895753, 0.        ,\n",
              "       0.02702703, 0.02123552, 0.04247104, 0.07142857, 0.05984556,\n",
              "       0.04054054, 0.08687259, 0.12741313, 0.12741313, 0.1042471 ,\n",
              "       0.05598456, 0.01930502, 0.06949807, 0.07915058, 0.08880309,\n",
              "       0.14285714, 0.11389961, 0.13127413, 0.14285714, 0.18339768,\n",
              "       0.18339768, 0.15444015, 0.11196911, 0.08108108, 0.11969112,\n",
              "       0.12934363, 0.14671815, 0.17181467, 0.14864865, 0.15250965,\n",
              "       0.22007722, 0.24324324, 0.26640927, 0.2027027 , 0.16795367,\n",
              "       0.13127413, 0.17374517, 0.17760618, 0.17760618, 0.25482625,\n",
              "       0.25289575, 0.24131274, 0.26833977, 0.30888031, 0.32432432,\n",
              "       0.25675676, 0.20656371, 0.14671815, 0.18725869, 0.19305019,\n",
              "       0.16216216, 0.25289575, 0.23745174, 0.25096525, 0.30888031,\n",
              "       0.38223938, 0.36486486, 0.2992278 , 0.24131274, 0.19111969,\n",
              "       0.24131274, 0.26640927, 0.24903475, 0.31467181, 0.31853282,\n",
              "       0.32046332, 0.40733591, 0.5019305 , 0.46911197, 0.4015444 ,\n",
              "       0.32818533, 0.25675676, 0.33590734, 0.34749035, 0.33397683,\n",
              "       0.41119691, 0.4034749 , 0.41312741, 0.52123552, 0.5965251 ,\n",
              "       0.58108108, 0.48455598, 0.38996139, 0.32239382, 0.38996139,\n",
              "       0.40733591, 0.38030888, 0.48648649])"
            ]
          },
          "metadata": {
            "tags": []
          },
          "execution_count": 14
        }
      ]
    },
    {
      "cell_type": "code",
      "metadata": {
        "id": "zmUimcyk5Ahg",
        "colab_type": "code",
        "colab": {}
      },
      "source": [
        "X_test, y_test = get_data(test, look_back)"
      ],
      "execution_count": 0,
      "outputs": []
    },
    {
      "cell_type": "code",
      "metadata": {
        "id": "ulbLtTIh5ZxY",
        "colab_type": "code",
        "colab": {
          "base_uri": "https://localhost:8080/",
          "height": 34
        },
        "outputId": "45cdacd6-a8b3-43ba-a169-1f36b85386b0"
      },
      "source": [
        "X_train.shape"
      ],
      "execution_count": 16,
      "outputs": [
        {
          "output_type": "execute_result",
          "data": {
            "text/plain": [
              "(98, 1)"
            ]
          },
          "metadata": {
            "tags": []
          },
          "execution_count": 16
        }
      ]
    },
    {
      "cell_type": "code",
      "metadata": {
        "id": "_Pd7GQRU5FPQ",
        "colab_type": "code",
        "colab": {}
      },
      "source": [
        "X_train = X_train.reshape(X_train.shape[0], X_train.shape[1], 1)\n",
        "X_test = X_test.reshape(X_test.shape[0], X_test.shape[1], 1)"
      ],
      "execution_count": 0,
      "outputs": []
    },
    {
      "cell_type": "code",
      "metadata": {
        "id": "uwmEhz6f5xEj",
        "colab_type": "code",
        "colab": {
          "base_uri": "https://localhost:8080/",
          "height": 34
        },
        "outputId": "623c90c3-f481-4093-952b-bd0cd99bdd83"
      },
      "source": [
        "X_train.shape"
      ],
      "execution_count": 18,
      "outputs": [
        {
          "output_type": "execute_result",
          "data": {
            "text/plain": [
              "(98, 1, 1)"
            ]
          },
          "metadata": {
            "tags": []
          },
          "execution_count": 18
        }
      ]
    },
    {
      "cell_type": "code",
      "metadata": {
        "id": "IJDR8C_-5lUi",
        "colab_type": "code",
        "colab": {}
      },
      "source": [
        "model = Sequential()\n",
        "model.add(LSTM(10, input_shape = (1, look_back)))\n",
        "model.add(Dense(1))\n",
        "model.compile(loss = 'mean_squared_error', optimizer = 'adam')"
      ],
      "execution_count": 0,
      "outputs": []
    },
    {
      "cell_type": "code",
      "metadata": {
        "id": "A4wnpZ3v5qs8",
        "colab_type": "code",
        "colab": {
          "base_uri": "https://localhost:8080/",
          "height": 1000
        },
        "outputId": "783a2dcc-2cfd-4c53-ef13-713a99e36f38"
      },
      "source": [
        "\n",
        "model.fit(X_train, y_train, epochs=50, batch_size=1)"
      ],
      "execution_count": 20,
      "outputs": [
        {
          "output_type": "stream",
          "text": [
            "Epoch 1/50\n",
            "98/98 [==============================] - 0s 1ms/step - loss: 0.0432\n",
            "Epoch 2/50\n",
            "98/98 [==============================] - 0s 1ms/step - loss: 0.0178\n",
            "Epoch 3/50\n",
            "98/98 [==============================] - 0s 1ms/step - loss: 0.0142\n",
            "Epoch 4/50\n",
            "98/98 [==============================] - 0s 1ms/step - loss: 0.0124\n",
            "Epoch 5/50\n",
            "98/98 [==============================] - 0s 1ms/step - loss: 0.0109\n",
            "Epoch 6/50\n",
            "98/98 [==============================] - 0s 1ms/step - loss: 0.0095\n",
            "Epoch 7/50\n",
            "98/98 [==============================] - 0s 1ms/step - loss: 0.0082\n",
            "Epoch 8/50\n",
            "98/98 [==============================] - 0s 1ms/step - loss: 0.0068\n",
            "Epoch 9/50\n",
            "98/98 [==============================] - 0s 2ms/step - loss: 0.0057\n",
            "Epoch 10/50\n",
            "98/98 [==============================] - 0s 1ms/step - loss: 0.0046\n",
            "Epoch 11/50\n",
            "98/98 [==============================] - 0s 1ms/step - loss: 0.0040\n",
            "Epoch 12/50\n",
            "98/98 [==============================] - 0s 1ms/step - loss: 0.0033\n",
            "Epoch 13/50\n",
            "98/98 [==============================] - 0s 1ms/step - loss: 0.0028\n",
            "Epoch 14/50\n",
            "98/98 [==============================] - 0s 2ms/step - loss: 0.0026\n",
            "Epoch 15/50\n",
            "98/98 [==============================] - 0s 2ms/step - loss: 0.0024\n",
            "Epoch 16/50\n",
            "98/98 [==============================] - 0s 1ms/step - loss: 0.0023\n",
            "Epoch 17/50\n",
            "98/98 [==============================] - 0s 1ms/step - loss: 0.0024\n",
            "Epoch 18/50\n",
            "98/98 [==============================] - 0s 2ms/step - loss: 0.0022\n",
            "Epoch 19/50\n",
            "98/98 [==============================] - 0s 1ms/step - loss: 0.0022\n",
            "Epoch 20/50\n",
            "98/98 [==============================] - 0s 1ms/step - loss: 0.0022\n",
            "Epoch 21/50\n",
            "98/98 [==============================] - 0s 1ms/step - loss: 0.0022\n",
            "Epoch 22/50\n",
            "98/98 [==============================] - 0s 1ms/step - loss: 0.0022\n",
            "Epoch 23/50\n",
            "98/98 [==============================] - 0s 1ms/step - loss: 0.0021\n",
            "Epoch 24/50\n",
            "98/98 [==============================] - 0s 1ms/step - loss: 0.0022\n",
            "Epoch 25/50\n",
            "98/98 [==============================] - 0s 2ms/step - loss: 0.0022\n",
            "Epoch 26/50\n",
            "98/98 [==============================] - 0s 1ms/step - loss: 0.0021\n",
            "Epoch 27/50\n",
            "98/98 [==============================] - 0s 1ms/step - loss: 0.0023\n",
            "Epoch 28/50\n",
            "98/98 [==============================] - 0s 1ms/step - loss: 0.0022\n",
            "Epoch 29/50\n",
            "98/98 [==============================] - 0s 1ms/step - loss: 0.0021\n",
            "Epoch 30/50\n",
            "98/98 [==============================] - 0s 1ms/step - loss: 0.0022\n",
            "Epoch 31/50\n",
            "98/98 [==============================] - 0s 1ms/step - loss: 0.0022\n",
            "Epoch 32/50\n",
            "98/98 [==============================] - 0s 1ms/step - loss: 0.0022\n",
            "Epoch 33/50\n",
            "98/98 [==============================] - 0s 1ms/step - loss: 0.0021\n",
            "Epoch 34/50\n",
            "98/98 [==============================] - 0s 1ms/step - loss: 0.0022\n",
            "Epoch 35/50\n",
            "98/98 [==============================] - 0s 1ms/step - loss: 0.0021\n",
            "Epoch 36/50\n",
            "98/98 [==============================] - 0s 1ms/step - loss: 0.0022\n",
            "Epoch 37/50\n",
            "98/98 [==============================] - 0s 1ms/step - loss: 0.0022\n",
            "Epoch 38/50\n",
            "98/98 [==============================] - 0s 1ms/step - loss: 0.0021\n",
            "Epoch 39/50\n",
            "98/98 [==============================] - 0s 1ms/step - loss: 0.0021\n",
            "Epoch 40/50\n",
            "98/98 [==============================] - 0s 1ms/step - loss: 0.0022\n",
            "Epoch 41/50\n",
            "98/98 [==============================] - 0s 1ms/step - loss: 0.0022\n",
            "Epoch 42/50\n",
            "98/98 [==============================] - 0s 1ms/step - loss: 0.0022\n",
            "Epoch 43/50\n",
            "98/98 [==============================] - 0s 1ms/step - loss: 0.0022\n",
            "Epoch 44/50\n",
            "98/98 [==============================] - 0s 1ms/step - loss: 0.0022\n",
            "Epoch 45/50\n",
            "98/98 [==============================] - 0s 1ms/step - loss: 0.0023\n",
            "Epoch 46/50\n",
            "98/98 [==============================] - 0s 1ms/step - loss: 0.0023\n",
            "Epoch 47/50\n",
            "98/98 [==============================] - 0s 1ms/step - loss: 0.0022\n",
            "Epoch 48/50\n",
            "98/98 [==============================] - 0s 1ms/step - loss: 0.0023\n",
            "Epoch 49/50\n",
            "98/98 [==============================] - 0s 1ms/step - loss: 0.0022\n",
            "Epoch 50/50\n",
            "98/98 [==============================] - 0s 1ms/step - loss: 0.0021\n"
          ],
          "name": "stdout"
        },
        {
          "output_type": "execute_result",
          "data": {
            "text/plain": [
              "<tensorflow.python.keras.callbacks.History at 0x7fddb55f7080>"
            ]
          },
          "metadata": {
            "tags": []
          },
          "execution_count": 20
        }
      ]
    },
    {
      "cell_type": "code",
      "metadata": {
        "id": "sMubDLbE6A8X",
        "colab_type": "code",
        "colab": {}
      },
      "source": [
        "y_pred = model.predict(X_test)"
      ],
      "execution_count": 0,
      "outputs": []
    },
    {
      "cell_type": "code",
      "metadata": {
        "id": "FMjz8Sx36F7_",
        "colab_type": "code",
        "colab": {}
      },
      "source": [
        "y_pred = scaler.inverse_transform(y_pred)"
      ],
      "execution_count": 0,
      "outputs": []
    },
    {
      "cell_type": "code",
      "metadata": {
        "id": "7-rH9g2L6JKP",
        "colab_type": "code",
        "colab": {}
      },
      "source": [
        "\n",
        "y_test = np.array(y_test)\n",
        "y_test = y_test.reshape(-1, 1)\n",
        "y_test = scaler.inverse_transform(y_test)"
      ],
      "execution_count": 0,
      "outputs": []
    },
    {
      "cell_type": "code",
      "metadata": {
        "id": "RR3-V2-n6OuH",
        "colab_type": "code",
        "colab": {
          "base_uri": "https://localhost:8080/",
          "height": 320
        },
        "outputId": "c44e4210-50e3-4fe2-85e7-52585a97844f"
      },
      "source": [
        "plt.figure(figsize=(14,5))\n",
        "plt.plot(y_test, label = 'real number of passengers')\n",
        "plt.plot(y_pred, label = 'predicted number of passengers')\n",
        "plt.ylabel('# passengers')\n",
        "plt.legend()\n",
        "plt.show()"
      ],
      "execution_count": 24,
      "outputs": [
        {
          "output_type": "display_data",
          "data": {
            "image/png": "[encoded data removed]",
            "text/plain": [
              "<Figure size 1008x360 with 1 Axes>"
            ]
          },
          "metadata": {
            "tags": []
          }
        }
      ]
    },
    {
      "cell_type": "code",
      "metadata": {
        "id": "F3yB96YW6Vu3",
        "colab_type": "code",
        "colab": {}
      },
      "source": [
        ""
      ],
      "execution_count": 0,
      "outputs": []
    }
  ]
}