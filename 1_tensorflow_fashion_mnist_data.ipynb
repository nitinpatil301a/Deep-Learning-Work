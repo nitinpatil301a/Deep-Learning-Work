{
  "nbformat": 4,
  "nbformat_minor": 0,
  "metadata": {
    "colab": {
      "name": "1. tensorflow fashion_mnist data.ipynb",
      "provenance": [],
      "collapsed_sections": [],
      "authorship_tag": "ABX9TyM2iRvQMcJXddyX2dwZL6vU",
      "include_colab_link": true
    },
    "kernelspec": {
      "name": "python3",
      "display_name": "Python 3"
    },
    "accelerator": "TPU"
  },
  "cells": [
    {
      "cell_type": "markdown",
      "metadata": {
        "id": "view-in-github",
        "colab_type": "text"
      },
      "source": [
        "<a href=\"https://colab.research.google.com/github/nitinpatil301a/Tensorflow-Keras-Work/blob/master/1_tensorflow_fashion_mnist_data.ipynb\" target=\"_parent\"><img src=\"https://colab.research.google.com/assets/colab-badge.svg\" alt=\"Open In Colab\"/></a>"
      ]
    },
    {
      "cell_type": "code",
      "metadata": {
        "id": "5Kgnc8EThEkx",
        "colab_type": "code",
        "outputId": "b1ca9937-142f-4a5d-a937-df9637aca32d",
        "colab": {
          "base_uri": "https://localhost:8080/",
          "height": 119
        }
      },
      "source": [
        "%tensorflow_version 2.0.0\n",
        "import tensorflow as tf\n",
        "print(tf.__version__)\n",
        "from tensorflow import keras\n",
        "import numpy as np\n",
        "import pandas as pd\n",
        "import matplotlib.pyplot as plt"
      ],
      "execution_count": 1,
      "outputs": [
        {
          "output_type": "stream",
          "text": [
            "`%tensorflow_version` only switches the major version: 1.x or 2.x.\n",
            "You set: `2.0.0`. This will be interpreted as: `2.x`.\n",
            "\n",
            "\n",
            "TensorFlow 2.x selected.\n",
            "2.1.0\n"
          ],
          "name": "stdout"
        }
      ]
    },
    {
      "cell_type": "code",
      "metadata": {
        "id": "MdmmJkU_hXph",
        "colab_type": "code",
        "outputId": "567565ea-705b-4e56-c864-ec44b1ba6bdb",
        "colab": {
          "base_uri": "https://localhost:8080/",
          "height": 34
        }
      },
      "source": [
        "fashion = keras.datasets.fashion_mnist\n",
        "type(fashion)\n"
      ],
      "execution_count": 2,
      "outputs": [
        {
          "output_type": "execute_result",
          "data": {
            "text/plain": [
              "module"
            ]
          },
          "metadata": {
            "tags": []
          },
          "execution_count": 2
        }
      ]
    },
    {
      "cell_type": "code",
      "metadata": {
        "id": "tBHDiFE9iiec",
        "colab_type": "code",
        "outputId": "34e445e1-9a0e-4383-c4cc-323efac374f4",
        "colab": {
          "base_uri": "https://localhost:8080/",
          "height": 54
        }
      },
      "source": [
        "fashion"
      ],
      "execution_count": 3,
      "outputs": [
        {
          "output_type": "execute_result",
          "data": {
            "text/plain": [
              "<module 'tensorflow_core.python.keras.api._v2.keras.datasets.fashion_mnist' from '/tensorflow-2.1.0/python3.6/tensorflow_core/python/keras/api/_v2/keras/datasets/fashion_mnist/__init__.py'>"
            ]
          },
          "metadata": {
            "tags": []
          },
          "execution_count": 3
        }
      ]
    },
    {
      "cell_type": "code",
      "metadata": {
        "id": "K3f9Ne2dikAC",
        "colab_type": "code",
        "outputId": "45a346ee-7b79-431c-cdaa-9ca5f0c05cc9",
        "colab": {
          "base_uri": "https://localhost:8080/",
          "height": 34
        }
      },
      "source": [
        "(X_train, y_train), (X_test, y_test) = fashion.load_data()\n",
        "X_train.shape, y_train.shape,X_test.shape,y_test.shape"
      ],
      "execution_count": 4,
      "outputs": [
        {
          "output_type": "execute_result",
          "data": {
            "text/plain": [
              "((60000, 28, 28), (60000,), (10000, 28, 28), (10000,))"
            ]
          },
          "metadata": {
            "tags": []
          },
          "execution_count": 4
        }
      ]
    },
    {
      "cell_type": "code",
      "metadata": {
        "id": "ZKhzOUzMkp4p",
        "colab_type": "code",
        "outputId": "300d92b7-f82a-4d5b-d065-8faa50fb5bc4",
        "colab": {
          "base_uri": "https://localhost:8080/",
          "height": 34
        }
      },
      "source": [
        "set(y_train)"
      ],
      "execution_count": 5,
      "outputs": [
        {
          "output_type": "execute_result",
          "data": {
            "text/plain": [
              "{0, 1, 2, 3, 4, 5, 6, 7, 8, 9}"
            ]
          },
          "metadata": {
            "tags": []
          },
          "execution_count": 5
        }
      ]
    },
    {
      "cell_type": "code",
      "metadata": {
        "id": "jjiaSDxflhnr",
        "colab_type": "code",
        "outputId": "c292a8f4-df79-4852-a854-904cfc36b5ab",
        "colab": {
          "base_uri": "https://localhost:8080/",
          "height": 850
        }
      },
      "source": [
        "X_train"
      ],
      "execution_count": 6,
      "outputs": [
        {
          "output_type": "execute_result",
          "data": {
            "text/plain": [
              "array([[[0, 0, 0, ..., 0, 0, 0],\n",
              "        [0, 0, 0, ..., 0, 0, 0],\n",
              "        [0, 0, 0, ..., 0, 0, 0],\n",
              "        ...,\n",
              "        [0, 0, 0, ..., 0, 0, 0],\n",
              "        [0, 0, 0, ..., 0, 0, 0],\n",
              "        [0, 0, 0, ..., 0, 0, 0]],\n",
              "\n",
              "       [[0, 0, 0, ..., 0, 0, 0],\n",
              "        [0, 0, 0, ..., 0, 0, 0],\n",
              "        [0, 0, 0, ..., 0, 0, 0],\n",
              "        ...,\n",
              "        [0, 0, 0, ..., 0, 0, 0],\n",
              "        [0, 0, 0, ..., 0, 0, 0],\n",
              "        [0, 0, 0, ..., 0, 0, 0]],\n",
              "\n",
              "       [[0, 0, 0, ..., 0, 0, 0],\n",
              "        [0, 0, 0, ..., 0, 0, 0],\n",
              "        [0, 0, 0, ..., 0, 0, 0],\n",
              "        ...,\n",
              "        [0, 0, 0, ..., 0, 0, 0],\n",
              "        [0, 0, 0, ..., 0, 0, 0],\n",
              "        [0, 0, 0, ..., 0, 0, 0]],\n",
              "\n",
              "       ...,\n",
              "\n",
              "       [[0, 0, 0, ..., 0, 0, 0],\n",
              "        [0, 0, 0, ..., 0, 0, 0],\n",
              "        [0, 0, 0, ..., 0, 0, 0],\n",
              "        ...,\n",
              "        [0, 0, 0, ..., 0, 0, 0],\n",
              "        [0, 0, 0, ..., 0, 0, 0],\n",
              "        [0, 0, 0, ..., 0, 0, 0]],\n",
              "\n",
              "       [[0, 0, 0, ..., 0, 0, 0],\n",
              "        [0, 0, 0, ..., 0, 0, 0],\n",
              "        [0, 0, 0, ..., 0, 0, 0],\n",
              "        ...,\n",
              "        [0, 0, 0, ..., 0, 0, 0],\n",
              "        [0, 0, 0, ..., 0, 0, 0],\n",
              "        [0, 0, 0, ..., 0, 0, 0]],\n",
              "\n",
              "       [[0, 0, 0, ..., 0, 0, 0],\n",
              "        [0, 0, 0, ..., 0, 0, 0],\n",
              "        [0, 0, 0, ..., 0, 0, 0],\n",
              "        ...,\n",
              "        [0, 0, 0, ..., 0, 0, 0],\n",
              "        [0, 0, 0, ..., 0, 0, 0],\n",
              "        [0, 0, 0, ..., 0, 0, 0]]], dtype=uint8)"
            ]
          },
          "metadata": {
            "tags": []
          },
          "execution_count": 6
        }
      ]
    },
    {
      "cell_type": "code",
      "metadata": {
        "id": "NHJYO4M_kyAJ",
        "colab_type": "code",
        "colab": {}
      },
      "source": [
        "classes = ['top', 'trouser', 'pullover', 'dress', 'coat', 'sandal', 'shirt', 'sneaker', 'bag', 'ankle boot']"
      ],
      "execution_count": 0,
      "outputs": []
    },
    {
      "cell_type": "code",
      "metadata": {
        "id": "LgAkCkMIlP3y",
        "colab_type": "code",
        "outputId": "d8643739-0933-45f2-aa63-ac20fca11b79",
        "colab": {
          "base_uri": "https://localhost:8080/",
          "height": 282
        }
      },
      "source": [
        "plt.figure()\n",
        "plt.imshow(X_train[0])\n",
        "plt.colorbar()\n"
      ],
      "execution_count": 8,
      "outputs": [
        {
          "output_type": "execute_result",
          "data": {
            "text/plain": [
              "<matplotlib.colorbar.Colorbar at 0x7f4e394e0a90>"
            ]
          },
          "metadata": {
            "tags": []
          },
          "execution_count": 8
        },
        {
          "output_type": "display_data",
          "data": {
            "image/png": "[encoded data removed]",
            "text/plain": [
              "<Figure size 432x288 with 2 Axes>"
            ]
          },
          "metadata": {
            "tags": []
          }
        }
      ]
    },
    {
      "cell_type": "code",
      "metadata": {
        "id": "-d9X-57Tl9cg",
        "colab_type": "code",
        "outputId": "e656db10-1219-43a1-e519-99b1950a01e1",
        "colab": {
          "base_uri": "https://localhost:8080/",
          "height": 34
        }
      },
      "source": [
        "print(y_train[0])"
      ],
      "execution_count": 9,
      "outputs": [
        {
          "output_type": "stream",
          "text": [
            "9\n"
          ],
          "name": "stdout"
        }
      ]
    },
    {
      "cell_type": "code",
      "metadata": {
        "id": "yT5VR6wwlddz",
        "colab_type": "code",
        "outputId": "29367fd7-a04b-4c6f-cb7e-1c6e7c48db68",
        "colab": {
          "base_uri": "https://localhost:8080/",
          "height": 282
        }
      },
      "source": [
        "plt.figure()\n",
        "plt.imshow(X_train[1])\n",
        "plt.colorbar()"
      ],
      "execution_count": 10,
      "outputs": [
        {
          "output_type": "execute_result",
          "data": {
            "text/plain": [
              "<matplotlib.colorbar.Colorbar at 0x7f4e38f7e6d8>"
            ]
          },
          "metadata": {
            "tags": []
          },
          "execution_count": 10
        },
        {
          "output_type": "display_data",
          "data": {
            "image/png": "[encoded data removed]",
            "text/plain": [
              "<Figure size 432x288 with 2 Axes>"
            ]
          },
          "metadata": {
            "tags": []
          }
        }
      ]
    },
    {
      "cell_type": "code",
      "metadata": {
        "id": "EdsEqOhvl_fa",
        "colab_type": "code",
        "outputId": "b19e5465-1ad5-4ef5-f431-430ac202c71d",
        "colab": {
          "base_uri": "https://localhost:8080/",
          "height": 34
        }
      },
      "source": [
        "print(y_train[1])"
      ],
      "execution_count": 11,
      "outputs": [
        {
          "output_type": "stream",
          "text": [
            "0\n"
          ],
          "name": "stdout"
        }
      ]
    },
    {
      "cell_type": "code",
      "metadata": {
        "id": "q478ZcNWmCWT",
        "colab_type": "code",
        "colab": {}
      },
      "source": [
        "X_train_scale=X_train/255.0\n",
        "X_test_scale=X_test/255.0\n"
      ],
      "execution_count": 0,
      "outputs": []
    },
    {
      "cell_type": "code",
      "metadata": {
        "id": "k6DeNkh3mR0I",
        "colab_type": "code",
        "outputId": "587a413f-f68e-4352-e3c9-9631fe067db4",
        "colab": {
          "base_uri": "https://localhost:8080/",
          "height": 286
        }
      },
      "source": [
        "plt.figure()\n",
        "plt.imshow(X_train_scale[0])\n",
        "plt.colorbar()"
      ],
      "execution_count": 13,
      "outputs": [
        {
          "output_type": "execute_result",
          "data": {
            "text/plain": [
              "<matplotlib.colorbar.Colorbar at 0x7f4e38f29cc0>"
            ]
          },
          "metadata": {
            "tags": []
          },
          "execution_count": 13
        },
        {
          "output_type": "display_data",
          "data": {
            "image/png": "[encoded data removed]",
            "text/plain": [
              "<Figure size 432x288 with 2 Axes>"
            ]
          },
          "metadata": {
            "tags": []
          }
        }
      ]
    },
    {
      "cell_type": "code",
      "metadata": {
        "id": "H9MVY1YAnEKn",
        "colab_type": "code",
        "colab": {}
      },
      "source": [
        "from tensorflow.keras import Sequential\n",
        "from tensorflow.keras.layers import Flatten, Dense,Dropout"
      ],
      "execution_count": 0,
      "outputs": []
    },
    {
      "cell_type": "code",
      "metadata": {
        "id": "cmhXll9cnKU8",
        "colab_type": "code",
        "colab": {}
      },
      "source": [
        "model = Sequential()\n",
        "model.add(Flatten(input_shape = (28, 28)))\n",
        "model.add(Dense(128, activation = 'relu'))\n",
        "model.add(Dropout(0.5))\n",
        "model.add(Dense(128, activation = 'relu'))\n",
        "model.add(Dense(128, activation = 'relu'))\n",
        "model.add(Dropout(0.1))\n",
        "model.add(Dense(10, activation = 'softmax'))"
      ],
      "execution_count": 0,
      "outputs": []
    },
    {
      "cell_type": "code",
      "metadata": {
        "id": "1o1GPhL2nOCd",
        "colab_type": "code",
        "outputId": "8e0dcc67-183e-4378-d19f-0deacd386197",
        "colab": {
          "base_uri": "https://localhost:8080/",
          "height": 391
        }
      },
      "source": [
        "model.summary()"
      ],
      "execution_count": 16,
      "outputs": [
        {
          "output_type": "stream",
          "text": [
            "Model: \"sequential\"\n",
            "_________________________________________________________________\n",
            "Layer (type)                 Output Shape              Param #   \n",
            "=================================================================\n",
            "flatten (Flatten)            (None, 784)               0         \n",
            "_________________________________________________________________\n",
            "dense (Dense)                (None, 128)               100480    \n",
            "_________________________________________________________________\n",
            "dropout (Dropout)            (None, 128)               0         \n",
            "_________________________________________________________________\n",
            "dense_1 (Dense)              (None, 128)               16512     \n",
            "_________________________________________________________________\n",
            "dense_2 (Dense)              (None, 128)               16512     \n",
            "_________________________________________________________________\n",
            "dropout_1 (Dropout)          (None, 128)               0         \n",
            "_________________________________________________________________\n",
            "dense_3 (Dense)              (None, 10)                1290      \n",
            "=================================================================\n",
            "Total params: 134,794\n",
            "Trainable params: 134,794\n",
            "Non-trainable params: 0\n",
            "_________________________________________________________________\n"
          ],
          "name": "stdout"
        }
      ]
    },
    {
      "cell_type": "code",
      "metadata": {
        "id": "wiwWzpeWnTYt",
        "colab_type": "code",
        "colab": {}
      },
      "source": [
        "model.compile(optimizer='adam', loss = 'sparse_categorical_crossentropy', metrics = ['accuracy'])"
      ],
      "execution_count": 0,
      "outputs": []
    },
    {
      "cell_type": "code",
      "metadata": {
        "id": "h6X8H5H3njZ0",
        "colab_type": "code",
        "outputId": "4439077f-04e5-4e17-c99e-61c89180257f",
        "colab": {
          "base_uri": "https://localhost:8080/",
          "height": 1000
        }
      },
      "source": [
        "history=model.fit(X_train_scale, y_train, epochs = 30,validation_split=0.2)"
      ],
      "execution_count": 18,
      "outputs": [
        {
          "output_type": "stream",
          "text": [
            "Train on 48000 samples, validate on 12000 samples\n",
            "Epoch 1/30\n",
            "48000/48000 [==============================] - 6s 117us/sample - loss: 0.6937 - accuracy: 0.7445 - val_loss: 0.4659 - val_accuracy: 0.8331\n",
            "Epoch 2/30\n",
            "48000/48000 [==============================] - 5s 108us/sample - loss: 0.5148 - accuracy: 0.8118 - val_loss: 0.4084 - val_accuracy: 0.8537\n",
            "Epoch 3/30\n",
            "48000/48000 [==============================] - 5s 106us/sample - loss: 0.4770 - accuracy: 0.8255 - val_loss: 0.4040 - val_accuracy: 0.8527\n",
            "Epoch 4/30\n",
            "48000/48000 [==============================] - 5s 107us/sample - loss: 0.4539 - accuracy: 0.8322 - val_loss: 0.3879 - val_accuracy: 0.8608\n",
            "Epoch 5/30\n",
            "48000/48000 [==============================] - 5s 106us/sample - loss: 0.4385 - accuracy: 0.8391 - val_loss: 0.4013 - val_accuracy: 0.8536\n",
            "Epoch 6/30\n",
            "48000/48000 [==============================] - 5s 108us/sample - loss: 0.4233 - accuracy: 0.8444 - val_loss: 0.3872 - val_accuracy: 0.8596\n",
            "Epoch 7/30\n",
            "48000/48000 [==============================] - 5s 107us/sample - loss: 0.4161 - accuracy: 0.8476 - val_loss: 0.3743 - val_accuracy: 0.8612\n",
            "Epoch 8/30\n",
            "48000/48000 [==============================] - 5s 111us/sample - loss: 0.4065 - accuracy: 0.8508 - val_loss: 0.3784 - val_accuracy: 0.8612\n",
            "Epoch 9/30\n",
            "48000/48000 [==============================] - 5s 110us/sample - loss: 0.3999 - accuracy: 0.8542 - val_loss: 0.3772 - val_accuracy: 0.8692\n",
            "Epoch 10/30\n",
            "48000/48000 [==============================] - 5s 106us/sample - loss: 0.3952 - accuracy: 0.8555 - val_loss: 0.3657 - val_accuracy: 0.8661\n",
            "Epoch 11/30\n",
            "48000/48000 [==============================] - 5s 103us/sample - loss: 0.3890 - accuracy: 0.8572 - val_loss: 0.3451 - val_accuracy: 0.8765\n",
            "Epoch 12/30\n",
            "48000/48000 [==============================] - 5s 105us/sample - loss: 0.3828 - accuracy: 0.8595 - val_loss: 0.3562 - val_accuracy: 0.8751\n",
            "Epoch 13/30\n",
            "48000/48000 [==============================] - 5s 106us/sample - loss: 0.3749 - accuracy: 0.8624 - val_loss: 0.3536 - val_accuracy: 0.8685\n",
            "Epoch 14/30\n",
            "48000/48000 [==============================] - 5s 107us/sample - loss: 0.3712 - accuracy: 0.8624 - val_loss: 0.3588 - val_accuracy: 0.8707\n",
            "Epoch 15/30\n",
            "48000/48000 [==============================] - 5s 106us/sample - loss: 0.3649 - accuracy: 0.8644 - val_loss: 0.3427 - val_accuracy: 0.8739\n",
            "Epoch 16/30\n",
            "48000/48000 [==============================] - 5s 104us/sample - loss: 0.3624 - accuracy: 0.8670 - val_loss: 0.3498 - val_accuracy: 0.8763\n",
            "Epoch 17/30\n",
            "48000/48000 [==============================] - 5s 104us/sample - loss: 0.3618 - accuracy: 0.8676 - val_loss: 0.3486 - val_accuracy: 0.8797\n",
            "Epoch 18/30\n",
            "48000/48000 [==============================] - 5s 104us/sample - loss: 0.3559 - accuracy: 0.8691 - val_loss: 0.3359 - val_accuracy: 0.8819\n",
            "Epoch 19/30\n",
            "48000/48000 [==============================] - 5s 104us/sample - loss: 0.3531 - accuracy: 0.8704 - val_loss: 0.3367 - val_accuracy: 0.8769\n",
            "Epoch 20/30\n",
            "48000/48000 [==============================] - 5s 107us/sample - loss: 0.3511 - accuracy: 0.8705 - val_loss: 0.3336 - val_accuracy: 0.8832\n",
            "Epoch 21/30\n",
            "48000/48000 [==============================] - 5s 107us/sample - loss: 0.3497 - accuracy: 0.8705 - val_loss: 0.3501 - val_accuracy: 0.8766\n",
            "Epoch 22/30\n",
            "48000/48000 [==============================] - 5s 108us/sample - loss: 0.3493 - accuracy: 0.8719 - val_loss: 0.3352 - val_accuracy: 0.8805\n",
            "Epoch 23/30\n",
            "48000/48000 [==============================] - 5s 111us/sample - loss: 0.3468 - accuracy: 0.8717 - val_loss: 0.3359 - val_accuracy: 0.8816\n",
            "Epoch 24/30\n",
            "48000/48000 [==============================] - 5s 110us/sample - loss: 0.3456 - accuracy: 0.8728 - val_loss: 0.3337 - val_accuracy: 0.8794\n",
            "Epoch 25/30\n",
            "48000/48000 [==============================] - 5s 112us/sample - loss: 0.3410 - accuracy: 0.8752 - val_loss: 0.3411 - val_accuracy: 0.8763\n",
            "Epoch 26/30\n",
            "48000/48000 [==============================] - 5s 114us/sample - loss: 0.3377 - accuracy: 0.8757 - val_loss: 0.3423 - val_accuracy: 0.8787\n",
            "Epoch 27/30\n",
            "48000/48000 [==============================] - 5s 113us/sample - loss: 0.3396 - accuracy: 0.8755 - val_loss: 0.3514 - val_accuracy: 0.8766\n",
            "Epoch 28/30\n",
            "48000/48000 [==============================] - 5s 112us/sample - loss: 0.3345 - accuracy: 0.8763 - val_loss: 0.3363 - val_accuracy: 0.8792\n",
            "Epoch 29/30\n",
            "48000/48000 [==============================] - 5s 112us/sample - loss: 0.3299 - accuracy: 0.8796 - val_loss: 0.3344 - val_accuracy: 0.8788\n",
            "Epoch 30/30\n",
            "48000/48000 [==============================] - 6s 117us/sample - loss: 0.3319 - accuracy: 0.8780 - val_loss: 0.3357 - val_accuracy: 0.8814\n"
          ],
          "name": "stdout"
        }
      ]
    },
    {
      "cell_type": "code",
      "metadata": {
        "id": "GwacC7b-nljk",
        "colab_type": "code",
        "outputId": "ecbf56c6-b773-4529-d01a-1e738fec702e",
        "colab": {
          "base_uri": "https://localhost:8080/",
          "height": 51
        }
      },
      "source": [
        "test_loss, test_accuracy = model.evaluate(X_test_scale, y_test)\n",
        "print(test_loss , test_accuracy)"
      ],
      "execution_count": 19,
      "outputs": [
        {
          "output_type": "stream",
          "text": [
            "10000/10000 [==============================] - 1s 50us/sample - loss: 0.3636 - accuracy: 0.8729\n",
            "0.3636461836338043 0.8729\n"
          ],
          "name": "stdout"
        }
      ]
    },
    {
      "cell_type": "code",
      "metadata": {
        "id": "Zdkudd2ZoGi7",
        "colab_type": "code",
        "colab": {}
      },
      "source": [
        "pred_classes = model.predict_classes(X_test_scale)"
      ],
      "execution_count": 0,
      "outputs": []
    },
    {
      "cell_type": "code",
      "metadata": {
        "id": "_Y9EAJ0yoLiK",
        "colab_type": "code",
        "outputId": "14b1560f-1511-45eb-e55e-6780bfb59fa2",
        "colab": {
          "base_uri": "https://localhost:8080/",
          "height": 34
        }
      },
      "source": [
        "pred_classes"
      ],
      "execution_count": 21,
      "outputs": [
        {
          "output_type": "execute_result",
          "data": {
            "text/plain": [
              "array([9, 2, 1, ..., 8, 1, 5])"
            ]
          },
          "metadata": {
            "tags": []
          },
          "execution_count": 21
        }
      ]
    },
    {
      "cell_type": "code",
      "metadata": {
        "id": "GT_E8ETKoM6M",
        "colab_type": "code",
        "colab": {}
      },
      "source": [
        "pred_val = model.predict(X_test_scale)"
      ],
      "execution_count": 0,
      "outputs": []
    },
    {
      "cell_type": "code",
      "metadata": {
        "id": "A4ze_ze0oUqZ",
        "colab_type": "code",
        "outputId": "f2a775b3-b12c-448e-92bf-897ede0e6e4a",
        "colab": {
          "base_uri": "https://localhost:8080/",
          "height": 68
        }
      },
      "source": [
        "pred_val[0],pred_classes[0]"
      ],
      "execution_count": 23,
      "outputs": [
        {
          "output_type": "execute_result",
          "data": {
            "text/plain": [
              "(array([1.5409772e-04, 1.7625478e-05, 4.3159718e-05, 1.7118540e-05,\n",
              "        4.7039457e-06, 5.0942108e-02, 1.9151380e-04, 6.5550692e-02,\n",
              "        7.6219294e-04, 8.8231677e-01], dtype=float32), 9)"
            ]
          },
          "metadata": {
            "tags": []
          },
          "execution_count": 23
        }
      ]
    },
    {
      "cell_type": "code",
      "metadata": {
        "id": "_e0ekFgopSz4",
        "colab_type": "code",
        "outputId": "2f5120b0-7f21-4d07-9f27-b58d08c456a9",
        "colab": {
          "base_uri": "https://localhost:8080/",
          "height": 286
        }
      },
      "source": [
        "plt.figure()\n",
        "plt.imshow(X_train_scale[0])\n",
        "plt.colorbar()"
      ],
      "execution_count": 24,
      "outputs": [
        {
          "output_type": "execute_result",
          "data": {
            "text/plain": [
              "<matplotlib.colorbar.Colorbar at 0x7f4e30946cc0>"
            ]
          },
          "metadata": {
            "tags": []
          },
          "execution_count": 24
        },
        {
          "output_type": "display_data",
          "data": {
            "image/png": "[encoded data removed]",
            "text/plain": [
              "<Figure size 432x288 with 2 Axes>"
            ]
          },
          "metadata": {
            "tags": []
          }
        }
      ]
    },
    {
      "cell_type": "code",
      "metadata": {
        "id": "meAGG54pqF7s",
        "colab_type": "code",
        "outputId": "309fcd2a-79f6-415f-f11d-71e788ba11e3",
        "colab": {
          "base_uri": "https://localhost:8080/",
          "height": 68
        }
      },
      "source": [
        "pred_val[1],pred_classes[1]"
      ],
      "execution_count": 25,
      "outputs": [
        {
          "output_type": "execute_result",
          "data": {
            "text/plain": [
              "(array([5.7465129e-04, 1.3497449e-09, 9.9186510e-01, 4.0344813e-07,\n",
              "        4.2100712e-03, 1.8202189e-14, 3.3324910e-03, 2.6947591e-16,\n",
              "        1.7334243e-05, 1.9309970e-11], dtype=float32), 2)"
            ]
          },
          "metadata": {
            "tags": []
          },
          "execution_count": 25
        }
      ]
    },
    {
      "cell_type": "code",
      "metadata": {
        "id": "I2rkui61qBh9",
        "colab_type": "code",
        "outputId": "8f834083-d545-4bf6-b6a4-98435d420762",
        "colab": {
          "base_uri": "https://localhost:8080/",
          "height": 286
        }
      },
      "source": [
        "plt.figure()\n",
        "plt.imshow(X_train_scale[1])\n",
        "plt.colorbar()"
      ],
      "execution_count": 26,
      "outputs": [
        {
          "output_type": "execute_result",
          "data": {
            "text/plain": [
              "<matplotlib.colorbar.Colorbar at 0x7f4e308d60f0>"
            ]
          },
          "metadata": {
            "tags": []
          },
          "execution_count": 26
        },
        {
          "output_type": "display_data",
          "data": {
            "image/png": "[encoded data removed]",
            "text/plain": [
              "<Figure size 432x288 with 2 Axes>"
            ]
          },
          "metadata": {
            "tags": []
          }
        }
      ]
    },
    {
      "cell_type": "code",
      "metadata": {
        "id": "8_oYjQ6NqILk",
        "colab_type": "code",
        "outputId": "49c249ce-d771-4b23-98cb-5d07b6515bd0",
        "colab": {
          "base_uri": "https://localhost:8080/",
          "height": 68
        }
      },
      "source": [
        "pred_val[1],pred_classes[1]"
      ],
      "execution_count": 27,
      "outputs": [
        {
          "output_type": "execute_result",
          "data": {
            "text/plain": [
              "(array([5.7465129e-04, 1.3497449e-09, 9.9186510e-01, 4.0344813e-07,\n",
              "        4.2100712e-03, 1.8202189e-14, 3.3324910e-03, 2.6947591e-16,\n",
              "        1.7334243e-05, 1.9309970e-11], dtype=float32), 2)"
            ]
          },
          "metadata": {
            "tags": []
          },
          "execution_count": 27
        }
      ]
    },
    {
      "cell_type": "code",
      "metadata": {
        "id": "Aj2NL38dqZZC",
        "colab_type": "code",
        "outputId": "8cdf08b1-57af-49fc-eab2-d21468c307fa",
        "colab": {
          "base_uri": "https://localhost:8080/",
          "height": 286
        }
      },
      "source": [
        "plt.figure()\n",
        "plt.imshow(X_train_scale[2])\n",
        "plt.colorbar()"
      ],
      "execution_count": 28,
      "outputs": [
        {
          "output_type": "execute_result",
          "data": {
            "text/plain": [
              "<matplotlib.colorbar.Colorbar at 0x7f4e307f53c8>"
            ]
          },
          "metadata": {
            "tags": []
          },
          "execution_count": 28
        },
        {
          "output_type": "display_data",
          "data": {
            "image/png": "[encoded data removed]",
            "text/plain": [
              "<Figure size 432x288 with 2 Axes>"
            ]
          },
          "metadata": {
            "tags": []
          }
        }
      ]
    },
    {
      "cell_type": "code",
      "metadata": {
        "id": "D38rX4kLqccj",
        "colab_type": "code",
        "outputId": "df72c3ce-dd10-4bb4-8203-5d6ff683db54",
        "colab": {
          "base_uri": "https://localhost:8080/",
          "height": 282
        }
      },
      "source": [
        "plt.figure()\n",
        "plt.imshow(X_train[2])\n",
        "plt.colorbar()"
      ],
      "execution_count": 29,
      "outputs": [
        {
          "output_type": "execute_result",
          "data": {
            "text/plain": [
              "<matplotlib.colorbar.Colorbar at 0x7f4e30792630>"
            ]
          },
          "metadata": {
            "tags": []
          },
          "execution_count": 29
        },
        {
          "output_type": "display_data",
          "data": {
            "image/png": "[encoded data removed]",
            "text/plain": [
              "<Figure size 432x288 with 2 Axes>"
            ]
          },
          "metadata": {
            "tags": []
          }
        }
      ]
    },
    {
      "cell_type": "code",
      "metadata": {
        "id": "E2luo2Avq1Fp",
        "colab_type": "code",
        "outputId": "ce63653c-335d-4990-a385-a9ba1d7cb3a6",
        "colab": {
          "base_uri": "https://localhost:8080/",
          "height": 573
        }
      },
      "source": [
        "plt.plot(history.history['accuracy'], label='Training accuracy')\n",
        "plt.plot(history.history['val_accuracy'], label='Validation accuracy')\n",
        "plt.title('Leaky ReLU training / validation accuracies')\n",
        "plt.ylabel('Accuracy')\n",
        "plt.xlabel('Epoch')\n",
        "plt.legend(loc=\"upper left\")\n",
        "plt.show()\n",
        "\n",
        "plt.plot(history.history['loss'], label='Training loss')\n",
        "plt.plot(history.history['val_loss'], label='Validation loss')\n",
        "plt.title('Leaky ReLU training / validation loss values')\n",
        "plt.ylabel('Loss value')\n",
        "plt.xlabel('Epoch')\n",
        "plt.legend(loc=\"upper left\")\n",
        "plt.show()"
      ],
      "execution_count": 30,
      "outputs": [
        {
          "output_type": "display_data",
          "data": {
            "image/png": "[encoded data removed]",
            "text/plain": [
              "<Figure size 432x288 with 1 Axes>"
            ]
          },
          "metadata": {
            "tags": []
          }
        },
        {
          "output_type": "display_data",
          "data": {
            "image/png": "[encoded data removed]",
            "text/plain": [
              "<Figure size 432x288 with 1 Axes>"
            ]
          },
          "metadata": {
            "tags": []
          }
        }
      ]
    },
    {
      "cell_type": "code",
      "metadata": {
        "id": "W8w0Ukv6be7x",
        "colab_type": "code",
        "colab": {}
      },
      "source": [
        "from sklearn.metrics import confusion_matrix"
      ],
      "execution_count": 0,
      "outputs": []
    },
    {
      "cell_type": "code",
      "metadata": {
        "id": "zc5_ZmUFcZdC",
        "colab_type": "code",
        "colab": {}
      },
      "source": [
        "mat=confusion_matrix(y_test,pred_classes)"
      ],
      "execution_count": 0,
      "outputs": []
    },
    {
      "cell_type": "code",
      "metadata": {
        "id": "GIiXUr7acplo",
        "colab_type": "code",
        "outputId": "0aed3edf-ee90-4405-b451-2ea421757f31",
        "colab": {
          "base_uri": "https://localhost:8080/",
          "height": 187
        }
      },
      "source": [
        "mat"
      ],
      "execution_count": 33,
      "outputs": [
        {
          "output_type": "execute_result",
          "data": {
            "text/plain": [
              "array([[799,   1,  13,  75,   1,   0, 106,   0,   5,   0],\n",
              "       [  1, 964,   5,  24,   4,   0,   2,   0,   0,   0],\n",
              "       [ 13,   2, 837,  13,  83,   0,  51,   0,   1,   0],\n",
              "       [ 15,   7,  12, 916,  25,   0,  22,   0,   3,   0],\n",
              "       [  0,   0, 136,  45, 781,   0,  33,   0,   5,   0],\n",
              "       [  0,   0,   0,   0,   0, 959,   0,  30,   1,  10],\n",
              "       [119,   1, 115,  46,  95,   1, 617,   0,   6,   0],\n",
              "       [  0,   0,   0,   0,   0,  11,   0, 981,   0,   8],\n",
              "       [  5,   0,   0,   4,   7,   4,  10,   4, 966,   0],\n",
              "       [  0,   0,   0,   0,   0,  17,   1,  73,   0, 909]])"
            ]
          },
          "metadata": {
            "tags": []
          },
          "execution_count": 33
        }
      ]
    },
    {
      "cell_type": "code",
      "metadata": {
        "id": "2JdXoQzdcqgk",
        "colab_type": "code",
        "outputId": "fc28e182-a2bb-4de5-e653-ab33507f51fc",
        "colab": {
          "base_uri": "https://localhost:8080/",
          "height": 614
        }
      },
      "source": [
        "from mlxtend.plotting import plot_confusion_matrix\n",
        "plot_confusion_matrix(conf_mat=mat, figsize=(10, 10),show_normed=True,colorbar=True)  "
      ],
      "execution_count": 34,
      "outputs": [
        {
          "output_type": "execute_result",
          "data": {
            "text/plain": [
              "(<Figure size 720x720 with 2 Axes>,\n",
              " <matplotlib.axes._subplots.AxesSubplot at 0x7f4e27ccf518>)"
            ]
          },
          "metadata": {
            "tags": []
          },
          "execution_count": 34
        },
        {
          "output_type": "display_data",
          "data": {
            "image/png": "[encoded data removed]",
            "text/plain": [
              "<Figure size 720x720 with 2 Axes>"
            ]
          },
          "metadata": {
            "tags": []
          }
        }
      ]
    },
    {
      "cell_type": "code",
      "metadata": {
        "id": "y46YCQt3eoRL",
        "colab_type": "code",
        "colab": {}
      },
      "source": [
        ""
      ],
      "execution_count": 0,
      "outputs": []
    }
  ]
}