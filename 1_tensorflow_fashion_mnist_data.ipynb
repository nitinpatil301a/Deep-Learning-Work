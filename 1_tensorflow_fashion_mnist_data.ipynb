{
  "nbformat": 4,
  "nbformat_minor": 0,
  "metadata": {
    "colab": {
      "name": "1. tensorflow fashion_mnist data.ipynb",
      "provenance": [],
      "collapsed_sections": []
    },
    "kernelspec": {
      "name": "python3",
      "display_name": "Python 3"
    }
  },
  "cells": [
    {
      "cell_type": "code",
      "metadata": {
        "id": "5Kgnc8EThEkx",
        "colab_type": "code",
        "outputId": "43cfcee3-025b-4b76-d706-5c877a22d841",
        "colab": {
          "base_uri": "https://localhost:8080/",
          "height": 119
        }
      },
      "source": [
        "%tensorflow_version 2.0.0\n",
        "import tensorflow as tf\n",
        "print(tf.__version__)\n",
        "from tensorflow import keras\n",
        "import numpy as np\n",
        "import pandas as pd\n",
        "import matplotlib.pyplot as plt"
      ],
      "execution_count": 84,
      "outputs": [
        {
          "output_type": "stream",
          "text": [
            "`%tensorflow_version` only switches the major version: `1.x` or `2.x`.\n",
            "You set: `2.0.0`. This will be interpreted as: `2.x`.\n",
            "\n",
            "\n",
            "TensorFlow is already loaded. Please restart the runtime to change versions.\n",
            "2.1.0\n"
          ],
          "name": "stdout"
        }
      ]
    },
    {
      "cell_type": "code",
      "metadata": {
        "id": "MdmmJkU_hXph",
        "colab_type": "code",
        "outputId": "b399e790-d87d-4a5a-c3ce-590ec61e7739",
        "colab": {
          "base_uri": "https://localhost:8080/",
          "height": 34
        }
      },
      "source": [
        "fashion = keras.datasets.fashion_mnist\n",
        "type(fashion)\n"
      ],
      "execution_count": 85,
      "outputs": [
        {
          "output_type": "execute_result",
          "data": {
            "text/plain": [
              "module"
            ]
          },
          "metadata": {
            "tags": []
          },
          "execution_count": 85
        }
      ]
    },
    {
      "cell_type": "code",
      "metadata": {
        "id": "tBHDiFE9iiec",
        "colab_type": "code",
        "outputId": "ea92b8ab-e9b4-42c5-8a6e-e98be1b92ffb",
        "colab": {
          "base_uri": "https://localhost:8080/",
          "height": 54
        }
      },
      "source": [
        "fashion"
      ],
      "execution_count": 86,
      "outputs": [
        {
          "output_type": "execute_result",
          "data": {
            "text/plain": [
              "<module 'tensorflow_core.keras.datasets.fashion_mnist' from '/tensorflow-2.1.0/python3.6/tensorflow_core/python/keras/api/_v2/keras/datasets/fashion_mnist/__init__.py'>"
            ]
          },
          "metadata": {
            "tags": []
          },
          "execution_count": 86
        }
      ]
    },
    {
      "cell_type": "code",
      "metadata": {
        "id": "K3f9Ne2dikAC",
        "colab_type": "code",
        "outputId": "3b0414f3-b259-4022-e08b-2cfbbe01bd48",
        "colab": {
          "base_uri": "https://localhost:8080/",
          "height": 34
        }
      },
      "source": [
        "(X_train, y_train), (X_test, y_test) = fashion.load_data()\n",
        "X_train.shape, y_train.shape,X_test.shape,y_test.shape"
      ],
      "execution_count": 87,
      "outputs": [
        {
          "output_type": "execute_result",
          "data": {
            "text/plain": [
              "((60000, 28, 28), (60000,), (10000, 28, 28), (10000,))"
            ]
          },
          "metadata": {
            "tags": []
          },
          "execution_count": 87
        }
      ]
    },
    {
      "cell_type": "code",
      "metadata": {
        "id": "ZKhzOUzMkp4p",
        "colab_type": "code",
        "outputId": "204dae3d-6332-4081-a987-6b58cfd0b664",
        "colab": {
          "base_uri": "https://localhost:8080/",
          "height": 34
        }
      },
      "source": [
        "set(y_train)"
      ],
      "execution_count": 88,
      "outputs": [
        {
          "output_type": "execute_result",
          "data": {
            "text/plain": [
              "{0, 1, 2, 3, 4, 5, 6, 7, 8, 9}"
            ]
          },
          "metadata": {
            "tags": []
          },
          "execution_count": 88
        }
      ]
    },
    {
      "cell_type": "code",
      "metadata": {
        "id": "jjiaSDxflhnr",
        "colab_type": "code",
        "outputId": "37f24d61-831a-4ae7-a40f-1dd9e1f5bbee",
        "colab": {
          "base_uri": "https://localhost:8080/",
          "height": 850
        }
      },
      "source": [
        "X_train"
      ],
      "execution_count": 89,
      "outputs": [
        {
          "output_type": "execute_result",
          "data": {
            "text/plain": [
              "array([[[0, 0, 0, ..., 0, 0, 0],\n",
              "        [0, 0, 0, ..., 0, 0, 0],\n",
              "        [0, 0, 0, ..., 0, 0, 0],\n",
              "        ...,\n",
              "        [0, 0, 0, ..., 0, 0, 0],\n",
              "        [0, 0, 0, ..., 0, 0, 0],\n",
              "        [0, 0, 0, ..., 0, 0, 0]],\n",
              "\n",
              "       [[0, 0, 0, ..., 0, 0, 0],\n",
              "        [0, 0, 0, ..., 0, 0, 0],\n",
              "        [0, 0, 0, ..., 0, 0, 0],\n",
              "        ...,\n",
              "        [0, 0, 0, ..., 0, 0, 0],\n",
              "        [0, 0, 0, ..., 0, 0, 0],\n",
              "        [0, 0, 0, ..., 0, 0, 0]],\n",
              "\n",
              "       [[0, 0, 0, ..., 0, 0, 0],\n",
              "        [0, 0, 0, ..., 0, 0, 0],\n",
              "        [0, 0, 0, ..., 0, 0, 0],\n",
              "        ...,\n",
              "        [0, 0, 0, ..., 0, 0, 0],\n",
              "        [0, 0, 0, ..., 0, 0, 0],\n",
              "        [0, 0, 0, ..., 0, 0, 0]],\n",
              "\n",
              "       ...,\n",
              "\n",
              "       [[0, 0, 0, ..., 0, 0, 0],\n",
              "        [0, 0, 0, ..., 0, 0, 0],\n",
              "        [0, 0, 0, ..., 0, 0, 0],\n",
              "        ...,\n",
              "        [0, 0, 0, ..., 0, 0, 0],\n",
              "        [0, 0, 0, ..., 0, 0, 0],\n",
              "        [0, 0, 0, ..., 0, 0, 0]],\n",
              "\n",
              "       [[0, 0, 0, ..., 0, 0, 0],\n",
              "        [0, 0, 0, ..., 0, 0, 0],\n",
              "        [0, 0, 0, ..., 0, 0, 0],\n",
              "        ...,\n",
              "        [0, 0, 0, ..., 0, 0, 0],\n",
              "        [0, 0, 0, ..., 0, 0, 0],\n",
              "        [0, 0, 0, ..., 0, 0, 0]],\n",
              "\n",
              "       [[0, 0, 0, ..., 0, 0, 0],\n",
              "        [0, 0, 0, ..., 0, 0, 0],\n",
              "        [0, 0, 0, ..., 0, 0, 0],\n",
              "        ...,\n",
              "        [0, 0, 0, ..., 0, 0, 0],\n",
              "        [0, 0, 0, ..., 0, 0, 0],\n",
              "        [0, 0, 0, ..., 0, 0, 0]]], dtype=uint8)"
            ]
          },
          "metadata": {
            "tags": []
          },
          "execution_count": 89
        }
      ]
    },
    {
      "cell_type": "code",
      "metadata": {
        "id": "NHJYO4M_kyAJ",
        "colab_type": "code",
        "colab": {}
      },
      "source": [
        "classes = ['top', 'trouser', 'pullover', 'dress', 'coat', 'sandal', 'shirt', 'sneaker', 'bag', 'ankle boot']"
      ],
      "execution_count": 0,
      "outputs": []
    },
    {
      "cell_type": "code",
      "metadata": {
        "id": "LgAkCkMIlP3y",
        "colab_type": "code",
        "outputId": "890fbb48-acfa-4f57-9a29-c79bc4a11cea",
        "colab": {
          "base_uri": "https://localhost:8080/",
          "height": 282
        }
      },
      "source": [
        "plt.figure()\n",
        "plt.imshow(X_train[0])\n",
        "plt.colorbar()\n"
      ],
      "execution_count": 91,
      "outputs": [
        {
          "output_type": "execute_result",
          "data": {
            "text/plain": [
              "<matplotlib.colorbar.Colorbar at 0x7f40f52cfb38>"
            ]
          },
          "metadata": {
            "tags": []
          },
          "execution_count": 91
        },
        {
          "output_type": "display_data",
          "data": {
            "image/png": "[encoded data removed]",
            "text/plain": [
              "<Figure size 432x288 with 2 Axes>"
            ]
          },
          "metadata": {
            "tags": []
          }
        }
      ]
    },
    {
      "cell_type": "code",
      "metadata": {
        "id": "-d9X-57Tl9cg",
        "colab_type": "code",
        "outputId": "261e0efb-6f4f-48bc-c3fa-98cc2f66304d",
        "colab": {
          "base_uri": "https://localhost:8080/",
          "height": 34
        }
      },
      "source": [
        "print(y_train[0])"
      ],
      "execution_count": 92,
      "outputs": [
        {
          "output_type": "stream",
          "text": [
            "9\n"
          ],
          "name": "stdout"
        }
      ]
    },
    {
      "cell_type": "code",
      "metadata": {
        "id": "yT5VR6wwlddz",
        "colab_type": "code",
        "outputId": "973f4e1f-b0f7-4953-e2ae-b0c9fc7d0f6d",
        "colab": {
          "base_uri": "https://localhost:8080/",
          "height": 282
        }
      },
      "source": [
        "plt.figure()\n",
        "plt.imshow(X_train[1])\n",
        "plt.colorbar()"
      ],
      "execution_count": 93,
      "outputs": [
        {
          "output_type": "execute_result",
          "data": {
            "text/plain": [
              "<matplotlib.colorbar.Colorbar at 0x7f40f42da048>"
            ]
          },
          "metadata": {
            "tags": []
          },
          "execution_count": 93
        },
        {
          "output_type": "display_data",
          "data": {
            "image/png": "[encoded data removed]",
            "text/plain": [
              "<Figure size 432x288 with 2 Axes>"
            ]
          },
          "metadata": {
            "tags": []
          }
        }
      ]
    },
    {
      "cell_type": "code",
      "metadata": {
        "id": "EdsEqOhvl_fa",
        "colab_type": "code",
        "outputId": "fabc6837-1ca2-4ac5-a661-f69e835ed687",
        "colab": {
          "base_uri": "https://localhost:8080/",
          "height": 34
        }
      },
      "source": [
        "print(y_train[1])"
      ],
      "execution_count": 94,
      "outputs": [
        {
          "output_type": "stream",
          "text": [
            "0\n"
          ],
          "name": "stdout"
        }
      ]
    },
    {
      "cell_type": "code",
      "metadata": {
        "id": "q478ZcNWmCWT",
        "colab_type": "code",
        "colab": {}
      },
      "source": [
        "X_train_scale=X_train/255.0\n",
        "X_test_scale=X_test/255.0\n"
      ],
      "execution_count": 0,
      "outputs": []
    },
    {
      "cell_type": "code",
      "metadata": {
        "id": "k6DeNkh3mR0I",
        "colab_type": "code",
        "outputId": "0db6f1e4-eb7c-4f88-d066-5cad9a9d246f",
        "colab": {
          "base_uri": "https://localhost:8080/",
          "height": 286
        }
      },
      "source": [
        "plt.figure()\n",
        "plt.imshow(X_train_scale[0])\n",
        "plt.colorbar()"
      ],
      "execution_count": 96,
      "outputs": [
        {
          "output_type": "execute_result",
          "data": {
            "text/plain": [
              "<matplotlib.colorbar.Colorbar at 0x7f40f423c550>"
            ]
          },
          "metadata": {
            "tags": []
          },
          "execution_count": 96
        },
        {
          "output_type": "display_data",
          "data": {
            "image/png": "[encoded data removed]",
            "text/plain": [
              "<Figure size 432x288 with 2 Axes>"
            ]
          },
          "metadata": {
            "tags": []
          }
        }
      ]
    },
    {
      "cell_type": "code",
      "metadata": {
        "id": "H9MVY1YAnEKn",
        "colab_type": "code",
        "colab": {}
      },
      "source": [
        "from tensorflow.keras import Sequential\n",
        "from tensorflow.keras.layers import Flatten, Dense"
      ],
      "execution_count": 0,
      "outputs": []
    },
    {
      "cell_type": "code",
      "metadata": {
        "id": "cmhXll9cnKU8",
        "colab_type": "code",
        "colab": {}
      },
      "source": [
        "model = Sequential()\n",
        "model.add(Flatten(input_shape = (28, 28)))\n",
        "model.add(Dense(128, activation = 'relu'))\n",
        "model.add(Dense(128, activation = 'relu'))\n",
        "model.add(Dense(128, activation = 'relu'))\n",
        "model.add(Dense(10, activation = 'softmax'))"
      ],
      "execution_count": 0,
      "outputs": []
    },
    {
      "cell_type": "code",
      "metadata": {
        "id": "1o1GPhL2nOCd",
        "colab_type": "code",
        "outputId": "98bd4759-9aa7-44c7-ca3f-f790b5b14783",
        "colab": {
          "base_uri": "https://localhost:8080/",
          "height": 323
        }
      },
      "source": [
        "model.summary()"
      ],
      "execution_count": 99,
      "outputs": [
        {
          "output_type": "stream",
          "text": [
            "Model: \"sequential_3\"\n",
            "_________________________________________________________________\n",
            "Layer (type)                 Output Shape              Param #   \n",
            "=================================================================\n",
            "flatten_3 (Flatten)          (None, 784)               0         \n",
            "_________________________________________________________________\n",
            "dense_12 (Dense)             (None, 128)               100480    \n",
            "_________________________________________________________________\n",
            "dense_13 (Dense)             (None, 128)               16512     \n",
            "_________________________________________________________________\n",
            "dense_14 (Dense)             (None, 128)               16512     \n",
            "_________________________________________________________________\n",
            "dense_15 (Dense)             (None, 10)                1290      \n",
            "=================================================================\n",
            "Total params: 134,794\n",
            "Trainable params: 134,794\n",
            "Non-trainable params: 0\n",
            "_________________________________________________________________\n"
          ],
          "name": "stdout"
        }
      ]
    },
    {
      "cell_type": "code",
      "metadata": {
        "id": "wiwWzpeWnTYt",
        "colab_type": "code",
        "colab": {}
      },
      "source": [
        "model.compile(optimizer='adam', loss = 'sparse_categorical_crossentropy', metrics = ['accuracy'])"
      ],
      "execution_count": 0,
      "outputs": []
    },
    {
      "cell_type": "code",
      "metadata": {
        "id": "h6X8H5H3njZ0",
        "colab_type": "code",
        "outputId": "b4c627f0-c948-4df5-8aa5-40a8f614588c",
        "colab": {
          "base_uri": "https://localhost:8080/",
          "height": 1000
        }
      },
      "source": [
        "history=model.fit(X_train_scale, y_train, epochs = 30,validation_split=0.2)"
      ],
      "execution_count": 101,
      "outputs": [
        {
          "output_type": "stream",
          "text": [
            "Train on 48000 samples, validate on 12000 samples\n",
            "Epoch 1/30\n",
            "48000/48000 [==============================] - 6s 117us/sample - loss: 0.5084 - accuracy: 0.8173 - val_loss: 0.4336 - val_accuracy: 0.8499\n",
            "Epoch 2/30\n",
            "48000/48000 [==============================] - 5s 108us/sample - loss: 0.3765 - accuracy: 0.8609 - val_loss: 0.3712 - val_accuracy: 0.8623\n",
            "Epoch 3/30\n",
            "48000/48000 [==============================] - 5s 106us/sample - loss: 0.3423 - accuracy: 0.8730 - val_loss: 0.3544 - val_accuracy: 0.8683\n",
            "Epoch 4/30\n",
            "48000/48000 [==============================] - 5s 110us/sample - loss: 0.3161 - accuracy: 0.8833 - val_loss: 0.3409 - val_accuracy: 0.8759\n",
            "Epoch 5/30\n",
            "48000/48000 [==============================] - 5s 108us/sample - loss: 0.2985 - accuracy: 0.8882 - val_loss: 0.3450 - val_accuracy: 0.8726\n",
            "Epoch 6/30\n",
            "48000/48000 [==============================] - 5s 106us/sample - loss: 0.2839 - accuracy: 0.8932 - val_loss: 0.3289 - val_accuracy: 0.8781\n",
            "Epoch 7/30\n",
            "48000/48000 [==============================] - 5s 105us/sample - loss: 0.2687 - accuracy: 0.8988 - val_loss: 0.3735 - val_accuracy: 0.8668\n",
            "Epoch 8/30\n",
            "48000/48000 [==============================] - 5s 108us/sample - loss: 0.2595 - accuracy: 0.9005 - val_loss: 0.3658 - val_accuracy: 0.8693\n",
            "Epoch 9/30\n",
            "48000/48000 [==============================] - 5s 106us/sample - loss: 0.2478 - accuracy: 0.9057 - val_loss: 0.3599 - val_accuracy: 0.8806\n",
            "Epoch 10/30\n",
            "48000/48000 [==============================] - 5s 106us/sample - loss: 0.2406 - accuracy: 0.9093 - val_loss: 0.3477 - val_accuracy: 0.8825\n",
            "Epoch 11/30\n",
            "48000/48000 [==============================] - 5s 108us/sample - loss: 0.2297 - accuracy: 0.9133 - val_loss: 0.3177 - val_accuracy: 0.8923\n",
            "Epoch 12/30\n",
            "48000/48000 [==============================] - 5s 107us/sample - loss: 0.2207 - accuracy: 0.9164 - val_loss: 0.3367 - val_accuracy: 0.8888\n",
            "Epoch 13/30\n",
            "48000/48000 [==============================] - 5s 106us/sample - loss: 0.2148 - accuracy: 0.9182 - val_loss: 0.3457 - val_accuracy: 0.8884\n",
            "Epoch 14/30\n",
            "48000/48000 [==============================] - 5s 108us/sample - loss: 0.2067 - accuracy: 0.9209 - val_loss: 0.3419 - val_accuracy: 0.8901\n",
            "Epoch 15/30\n",
            "48000/48000 [==============================] - 5s 106us/sample - loss: 0.2029 - accuracy: 0.9219 - val_loss: 0.3551 - val_accuracy: 0.8794\n",
            "Epoch 16/30\n",
            "48000/48000 [==============================] - 5s 109us/sample - loss: 0.1938 - accuracy: 0.9254 - val_loss: 0.3505 - val_accuracy: 0.8868\n",
            "Epoch 17/30\n",
            "48000/48000 [==============================] - 5s 108us/sample - loss: 0.1893 - accuracy: 0.9274 - val_loss: 0.3612 - val_accuracy: 0.8924\n",
            "Epoch 18/30\n",
            "48000/48000 [==============================] - 5s 104us/sample - loss: 0.1828 - accuracy: 0.9288 - val_loss: 0.3497 - val_accuracy: 0.8929\n",
            "Epoch 19/30\n",
            "48000/48000 [==============================] - 5s 106us/sample - loss: 0.1771 - accuracy: 0.9315 - val_loss: 0.3877 - val_accuracy: 0.8861\n",
            "Epoch 20/30\n",
            "48000/48000 [==============================] - 5s 105us/sample - loss: 0.1768 - accuracy: 0.9317 - val_loss: 0.3439 - val_accuracy: 0.8947\n",
            "Epoch 21/30\n",
            "48000/48000 [==============================] - 5s 105us/sample - loss: 0.1691 - accuracy: 0.9345 - val_loss: 0.3531 - val_accuracy: 0.8903\n",
            "Epoch 22/30\n",
            "48000/48000 [==============================] - 5s 106us/sample - loss: 0.1662 - accuracy: 0.9364 - val_loss: 0.3611 - val_accuracy: 0.8933\n",
            "Epoch 23/30\n",
            "48000/48000 [==============================] - 5s 108us/sample - loss: 0.1564 - accuracy: 0.9390 - val_loss: 0.3995 - val_accuracy: 0.8928\n",
            "Epoch 24/30\n",
            "48000/48000 [==============================] - 5s 109us/sample - loss: 0.1626 - accuracy: 0.9381 - val_loss: 0.4171 - val_accuracy: 0.8874\n",
            "Epoch 25/30\n",
            "48000/48000 [==============================] - 5s 108us/sample - loss: 0.1516 - accuracy: 0.9408 - val_loss: 0.3975 - val_accuracy: 0.8934\n",
            "Epoch 26/30\n",
            "48000/48000 [==============================] - 5s 108us/sample - loss: 0.1482 - accuracy: 0.9430 - val_loss: 0.4211 - val_accuracy: 0.8881\n",
            "Epoch 27/30\n",
            "48000/48000 [==============================] - 5s 108us/sample - loss: 0.1448 - accuracy: 0.9436 - val_loss: 0.4472 - val_accuracy: 0.8882\n",
            "Epoch 28/30\n",
            "48000/48000 [==============================] - 5s 113us/sample - loss: 0.1400 - accuracy: 0.9462 - val_loss: 0.4224 - val_accuracy: 0.8886\n",
            "Epoch 29/30\n",
            "48000/48000 [==============================] - 6s 120us/sample - loss: 0.1403 - accuracy: 0.9463 - val_loss: 0.4402 - val_accuracy: 0.8888\n",
            "Epoch 30/30\n",
            "48000/48000 [==============================] - 5s 107us/sample - loss: 0.1340 - accuracy: 0.9481 - val_loss: 0.4546 - val_accuracy: 0.8909\n"
          ],
          "name": "stdout"
        }
      ]
    },
    {
      "cell_type": "code",
      "metadata": {
        "id": "GwacC7b-nljk",
        "colab_type": "code",
        "outputId": "3dab1940-a9e1-4cd7-c6ee-c21a60922115",
        "colab": {
          "base_uri": "https://localhost:8080/",
          "height": 51
        }
      },
      "source": [
        "test_loss, test_accuracy = model.evaluate(X_test_scale, y_test)\n",
        "print(test_loss , test_accuracy)"
      ],
      "execution_count": 102,
      "outputs": [
        {
          "output_type": "stream",
          "text": [
            "10000/10000 [==============================] - 1s 51us/sample - loss: 0.4841 - accuracy: 0.8884\n",
            "0.48412951419353484 0.8884\n"
          ],
          "name": "stdout"
        }
      ]
    },
    {
      "cell_type": "code",
      "metadata": {
        "id": "Zdkudd2ZoGi7",
        "colab_type": "code",
        "colab": {}
      },
      "source": [
        "pred_classes = model.predict_classes(X_test_scale)"
      ],
      "execution_count": 0,
      "outputs": []
    },
    {
      "cell_type": "code",
      "metadata": {
        "id": "_Y9EAJ0yoLiK",
        "colab_type": "code",
        "outputId": "c41d5660-2ff2-466e-88fc-fd0aea7a251d",
        "colab": {
          "base_uri": "https://localhost:8080/",
          "height": 34
        }
      },
      "source": [
        "pred_classes"
      ],
      "execution_count": 104,
      "outputs": [
        {
          "output_type": "execute_result",
          "data": {
            "text/plain": [
              "array([9, 2, 1, ..., 8, 1, 5])"
            ]
          },
          "metadata": {
            "tags": []
          },
          "execution_count": 104
        }
      ]
    },
    {
      "cell_type": "code",
      "metadata": {
        "id": "GT_E8ETKoM6M",
        "colab_type": "code",
        "colab": {}
      },
      "source": [
        "pred_val = model.predict(X_test_scale)"
      ],
      "execution_count": 0,
      "outputs": []
    },
    {
      "cell_type": "code",
      "metadata": {
        "id": "A4ze_ze0oUqZ",
        "colab_type": "code",
        "outputId": "b3128977-dc9b-46a1-8f38-21d6676ad707",
        "colab": {
          "base_uri": "https://localhost:8080/",
          "height": 68
        }
      },
      "source": [
        "pred_val[0],pred_classes[0]"
      ],
      "execution_count": 106,
      "outputs": [
        {
          "output_type": "execute_result",
          "data": {
            "text/plain": [
              "(array([4.2593507e-12, 4.3492657e-10, 2.4961541e-10, 1.0304436e-10,\n",
              "        7.4382903e-11, 8.7468585e-08, 2.4856128e-09, 1.3592727e-04,\n",
              "        1.1035867e-15, 9.9986398e-01], dtype=float32), 9)"
            ]
          },
          "metadata": {
            "tags": []
          },
          "execution_count": 106
        }
      ]
    },
    {
      "cell_type": "code",
      "metadata": {
        "id": "_e0ekFgopSz4",
        "colab_type": "code",
        "outputId": "e278a563-6abf-4f92-b769-711ebdf3534a",
        "colab": {
          "base_uri": "https://localhost:8080/",
          "height": 286
        }
      },
      "source": [
        "plt.figure()\n",
        "plt.imshow(X_train_scale[0])\n",
        "plt.colorbar()"
      ],
      "execution_count": 107,
      "outputs": [
        {
          "output_type": "execute_result",
          "data": {
            "text/plain": [
              "<matplotlib.colorbar.Colorbar at 0x7f40f82da2e8>"
            ]
          },
          "metadata": {
            "tags": []
          },
          "execution_count": 107
        },
        {
          "output_type": "display_data",
          "data": {
            "image/png": "[encoded data removed]",
            "text/plain": [
              "<Figure size 432x288 with 2 Axes>"
            ]
          },
          "metadata": {
            "tags": []
          }
        }
      ]
    },
    {
      "cell_type": "code",
      "metadata": {
        "id": "meAGG54pqF7s",
        "colab_type": "code",
        "outputId": "25fe5375-4fb3-48d4-cade-db4178d6d9ab",
        "colab": {
          "base_uri": "https://localhost:8080/",
          "height": 68
        }
      },
      "source": [
        "pred_val[1],pred_classes[1]"
      ],
      "execution_count": 108,
      "outputs": [
        {
          "output_type": "execute_result",
          "data": {
            "text/plain": [
              "(array([3.8547907e-09, 1.0717941e-15, 9.9986827e-01, 1.9621554e-15,\n",
              "        1.0207563e-04, 2.1547854e-14, 2.9698649e-05, 1.3908813e-25,\n",
              "        4.2614507e-15, 1.9651628e-19], dtype=float32), 2)"
            ]
          },
          "metadata": {
            "tags": []
          },
          "execution_count": 108
        }
      ]
    },
    {
      "cell_type": "code",
      "metadata": {
        "id": "I2rkui61qBh9",
        "colab_type": "code",
        "outputId": "c8bc483b-d9bd-4249-fb27-a3e5992dd1ab",
        "colab": {
          "base_uri": "https://localhost:8080/",
          "height": 286
        }
      },
      "source": [
        "plt.figure()\n",
        "plt.imshow(X_train_scale[1])\n",
        "plt.colorbar()"
      ],
      "execution_count": 109,
      "outputs": [
        {
          "output_type": "execute_result",
          "data": {
            "text/plain": [
              "<matplotlib.colorbar.Colorbar at 0x7f40f8244898>"
            ]
          },
          "metadata": {
            "tags": []
          },
          "execution_count": 109
        },
        {
          "output_type": "display_data",
          "data": {
            "image/png": "[encoded data removed]",
            "text/plain": [
              "<Figure size 432x288 with 2 Axes>"
            ]
          },
          "metadata": {
            "tags": []
          }
        }
      ]
    },
    {
      "cell_type": "code",
      "metadata": {
        "id": "8_oYjQ6NqILk",
        "colab_type": "code",
        "outputId": "2b1d1396-e845-46c3-db85-9d6c5c3e75bb",
        "colab": {
          "base_uri": "https://localhost:8080/",
          "height": 68
        }
      },
      "source": [
        "pred_val[1],pred_classes[1]"
      ],
      "execution_count": 110,
      "outputs": [
        {
          "output_type": "execute_result",
          "data": {
            "text/plain": [
              "(array([3.8547907e-09, 1.0717941e-15, 9.9986827e-01, 1.9621554e-15,\n",
              "        1.0207563e-04, 2.1547854e-14, 2.9698649e-05, 1.3908813e-25,\n",
              "        4.2614507e-15, 1.9651628e-19], dtype=float32), 2)"
            ]
          },
          "metadata": {
            "tags": []
          },
          "execution_count": 110
        }
      ]
    },
    {
      "cell_type": "code",
      "metadata": {
        "id": "Aj2NL38dqZZC",
        "colab_type": "code",
        "outputId": "7115efc4-b892-444a-a505-9472d2c8679e",
        "colab": {
          "base_uri": "https://localhost:8080/",
          "height": 286
        }
      },
      "source": [
        "plt.figure()\n",
        "plt.imshow(X_train_scale[2])\n",
        "plt.colorbar()"
      ],
      "execution_count": 111,
      "outputs": [
        {
          "output_type": "execute_result",
          "data": {
            "text/plain": [
              "<matplotlib.colorbar.Colorbar at 0x7f40f81deb70>"
            ]
          },
          "metadata": {
            "tags": []
          },
          "execution_count": 111
        },
        {
          "output_type": "display_data",
          "data": {
            "image/png": "[encoded data removed]",
            "text/plain": [
              "<Figure size 432x288 with 2 Axes>"
            ]
          },
          "metadata": {
            "tags": []
          }
        }
      ]
    },
    {
      "cell_type": "code",
      "metadata": {
        "id": "D38rX4kLqccj",
        "colab_type": "code",
        "outputId": "a3641117-9af7-44d3-eb01-85cede27d6ce",
        "colab": {
          "base_uri": "https://localhost:8080/",
          "height": 282
        }
      },
      "source": [
        "plt.figure()\n",
        "plt.imshow(X_train[2])\n",
        "plt.colorbar()"
      ],
      "execution_count": 112,
      "outputs": [
        {
          "output_type": "execute_result",
          "data": {
            "text/plain": [
              "<matplotlib.colorbar.Colorbar at 0x7f40f80fcdd8>"
            ]
          },
          "metadata": {
            "tags": []
          },
          "execution_count": 112
        },
        {
          "output_type": "display_data",
          "data": {
            "image/png": "[encoded data removed]",
            "text/plain": [
              "<Figure size 432x288 with 2 Axes>"
            ]
          },
          "metadata": {
            "tags": []
          }
        }
      ]
    },
    {
      "cell_type": "code",
      "metadata": {
        "id": "E2luo2Avq1Fp",
        "colab_type": "code",
        "colab": {
          "base_uri": "https://localhost:8080/",
          "height": 573
        },
        "outputId": "405ef718-eb5a-413c-9d4b-67bf4a1b3450"
      },
      "source": [
        "plt.plot(history.history['accuracy'], label='Training accuracy')\n",
        "plt.plot(history.history['val_accuracy'], label='Validation accuracy')\n",
        "plt.title('Leaky ReLU training / validation accuracies')\n",
        "plt.ylabel('Accuracy')\n",
        "plt.xlabel('Epoch')\n",
        "plt.legend(loc=\"upper left\")\n",
        "plt.show()\n",
        "\n",
        "plt.plot(history.history['loss'], label='Training loss')\n",
        "plt.plot(history.history['val_loss'], label='Validation loss')\n",
        "plt.title('Leaky ReLU training / validation loss values')\n",
        "plt.ylabel('Loss value')\n",
        "plt.xlabel('Epoch')\n",
        "plt.legend(loc=\"upper left\")\n",
        "plt.show()"
      ],
      "execution_count": 113,
      "outputs": [
        {
          "output_type": "display_data",
          "data": {
            "image/png": "[encoded data removed]",
            "text/plain": [
              "<Figure size 432x288 with 1 Axes>"
            ]
          },
          "metadata": {
            "tags": []
          }
        },
        {
          "output_type": "display_data",
          "data": {
            "image/png": "[encoded data removed]",
            "text/plain": [
              "<Figure size 432x288 with 1 Axes>"
            ]
          },
          "metadata": {
            "tags": []
          }
        }
      ]
    },
    {
      "cell_type": "code",
      "metadata": {
        "id": "W8w0Ukv6be7x",
        "colab_type": "code",
        "colab": {}
      },
      "source": [
        "from sklearn.metrics import confusion_matrix"
      ],
      "execution_count": 0,
      "outputs": []
    },
    {
      "cell_type": "code",
      "metadata": {
        "id": "zc5_ZmUFcZdC",
        "colab_type": "code",
        "colab": {}
      },
      "source": [
        "mat=confusion_matrix(y_test,pred_classes)"
      ],
      "execution_count": 0,
      "outputs": []
    },
    {
      "cell_type": "code",
      "metadata": {
        "id": "GIiXUr7acplo",
        "colab_type": "code",
        "colab": {
          "base_uri": "https://localhost:8080/",
          "height": 187
        },
        "outputId": "0b8c180f-f01e-4a79-e054-ba8c577490cc"
      },
      "source": [
        "mat"
      ],
      "execution_count": 116,
      "outputs": [
        {
          "output_type": "execute_result",
          "data": {
            "text/plain": [
              "array([[884,   1,  22,   9,   3,   1,  76,   0,   4,   0],\n",
              "       [  2, 975,   1,  14,   4,   0,   3,   0,   1,   0],\n",
              "       [ 26,   1, 864,   7,  62,   0,  39,   0,   1,   0],\n",
              "       [ 34,   8,  23, 843,  55,   0,  33,   0,   4,   0],\n",
              "       [  1,   0, 134,  18, 795,   0,  49,   0,   3,   0],\n",
              "       [  0,   0,   0,   0,   0, 963,   0,  27,   1,   9],\n",
              "       [161,   0,  95,  16,  61,   0, 658,   0,   9,   0],\n",
              "       [  0,   0,   0,   0,   0,   6,   0, 974,   0,  20],\n",
              "       [  3,   0,   3,   1,   4,   2,   3,   8, 976,   0],\n",
              "       [  0,   0,   0,   0,   1,   7,   1,  39,   0, 952]])"
            ]
          },
          "metadata": {
            "tags": []
          },
          "execution_count": 116
        }
      ]
    },
    {
      "cell_type": "code",
      "metadata": {
        "id": "2JdXoQzdcqgk",
        "colab_type": "code",
        "colab": {
          "base_uri": "https://localhost:8080/",
          "height": 614
        },
        "outputId": "a219bbc3-4b82-4d79-ac57-3770fe8f0211"
      },
      "source": [
        "from mlxtend.plotting import plot_confusion_matrix\n",
        "plot_confusion_matrix(conf_mat=mat, figsize=(10, 10),show_normed=True,colorbar=True)  "
      ],
      "execution_count": 122,
      "outputs": [
        {
          "output_type": "execute_result",
          "data": {
            "text/plain": [
              "(<Figure size 720x720 with 2 Axes>,\n",
              " <matplotlib.axes._subplots.AxesSubplot at 0x7f40f7d08ac8>)"
            ]
          },
          "metadata": {
            "tags": []
          },
          "execution_count": 122
        },
        {
          "output_type": "display_data",
          "data": {
            "image/png": "[encoded data removed]",
            "text/plain": [
              "<Figure size 720x720 with 2 Axes>"
            ]
          },
          "metadata": {
            "tags": []
          }
        }
      ]
    },
    {
      "cell_type": "code",
      "metadata": {
        "id": "y46YCQt3eoRL",
        "colab_type": "code",
        "colab": {}
      },
      "source": [
        ""
      ],
      "execution_count": 0,
      "outputs": []
    }
  ]
}