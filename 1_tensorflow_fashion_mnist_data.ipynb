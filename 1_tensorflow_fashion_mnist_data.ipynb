{
  "nbformat": 4,
  "nbformat_minor": 0,
  "metadata": {
    "colab": {
      "name": "1. tensorflow fashion_mnist data.ipynb",
      "provenance": []
    },
    "kernelspec": {
      "name": "python3",
      "display_name": "Python 3"
    }
  },
  "cells": [
    {
      "cell_type": "code",
      "metadata": {
        "id": "5Kgnc8EThEkx",
        "colab_type": "code",
        "colab": {
          "base_uri": "https://localhost:8080/",
          "height": 123
        },
        "outputId": "f5ab07a3-5dbe-4185-f185-d2d40dfc6f41"
      },
      "source": [
        "%tensorflow_version 2.0.0\n",
        "import tensorflow as tf\n",
        "print(tf.__version__)\n",
        "from tensorflow import keras\n",
        "import numpy as np\n",
        "import pandas as pd\n",
        "import matplotlib.pyplot as plt"
      ],
      "execution_count": 1,
      "outputs": [
        {
          "output_type": "stream",
          "text": [
            "`%tensorflow_version` only switches the major version: `1.x` or `2.x`.\n",
            "You set: `2.0.0`. This will be interpreted as: `2.x`.\n",
            "\n",
            "\n",
            "TensorFlow 2.x selected.\n",
            "2.1.0\n"
          ],
          "name": "stdout"
        }
      ]
    },
    {
      "cell_type": "code",
      "metadata": {
        "id": "MdmmJkU_hXph",
        "colab_type": "code",
        "colab": {
          "base_uri": "https://localhost:8080/",
          "height": 34
        },
        "outputId": "01105e9c-439e-49cb-bf20-b3c5d85ce9f6"
      },
      "source": [
        "fashion = keras.datasets.fashion_mnist\n",
        "type(fashion)\n"
      ],
      "execution_count": 5,
      "outputs": [
        {
          "output_type": "execute_result",
          "data": {
            "text/plain": [
              "module"
            ]
          },
          "metadata": {
            "tags": []
          },
          "execution_count": 5
        }
      ]
    },
    {
      "cell_type": "code",
      "metadata": {
        "id": "tBHDiFE9iiec",
        "colab_type": "code",
        "colab": {
          "base_uri": "https://localhost:8080/",
          "height": 54
        },
        "outputId": "fa471758-7106-433b-eb63-c5e726b7ef2d"
      },
      "source": [
        "fashion"
      ],
      "execution_count": 4,
      "outputs": [
        {
          "output_type": "execute_result",
          "data": {
            "text/plain": [
              "<module 'tensorflow_core.python.keras.api._v2.keras.datasets.fashion_mnist' from '/tensorflow-2.1.0/python3.6/tensorflow_core/python/keras/api/_v2/keras/datasets/fashion_mnist/__init__.py'>"
            ]
          },
          "metadata": {
            "tags": []
          },
          "execution_count": 4
        }
      ]
    },
    {
      "cell_type": "code",
      "metadata": {
        "id": "K3f9Ne2dikAC",
        "colab_type": "code",
        "colab": {
          "base_uri": "https://localhost:8080/",
          "height": 176
        },
        "outputId": "58da3617-aa37-4102-ea78-05afc8b91b92"
      },
      "source": [
        "(X_train, y_train), (X_test, y_test) = fashion.load_data()\n",
        "X_train.shape, y_train.shape,X_test.shape,y_test.shape"
      ],
      "execution_count": 7,
      "outputs": [
        {
          "output_type": "stream",
          "text": [
            "Downloading data from https://storage.googleapis.com/tensorflow/tf-keras-datasets/train-labels-idx1-ubyte.gz\n",
            "32768/29515 [=================================] - 0s 0us/step\n",
            "Downloading data from https://storage.googleapis.com/tensorflow/tf-keras-datasets/train-images-idx3-ubyte.gz\n",
            "26427392/26421880 [==============================] - 0s 0us/step\n",
            "Downloading data from https://storage.googleapis.com/tensorflow/tf-keras-datasets/t10k-labels-idx1-ubyte.gz\n",
            "8192/5148 [===============================================] - 0s 0us/step\n",
            "Downloading data from https://storage.googleapis.com/tensorflow/tf-keras-datasets/t10k-images-idx3-ubyte.gz\n",
            "4423680/4422102 [==============================] - 0s 0us/step\n"
          ],
          "name": "stdout"
        },
        {
          "output_type": "execute_result",
          "data": {
            "text/plain": [
              "((60000, 28, 28), (60000,), (10000, 28, 28), (10000,))"
            ]
          },
          "metadata": {
            "tags": []
          },
          "execution_count": 7
        }
      ]
    },
    {
      "cell_type": "code",
      "metadata": {
        "id": "ZKhzOUzMkp4p",
        "colab_type": "code",
        "colab": {
          "base_uri": "https://localhost:8080/",
          "height": 34
        },
        "outputId": "9eb92de3-8461-4474-d99b-8b4a892be171"
      },
      "source": [
        "set(y_train)"
      ],
      "execution_count": 10,
      "outputs": [
        {
          "output_type": "execute_result",
          "data": {
            "text/plain": [
              "{0, 1, 2, 3, 4, 5, 6, 7, 8, 9}"
            ]
          },
          "metadata": {
            "tags": []
          },
          "execution_count": 10
        }
      ]
    },
    {
      "cell_type": "code",
      "metadata": {
        "id": "jjiaSDxflhnr",
        "colab_type": "code",
        "colab": {
          "base_uri": "https://localhost:8080/",
          "height": 887
        },
        "outputId": "17152a80-521e-46d4-a3d2-34a2c9933ec2"
      },
      "source": [
        "X_train"
      ],
      "execution_count": 14,
      "outputs": [
        {
          "output_type": "execute_result",
          "data": {
            "text/plain": [
              "array([[[0, 0, 0, ..., 0, 0, 0],\n",
              "        [0, 0, 0, ..., 0, 0, 0],\n",
              "        [0, 0, 0, ..., 0, 0, 0],\n",
              "        ...,\n",
              "        [0, 0, 0, ..., 0, 0, 0],\n",
              "        [0, 0, 0, ..., 0, 0, 0],\n",
              "        [0, 0, 0, ..., 0, 0, 0]],\n",
              "\n",
              "       [[0, 0, 0, ..., 0, 0, 0],\n",
              "        [0, 0, 0, ..., 0, 0, 0],\n",
              "        [0, 0, 0, ..., 0, 0, 0],\n",
              "        ...,\n",
              "        [0, 0, 0, ..., 0, 0, 0],\n",
              "        [0, 0, 0, ..., 0, 0, 0],\n",
              "        [0, 0, 0, ..., 0, 0, 0]],\n",
              "\n",
              "       [[0, 0, 0, ..., 0, 0, 0],\n",
              "        [0, 0, 0, ..., 0, 0, 0],\n",
              "        [0, 0, 0, ..., 0, 0, 0],\n",
              "        ...,\n",
              "        [0, 0, 0, ..., 0, 0, 0],\n",
              "        [0, 0, 0, ..., 0, 0, 0],\n",
              "        [0, 0, 0, ..., 0, 0, 0]],\n",
              "\n",
              "       ...,\n",
              "\n",
              "       [[0, 0, 0, ..., 0, 0, 0],\n",
              "        [0, 0, 0, ..., 0, 0, 0],\n",
              "        [0, 0, 0, ..., 0, 0, 0],\n",
              "        ...,\n",
              "        [0, 0, 0, ..., 0, 0, 0],\n",
              "        [0, 0, 0, ..., 0, 0, 0],\n",
              "        [0, 0, 0, ..., 0, 0, 0]],\n",
              "\n",
              "       [[0, 0, 0, ..., 0, 0, 0],\n",
              "        [0, 0, 0, ..., 0, 0, 0],\n",
              "        [0, 0, 0, ..., 0, 0, 0],\n",
              "        ...,\n",
              "        [0, 0, 0, ..., 0, 0, 0],\n",
              "        [0, 0, 0, ..., 0, 0, 0],\n",
              "        [0, 0, 0, ..., 0, 0, 0]],\n",
              "\n",
              "       [[0, 0, 0, ..., 0, 0, 0],\n",
              "        [0, 0, 0, ..., 0, 0, 0],\n",
              "        [0, 0, 0, ..., 0, 0, 0],\n",
              "        ...,\n",
              "        [0, 0, 0, ..., 0, 0, 0],\n",
              "        [0, 0, 0, ..., 0, 0, 0],\n",
              "        [0, 0, 0, ..., 0, 0, 0]]], dtype=uint8)"
            ]
          },
          "metadata": {
            "tags": []
          },
          "execution_count": 14
        }
      ]
    },
    {
      "cell_type": "code",
      "metadata": {
        "id": "NHJYO4M_kyAJ",
        "colab_type": "code",
        "colab": {}
      },
      "source": [
        "classes = ['top', 'trouser', 'pullover', 'dress', 'coat', 'sandal', 'shirt', 'sneaker', 'bag', 'ankle boot']"
      ],
      "execution_count": 0,
      "outputs": []
    },
    {
      "cell_type": "code",
      "metadata": {
        "id": "LgAkCkMIlP3y",
        "colab_type": "code",
        "colab": {
          "base_uri": "https://localhost:8080/",
          "height": 282
        },
        "outputId": "f39663bb-7959-4a93-9104-cc0388b1d2a8"
      },
      "source": [
        "plt.figure()\n",
        "plt.imshow(X_train[0])\n",
        "plt.colorbar()\n"
      ],
      "execution_count": 16,
      "outputs": [
        {
          "output_type": "stream",
          "text": [
            "9\n"
          ],
          "name": "stdout"
        },
        {
          "output_type": "display_data",
          "data": {
            "image/png": "[encoded data removed]",
            "text/plain": [
              "<Figure size 432x288 with 2 Axes>"
            ]
          },
          "metadata": {
            "tags": []
          }
        }
      ]
    },
    {
      "cell_type": "code",
      "metadata": {
        "id": "-d9X-57Tl9cg",
        "colab_type": "code",
        "colab": {
          "base_uri": "https://localhost:8080/",
          "height": 34
        },
        "outputId": "8115b5a3-7085-43f9-bd2b-03c19b0c3545"
      },
      "source": [
        "print(y_train[0])"
      ],
      "execution_count": 17,
      "outputs": [
        {
          "output_type": "stream",
          "text": [
            "9\n"
          ],
          "name": "stdout"
        }
      ]
    },
    {
      "cell_type": "code",
      "metadata": {
        "id": "yT5VR6wwlddz",
        "colab_type": "code",
        "colab": {
          "base_uri": "https://localhost:8080/",
          "height": 282
        },
        "outputId": "8610f7f0-c557-47fd-a2b5-6ae4fd1ea83d"
      },
      "source": [
        "plt.figure()\n",
        "plt.imshow(X_train[1])\n",
        "plt.colorbar()"
      ],
      "execution_count": 18,
      "outputs": [
        {
          "output_type": "execute_result",
          "data": {
            "text/plain": [
              "<matplotlib.colorbar.Colorbar at 0x7fefded9f4a8>"
            ]
          },
          "metadata": {
            "tags": []
          },
          "execution_count": 18
        },
        {
          "output_type": "display_data",
          "data": {
            "image/png": "[encoded data removed]",
            "text/plain": [
              "<Figure size 432x288 with 2 Axes>"
            ]
          },
          "metadata": {
            "tags": []
          }
        }
      ]
    },
    {
      "cell_type": "code",
      "metadata": {
        "id": "EdsEqOhvl_fa",
        "colab_type": "code",
        "colab": {
          "base_uri": "https://localhost:8080/",
          "height": 34
        },
        "outputId": "364a9bda-e393-423a-b9c9-2f05bf689389"
      },
      "source": [
        "print(y_train[1])"
      ],
      "execution_count": 19,
      "outputs": [
        {
          "output_type": "stream",
          "text": [
            "0\n"
          ],
          "name": "stdout"
        }
      ]
    },
    {
      "cell_type": "code",
      "metadata": {
        "id": "q478ZcNWmCWT",
        "colab_type": "code",
        "colab": {}
      },
      "source": [
        "X_train_scale=X_train/255.0\n",
        "X_test_scale=X_test/255.0\n"
      ],
      "execution_count": 0,
      "outputs": []
    },
    {
      "cell_type": "code",
      "metadata": {
        "id": "k6DeNkh3mR0I",
        "colab_type": "code",
        "colab": {
          "base_uri": "https://localhost:8080/",
          "height": 286
        },
        "outputId": "e55c8aa8-d3da-4cff-f127-b86f4861dd98"
      },
      "source": [
        "plt.figure()\n",
        "plt.imshow(X_train_scale[0])\n",
        "plt.colorbar()"
      ],
      "execution_count": 25,
      "outputs": [
        {
          "output_type": "execute_result",
          "data": {
            "text/plain": [
              "<matplotlib.colorbar.Colorbar at 0x7fefdd75aac8>"
            ]
          },
          "metadata": {
            "tags": []
          },
          "execution_count": 25
        },
        {
          "output_type": "display_data",
          "data": {
            "image/png": "[encoded data removed]",
            "text/plain": [
              "<Figure size 432x288 with 2 Axes>"
            ]
          },
          "metadata": {
            "tags": []
          }
        }
      ]
    },
    {
      "cell_type": "code",
      "metadata": {
        "id": "H9MVY1YAnEKn",
        "colab_type": "code",
        "colab": {}
      },
      "source": [
        "from tensorflow.keras import Sequential\n",
        "from tensorflow.keras.layers import Flatten, Dense"
      ],
      "execution_count": 0,
      "outputs": []
    },
    {
      "cell_type": "code",
      "metadata": {
        "id": "cmhXll9cnKU8",
        "colab_type": "code",
        "colab": {}
      },
      "source": [
        "model = Sequential()\n",
        "model.add(Flatten(input_shape = (28, 28)))\n",
        "model.add(Dense(128, activation = 'relu'))\n",
        "model.add(Dense(128, activation = 'relu'))\n",
        "model.add(Dense(128, activation = 'relu'))\n",
        "model.add(Dense(10, activation = 'softmax'))"
      ],
      "execution_count": 0,
      "outputs": []
    },
    {
      "cell_type": "code",
      "metadata": {
        "id": "1o1GPhL2nOCd",
        "colab_type": "code",
        "colab": {
          "base_uri": "https://localhost:8080/",
          "height": 336
        },
        "outputId": "de8db2b4-04aa-4dd1-b585-565e0c4516b9"
      },
      "source": [
        "model.summary()"
      ],
      "execution_count": 60,
      "outputs": [
        {
          "output_type": "stream",
          "text": [
            "Model: \"sequential_4\"\n",
            "_________________________________________________________________\n",
            "Layer (type)                 Output Shape              Param #   \n",
            "=================================================================\n",
            "flatten_4 (Flatten)          (None, 784)               0         \n",
            "_________________________________________________________________\n",
            "dense_14 (Dense)             (None, 128)               100480    \n",
            "_________________________________________________________________\n",
            "dense_15 (Dense)             (None, 128)               16512     \n",
            "_________________________________________________________________\n",
            "dense_16 (Dense)             (None, 128)               16512     \n",
            "_________________________________________________________________\n",
            "dense_17 (Dense)             (None, 10)                1290      \n",
            "=================================================================\n",
            "Total params: 134,794\n",
            "Trainable params: 134,794\n",
            "Non-trainable params: 0\n",
            "_________________________________________________________________\n"
          ],
          "name": "stdout"
        }
      ]
    },
    {
      "cell_type": "code",
      "metadata": {
        "id": "wiwWzpeWnTYt",
        "colab_type": "code",
        "colab": {}
      },
      "source": [
        "model.compile(optimizer='adam', loss = 'sparse_categorical_crossentropy', metrics = ['accuracy'])"
      ],
      "execution_count": 0,
      "outputs": []
    },
    {
      "cell_type": "code",
      "metadata": {
        "id": "h6X8H5H3njZ0",
        "colab_type": "code",
        "colab": {
          "base_uri": "https://localhost:8080/",
          "height": 1000
        },
        "outputId": "b2eae67b-fa7c-41f8-de58-84ee4b782973"
      },
      "source": [
        "model.fit(X_train_scale, y_train, epochs = 300)"
      ],
      "execution_count": 63,
      "outputs": [
        {
          "output_type": "stream",
          "text": [
            "Train on 60000 samples\n",
            "Epoch 1/300\n",
            "60000/60000 [==============================] - 6s 98us/sample - loss: 0.4871 - accuracy: 0.8249\n",
            "Epoch 2/300\n",
            "60000/60000 [==============================] - 6s 95us/sample - loss: 0.3624 - accuracy: 0.8675\n",
            "Epoch 3/300\n",
            "60000/60000 [==============================] - 6s 96us/sample - loss: 0.3318 - accuracy: 0.8779\n",
            "Epoch 4/300\n",
            "60000/60000 [==============================] - 6s 92us/sample - loss: 0.3073 - accuracy: 0.8851\n",
            "Epoch 5/300\n",
            "60000/60000 [==============================] - 6s 94us/sample - loss: 0.2908 - accuracy: 0.8907\n",
            "Epoch 6/300\n",
            "60000/60000 [==============================] - 6s 94us/sample - loss: 0.2780 - accuracy: 0.8962\n",
            "Epoch 7/300\n",
            "60000/60000 [==============================] - 6s 94us/sample - loss: 0.2650 - accuracy: 0.9005\n",
            "Epoch 8/300\n",
            "60000/60000 [==============================] - 6s 97us/sample - loss: 0.2549 - accuracy: 0.9042\n",
            "Epoch 9/300\n",
            "60000/60000 [==============================] - 6s 99us/sample - loss: 0.2471 - accuracy: 0.9064\n",
            "Epoch 10/300\n",
            "60000/60000 [==============================] - 6s 98us/sample - loss: 0.2361 - accuracy: 0.9107\n",
            "Epoch 11/300\n",
            "60000/60000 [==============================] - 6s 98us/sample - loss: 0.2280 - accuracy: 0.9143\n",
            "Epoch 12/300\n",
            "60000/60000 [==============================] - 6s 99us/sample - loss: 0.2231 - accuracy: 0.9158\n",
            "Epoch 13/300\n",
            "60000/60000 [==============================] - 6s 95us/sample - loss: 0.2132 - accuracy: 0.9192\n",
            "Epoch 14/300\n",
            "60000/60000 [==============================] - 6s 96us/sample - loss: 0.2084 - accuracy: 0.9195\n",
            "Epoch 15/300\n",
            "60000/60000 [==============================] - 6s 92us/sample - loss: 0.2021 - accuracy: 0.9216\n",
            "Epoch 16/300\n",
            "60000/60000 [==============================] - 6s 94us/sample - loss: 0.1955 - accuracy: 0.9256\n",
            "Epoch 17/300\n",
            "60000/60000 [==============================] - 6s 95us/sample - loss: 0.1901 - accuracy: 0.9275\n",
            "Epoch 18/300\n",
            "60000/60000 [==============================] - 6s 96us/sample - loss: 0.1836 - accuracy: 0.9301\n",
            "Epoch 19/300\n",
            "60000/60000 [==============================] - 6s 100us/sample - loss: 0.1815 - accuracy: 0.9297\n",
            "Epoch 20/300\n",
            "60000/60000 [==============================] - 6s 99us/sample - loss: 0.1789 - accuracy: 0.9321\n",
            "Epoch 21/300\n",
            "60000/60000 [==============================] - 6s 99us/sample - loss: 0.1696 - accuracy: 0.9352\n",
            "Epoch 22/300\n",
            "60000/60000 [==============================] - 6s 97us/sample - loss: 0.1670 - accuracy: 0.9357\n",
            "Epoch 23/300\n",
            "60000/60000 [==============================] - 6s 103us/sample - loss: 0.1663 - accuracy: 0.9359\n",
            "Epoch 24/300\n",
            "60000/60000 [==============================] - 7s 112us/sample - loss: 0.1585 - accuracy: 0.9381\n",
            "Epoch 25/300\n",
            "60000/60000 [==============================] - 6s 108us/sample - loss: 0.1603 - accuracy: 0.9388\n",
            "Epoch 26/300\n",
            "60000/60000 [==============================] - 6s 100us/sample - loss: 0.1543 - accuracy: 0.9402\n",
            "Epoch 27/300\n",
            "60000/60000 [==============================] - 6s 98us/sample - loss: 0.1488 - accuracy: 0.9421\n",
            "Epoch 28/300\n",
            "60000/60000 [==============================] - 6s 100us/sample - loss: 0.1477 - accuracy: 0.9440\n",
            "Epoch 29/300\n",
            "60000/60000 [==============================] - 6s 97us/sample - loss: 0.1443 - accuracy: 0.9453\n",
            "Epoch 30/300\n",
            "60000/60000 [==============================] - 6s 100us/sample - loss: 0.1396 - accuracy: 0.9463\n",
            "Epoch 31/300\n",
            "60000/60000 [==============================] - 6s 95us/sample - loss: 0.1381 - accuracy: 0.9470\n",
            "Epoch 32/300\n",
            "60000/60000 [==============================] - 6s 97us/sample - loss: 0.1366 - accuracy: 0.9463\n",
            "Epoch 33/300\n",
            "60000/60000 [==============================] - 6s 97us/sample - loss: 0.1345 - accuracy: 0.9488\n",
            "Epoch 34/300\n",
            "60000/60000 [==============================] - 6s 99us/sample - loss: 0.1320 - accuracy: 0.9495\n",
            "Epoch 35/300\n",
            "60000/60000 [==============================] - 6s 92us/sample - loss: 0.1281 - accuracy: 0.9514\n",
            "Epoch 36/300\n",
            "60000/60000 [==============================] - 6s 95us/sample - loss: 0.1276 - accuracy: 0.9506\n",
            "Epoch 37/300\n",
            "60000/60000 [==============================] - 6s 101us/sample - loss: 0.1235 - accuracy: 0.9523\n",
            "Epoch 38/300\n",
            "60000/60000 [==============================] - 6s 102us/sample - loss: 0.1205 - accuracy: 0.9536\n",
            "Epoch 39/300\n",
            "60000/60000 [==============================] - 6s 102us/sample - loss: 0.1201 - accuracy: 0.9529\n",
            "Epoch 40/300\n",
            "60000/60000 [==============================] - 6s 101us/sample - loss: 0.1204 - accuracy: 0.9544\n",
            "Epoch 41/300\n",
            "60000/60000 [==============================] - 6s 98us/sample - loss: 0.1134 - accuracy: 0.9568\n",
            "Epoch 42/300\n",
            "60000/60000 [==============================] - 6s 98us/sample - loss: 0.1191 - accuracy: 0.9542\n",
            "Epoch 43/300\n",
            "60000/60000 [==============================] - 6s 99us/sample - loss: 0.1106 - accuracy: 0.9578\n",
            "Epoch 44/300\n",
            "60000/60000 [==============================] - 6s 98us/sample - loss: 0.1132 - accuracy: 0.9565\n",
            "Epoch 45/300\n",
            "60000/60000 [==============================] - 6s 94us/sample - loss: 0.1107 - accuracy: 0.9577\n",
            "Epoch 46/300\n",
            "60000/60000 [==============================] - 6s 97us/sample - loss: 0.1071 - accuracy: 0.9597\n",
            "Epoch 47/300\n",
            "60000/60000 [==============================] - 6s 104us/sample - loss: 0.1058 - accuracy: 0.9596\n",
            "Epoch 48/300\n",
            "60000/60000 [==============================] - 7s 108us/sample - loss: 0.1042 - accuracy: 0.9596\n",
            "Epoch 49/300\n",
            "60000/60000 [==============================] - 6s 100us/sample - loss: 0.1022 - accuracy: 0.9610\n",
            "Epoch 50/300\n",
            "60000/60000 [==============================] - 6s 98us/sample - loss: 0.1029 - accuracy: 0.9612\n",
            "Epoch 51/300\n",
            "60000/60000 [==============================] - 6s 98us/sample - loss: 0.1053 - accuracy: 0.9611\n",
            "Epoch 52/300\n",
            "60000/60000 [==============================] - 6s 103us/sample - loss: 0.0989 - accuracy: 0.9628\n",
            "Epoch 53/300\n",
            "60000/60000 [==============================] - 6s 105us/sample - loss: 0.0942 - accuracy: 0.9629\n",
            "Epoch 54/300\n",
            "60000/60000 [==============================] - 6s 105us/sample - loss: 0.0979 - accuracy: 0.9622\n",
            "Epoch 55/300\n",
            "60000/60000 [==============================] - 6s 102us/sample - loss: 0.0993 - accuracy: 0.9623\n",
            "Epoch 56/300\n",
            "60000/60000 [==============================] - 6s 99us/sample - loss: 0.0942 - accuracy: 0.9649\n",
            "Epoch 57/300\n",
            "60000/60000 [==============================] - 6s 99us/sample - loss: 0.0914 - accuracy: 0.9650\n",
            "Epoch 58/300\n",
            "60000/60000 [==============================] - 6s 101us/sample - loss: 0.0934 - accuracy: 0.9645\n",
            "Epoch 59/300\n",
            "60000/60000 [==============================] - 6s 100us/sample - loss: 0.0921 - accuracy: 0.9649\n",
            "Epoch 60/300\n",
            "60000/60000 [==============================] - 6s 99us/sample - loss: 0.0923 - accuracy: 0.9648\n",
            "Epoch 61/300\n",
            "60000/60000 [==============================] - 6s 95us/sample - loss: 0.0879 - accuracy: 0.9667\n",
            "Epoch 62/300\n",
            "60000/60000 [==============================] - 6s 95us/sample - loss: 0.0895 - accuracy: 0.9656\n",
            "Epoch 63/300\n",
            "60000/60000 [==============================] - 6s 95us/sample - loss: 0.0871 - accuracy: 0.9670\n",
            "Epoch 64/300\n",
            "60000/60000 [==============================] - 6s 96us/sample - loss: 0.0859 - accuracy: 0.9670\n",
            "Epoch 65/300\n",
            "60000/60000 [==============================] - 6s 92us/sample - loss: 0.0915 - accuracy: 0.9666\n",
            "Epoch 66/300\n",
            "60000/60000 [==============================] - 6s 95us/sample - loss: 0.0832 - accuracy: 0.9687\n",
            "Epoch 67/300\n",
            "60000/60000 [==============================] - 6s 95us/sample - loss: 0.0789 - accuracy: 0.9702\n",
            "Epoch 68/300\n",
            "60000/60000 [==============================] - 6s 93us/sample - loss: 0.0838 - accuracy: 0.9690\n",
            "Epoch 69/300\n",
            "60000/60000 [==============================] - 6s 95us/sample - loss: 0.0808 - accuracy: 0.9700\n",
            "Epoch 70/300\n",
            "60000/60000 [==============================] - 6s 95us/sample - loss: 0.0842 - accuracy: 0.9681\n",
            "Epoch 71/300\n",
            "60000/60000 [==============================] - 6s 94us/sample - loss: 0.0778 - accuracy: 0.9718\n",
            "Epoch 72/300\n",
            "60000/60000 [==============================] - 6s 93us/sample - loss: 0.0753 - accuracy: 0.9714\n",
            "Epoch 73/300\n",
            "60000/60000 [==============================] - 6s 95us/sample - loss: 0.0754 - accuracy: 0.9720\n",
            "Epoch 74/300\n",
            "60000/60000 [==============================] - 6s 94us/sample - loss: 0.0785 - accuracy: 0.9714\n",
            "Epoch 75/300\n",
            "60000/60000 [==============================] - 6s 94us/sample - loss: 0.0748 - accuracy: 0.9720\n",
            "Epoch 76/300\n",
            "60000/60000 [==============================] - 5s 91us/sample - loss: 0.0783 - accuracy: 0.9708\n",
            "Epoch 77/300\n",
            "60000/60000 [==============================] - 6s 107us/sample - loss: 0.0798 - accuracy: 0.9713\n",
            "Epoch 78/300\n",
            "60000/60000 [==============================] - 6s 93us/sample - loss: 0.0775 - accuracy: 0.9715\n",
            "Epoch 79/300\n",
            "60000/60000 [==============================] - 6s 94us/sample - loss: 0.0751 - accuracy: 0.9722\n",
            "Epoch 80/300\n",
            "60000/60000 [==============================] - 6s 94us/sample - loss: 0.0712 - accuracy: 0.9737\n",
            "Epoch 81/300\n",
            "60000/60000 [==============================] - 6s 95us/sample - loss: 0.0747 - accuracy: 0.9726\n",
            "Epoch 82/300\n",
            "60000/60000 [==============================] - 6s 93us/sample - loss: 0.0753 - accuracy: 0.9720\n",
            "Epoch 83/300\n",
            "60000/60000 [==============================] - 6s 95us/sample - loss: 0.0718 - accuracy: 0.9736\n",
            "Epoch 84/300\n",
            "60000/60000 [==============================] - 6s 94us/sample - loss: 0.0714 - accuracy: 0.9740\n",
            "Epoch 85/300\n",
            "60000/60000 [==============================] - 6s 94us/sample - loss: 0.0745 - accuracy: 0.9727\n",
            "Epoch 86/300\n",
            "60000/60000 [==============================] - 5s 91us/sample - loss: 0.0684 - accuracy: 0.9752\n",
            "Epoch 87/300\n",
            "60000/60000 [==============================] - 6s 92us/sample - loss: 0.0718 - accuracy: 0.9733\n",
            "Epoch 88/300\n",
            "60000/60000 [==============================] - 6s 94us/sample - loss: 0.0697 - accuracy: 0.9748\n",
            "Epoch 89/300\n",
            "60000/60000 [==============================] - 6s 93us/sample - loss: 0.0671 - accuracy: 0.9761\n",
            "Epoch 90/300\n",
            "60000/60000 [==============================] - 6s 93us/sample - loss: 0.0669 - accuracy: 0.9755\n",
            "Epoch 91/300\n",
            "60000/60000 [==============================] - 6s 94us/sample - loss: 0.0633 - accuracy: 0.9767\n",
            "Epoch 92/300\n",
            "60000/60000 [==============================] - 6s 94us/sample - loss: 0.0655 - accuracy: 0.9768\n",
            "Epoch 93/300\n",
            "60000/60000 [==============================] - 6s 93us/sample - loss: 0.0643 - accuracy: 0.9764\n",
            "Epoch 94/300\n",
            "60000/60000 [==============================] - 6s 94us/sample - loss: 0.0655 - accuracy: 0.9756\n",
            "Epoch 95/300\n",
            "60000/60000 [==============================] - 6s 94us/sample - loss: 0.0662 - accuracy: 0.9757\n",
            "Epoch 96/300\n",
            "60000/60000 [==============================] - 6s 94us/sample - loss: 0.0640 - accuracy: 0.9767\n",
            "Epoch 97/300\n",
            "60000/60000 [==============================] - 5s 91us/sample - loss: 0.0675 - accuracy: 0.9762\n",
            "Epoch 98/300\n",
            "60000/60000 [==============================] - 6s 93us/sample - loss: 0.0635 - accuracy: 0.9775\n",
            "Epoch 99/300\n",
            "60000/60000 [==============================] - 6s 93us/sample - loss: 0.0618 - accuracy: 0.9776\n",
            "Epoch 100/300\n",
            "60000/60000 [==============================] - 6s 93us/sample - loss: 0.0656 - accuracy: 0.9767\n",
            "Epoch 101/300\n",
            "60000/60000 [==============================] - 6s 97us/sample - loss: 0.0643 - accuracy: 0.9779\n",
            "Epoch 102/300\n",
            "60000/60000 [==============================] - 6s 104us/sample - loss: 0.0605 - accuracy: 0.9778\n",
            "Epoch 103/300\n",
            "60000/60000 [==============================] - 6s 99us/sample - loss: 0.0631 - accuracy: 0.9771\n",
            "Epoch 104/300\n",
            "60000/60000 [==============================] - 6s 95us/sample - loss: 0.0592 - accuracy: 0.9787\n",
            "Epoch 105/300\n",
            "60000/60000 [==============================] - 6s 95us/sample - loss: 0.0631 - accuracy: 0.9772\n",
            "Epoch 106/300\n",
            "60000/60000 [==============================] - 6s 95us/sample - loss: 0.0631 - accuracy: 0.9785\n",
            "Epoch 107/300\n",
            "60000/60000 [==============================] - 6s 92us/sample - loss: 0.0596 - accuracy: 0.9789\n",
            "Epoch 108/300\n",
            "60000/60000 [==============================] - 6s 94us/sample - loss: 0.0553 - accuracy: 0.9799\n",
            "Epoch 109/300\n",
            "60000/60000 [==============================] - 6s 94us/sample - loss: 0.0609 - accuracy: 0.9788\n",
            "Epoch 110/300\n",
            "60000/60000 [==============================] - 6s 95us/sample - loss: 0.0597 - accuracy: 0.9792\n",
            "Epoch 111/300\n",
            "60000/60000 [==============================] - 6s 95us/sample - loss: 0.0642 - accuracy: 0.9780\n",
            "Epoch 112/300\n",
            "60000/60000 [==============================] - 6s 95us/sample - loss: 0.0578 - accuracy: 0.9791\n",
            "Epoch 113/300\n",
            "60000/60000 [==============================] - 6s 96us/sample - loss: 0.0574 - accuracy: 0.9796\n",
            "Epoch 114/300\n",
            "60000/60000 [==============================] - 6s 97us/sample - loss: 0.0582 - accuracy: 0.9794\n",
            "Epoch 115/300\n",
            "60000/60000 [==============================] - 6s 99us/sample - loss: 0.0598 - accuracy: 0.9787\n",
            "Epoch 116/300\n",
            "60000/60000 [==============================] - 6s 99us/sample - loss: 0.0560 - accuracy: 0.9801\n",
            "Epoch 117/300\n",
            "60000/60000 [==============================] - 6s 103us/sample - loss: 0.0571 - accuracy: 0.9803\n",
            "Epoch 118/300\n",
            "60000/60000 [==============================] - 6s 98us/sample - loss: 0.0523 - accuracy: 0.9811\n",
            "Epoch 119/300\n",
            "60000/60000 [==============================] - 6s 98us/sample - loss: 0.0582 - accuracy: 0.9799\n",
            "Epoch 120/300\n",
            "60000/60000 [==============================] - 6s 96us/sample - loss: 0.0539 - accuracy: 0.9810\n",
            "Epoch 121/300\n",
            "60000/60000 [==============================] - 6s 95us/sample - loss: 0.0536 - accuracy: 0.9811\n",
            "Epoch 122/300\n",
            "60000/60000 [==============================] - 6s 95us/sample - loss: 0.0509 - accuracy: 0.9824\n",
            "Epoch 123/300\n",
            "60000/60000 [==============================] - 6s 96us/sample - loss: 0.0581 - accuracy: 0.9796\n",
            "Epoch 124/300\n",
            "60000/60000 [==============================] - 6s 94us/sample - loss: 0.0561 - accuracy: 0.9806\n",
            "Epoch 125/300\n",
            "60000/60000 [==============================] - 6s 97us/sample - loss: 0.0484 - accuracy: 0.9829\n",
            "Epoch 126/300\n",
            "60000/60000 [==============================] - 6s 98us/sample - loss: 0.0510 - accuracy: 0.9824\n",
            "Epoch 127/300\n",
            "60000/60000 [==============================] - 6s 97us/sample - loss: 0.0565 - accuracy: 0.9806\n",
            "Epoch 128/300\n",
            "60000/60000 [==============================] - 6s 94us/sample - loss: 0.0545 - accuracy: 0.9810\n",
            "Epoch 129/300\n",
            "60000/60000 [==============================] - 6s 94us/sample - loss: 0.0582 - accuracy: 0.9793\n",
            "Epoch 130/300\n",
            "60000/60000 [==============================] - 6s 97us/sample - loss: 0.0493 - accuracy: 0.9833\n",
            "Epoch 131/300\n",
            "60000/60000 [==============================] - 6s 106us/sample - loss: 0.0490 - accuracy: 0.9825\n",
            "Epoch 132/300\n",
            "60000/60000 [==============================] - 6s 94us/sample - loss: 0.0549 - accuracy: 0.9805\n",
            "Epoch 133/300\n",
            "60000/60000 [==============================] - 6s 94us/sample - loss: 0.0581 - accuracy: 0.9806\n",
            "Epoch 134/300\n",
            "60000/60000 [==============================] - 6s 95us/sample - loss: 0.0462 - accuracy: 0.9837\n",
            "Epoch 135/300\n",
            "60000/60000 [==============================] - 6s 98us/sample - loss: 0.0539 - accuracy: 0.9815\n",
            "Epoch 136/300\n",
            "60000/60000 [==============================] - 6s 97us/sample - loss: 0.0479 - accuracy: 0.9828\n",
            "Epoch 137/300\n",
            "60000/60000 [==============================] - 6s 98us/sample - loss: 0.0521 - accuracy: 0.9818\n",
            "Epoch 138/300\n",
            "60000/60000 [==============================] - 6s 95us/sample - loss: 0.0516 - accuracy: 0.9825\n",
            "Epoch 139/300\n",
            "60000/60000 [==============================] - 6s 94us/sample - loss: 0.0487 - accuracy: 0.9833\n",
            "Epoch 140/300\n",
            "60000/60000 [==============================] - 6s 97us/sample - loss: 0.0534 - accuracy: 0.9811\n",
            "Epoch 141/300\n",
            "60000/60000 [==============================] - 6s 97us/sample - loss: 0.0499 - accuracy: 0.9831\n",
            "Epoch 142/300\n",
            "60000/60000 [==============================] - 6s 97us/sample - loss: 0.0502 - accuracy: 0.9825\n",
            "Epoch 143/300\n",
            "60000/60000 [==============================] - 6s 96us/sample - loss: 0.0515 - accuracy: 0.9825\n",
            "Epoch 144/300\n",
            "60000/60000 [==============================] - 6s 96us/sample - loss: 0.0442 - accuracy: 0.9846\n",
            "Epoch 145/300\n",
            "60000/60000 [==============================] - 6s 95us/sample - loss: 0.0520 - accuracy: 0.9825\n",
            "Epoch 146/300\n",
            "60000/60000 [==============================] - 6s 97us/sample - loss: 0.0457 - accuracy: 0.9841\n",
            "Epoch 147/300\n",
            "60000/60000 [==============================] - 6s 97us/sample - loss: 0.0529 - accuracy: 0.9828\n",
            "Epoch 148/300\n",
            "60000/60000 [==============================] - 6s 99us/sample - loss: 0.0473 - accuracy: 0.9832\n",
            "Epoch 149/300\n",
            "60000/60000 [==============================] - 6s 96us/sample - loss: 0.0489 - accuracy: 0.9837\n",
            "Epoch 150/300\n",
            "60000/60000 [==============================] - 6s 100us/sample - loss: 0.0496 - accuracy: 0.9834\n",
            "Epoch 151/300\n",
            "60000/60000 [==============================] - 6s 95us/sample - loss: 0.0501 - accuracy: 0.9832\n",
            "Epoch 152/300\n",
            "60000/60000 [==============================] - 6s 97us/sample - loss: 0.0534 - accuracy: 0.9819\n",
            "Epoch 153/300\n",
            "60000/60000 [==============================] - 6s 98us/sample - loss: 0.0555 - accuracy: 0.9832\n",
            "Epoch 154/300\n",
            "60000/60000 [==============================] - 6s 99us/sample - loss: 0.0404 - accuracy: 0.9863\n",
            "Epoch 155/300\n",
            "60000/60000 [==============================] - 7s 111us/sample - loss: 0.0442 - accuracy: 0.9848\n",
            "Epoch 156/300\n",
            "60000/60000 [==============================] - 7s 115us/sample - loss: 0.0471 - accuracy: 0.9836\n",
            "Epoch 157/300\n",
            "60000/60000 [==============================] - 6s 99us/sample - loss: 0.0497 - accuracy: 0.9834\n",
            "Epoch 158/300\n",
            "60000/60000 [==============================] - 6s 101us/sample - loss: 0.0481 - accuracy: 0.9846\n",
            "Epoch 159/300\n",
            "60000/60000 [==============================] - 6s 96us/sample - loss: 0.0448 - accuracy: 0.9845\n",
            "Epoch 160/300\n",
            "60000/60000 [==============================] - 6s 102us/sample - loss: 0.0473 - accuracy: 0.9846\n",
            "Epoch 161/300\n",
            "60000/60000 [==============================] - 6s 102us/sample - loss: 0.0485 - accuracy: 0.9844\n",
            "Epoch 162/300\n",
            "60000/60000 [==============================] - 6s 99us/sample - loss: 0.0438 - accuracy: 0.9855\n",
            "Epoch 163/300\n",
            "60000/60000 [==============================] - 6s 103us/sample - loss: 0.0478 - accuracy: 0.9847\n",
            "Epoch 164/300\n",
            "60000/60000 [==============================] - 6s 102us/sample - loss: 0.0442 - accuracy: 0.9849\n",
            "Epoch 165/300\n",
            "60000/60000 [==============================] - 6s 99us/sample - loss: 0.0420 - accuracy: 0.9858\n",
            "Epoch 166/300\n",
            "60000/60000 [==============================] - 6s 101us/sample - loss: 0.0525 - accuracy: 0.9826\n",
            "Epoch 167/300\n",
            "60000/60000 [==============================] - 6s 100us/sample - loss: 0.0448 - accuracy: 0.9851\n",
            "Epoch 168/300\n",
            "60000/60000 [==============================] - 6s 99us/sample - loss: 0.0432 - accuracy: 0.9853\n",
            "Epoch 169/300\n",
            "60000/60000 [==============================] - 6s 99us/sample - loss: 0.0385 - accuracy: 0.9862\n",
            "Epoch 170/300\n",
            "60000/60000 [==============================] - 6s 99us/sample - loss: 0.0494 - accuracy: 0.9837\n",
            "Epoch 171/300\n",
            "60000/60000 [==============================] - 6s 99us/sample - loss: 0.0542 - accuracy: 0.9830\n",
            "Epoch 172/300\n",
            "60000/60000 [==============================] - 6s 96us/sample - loss: 0.0455 - accuracy: 0.9860\n",
            "Epoch 173/300\n",
            "60000/60000 [==============================] - 6s 98us/sample - loss: 0.0413 - accuracy: 0.9859\n",
            "Epoch 174/300\n",
            "60000/60000 [==============================] - 6s 97us/sample - loss: 0.0412 - accuracy: 0.9862\n",
            "Epoch 175/300\n",
            "60000/60000 [==============================] - 6s 94us/sample - loss: 0.0482 - accuracy: 0.9846\n",
            "Epoch 176/300\n",
            "60000/60000 [==============================] - 6s 97us/sample - loss: 0.0438 - accuracy: 0.9864\n",
            "Epoch 177/300\n",
            "60000/60000 [==============================] - 6s 95us/sample - loss: 0.0416 - accuracy: 0.9860\n",
            "Epoch 178/300\n",
            "60000/60000 [==============================] - 6s 96us/sample - loss: 0.0496 - accuracy: 0.9850\n",
            "Epoch 179/300\n",
            "60000/60000 [==============================] - 6s 92us/sample - loss: 0.0397 - accuracy: 0.9869\n",
            "Epoch 180/300\n",
            "60000/60000 [==============================] - 6s 95us/sample - loss: 0.0462 - accuracy: 0.9853\n",
            "Epoch 181/300\n",
            "60000/60000 [==============================] - 6s 95us/sample - loss: 0.0403 - accuracy: 0.9866\n",
            "Epoch 182/300\n",
            "60000/60000 [==============================] - 6s 94us/sample - loss: 0.0458 - accuracy: 0.9853\n",
            "Epoch 183/300\n",
            "60000/60000 [==============================] - 6s 105us/sample - loss: 0.0485 - accuracy: 0.9855\n",
            "Epoch 184/300\n",
            "60000/60000 [==============================] - 6s 98us/sample - loss: 0.0406 - accuracy: 0.9874\n",
            "Epoch 185/300\n",
            "60000/60000 [==============================] - 6s 96us/sample - loss: 0.0390 - accuracy: 0.9871\n",
            "Epoch 186/300\n",
            "60000/60000 [==============================] - 6s 96us/sample - loss: 0.0449 - accuracy: 0.9851\n",
            "Epoch 187/300\n",
            "60000/60000 [==============================] - 6s 96us/sample - loss: 0.0479 - accuracy: 0.9857\n",
            "Epoch 188/300\n",
            "60000/60000 [==============================] - 6s 97us/sample - loss: 0.0485 - accuracy: 0.9846\n",
            "Epoch 189/300\n",
            "60000/60000 [==============================] - 6s 96us/sample - loss: 0.0418 - accuracy: 0.9867\n",
            "Epoch 190/300\n",
            "60000/60000 [==============================] - 6s 97us/sample - loss: 0.0468 - accuracy: 0.9857\n",
            "Epoch 191/300\n",
            "60000/60000 [==============================] - 6s 99us/sample - loss: 0.0318 - accuracy: 0.9893\n",
            "Epoch 192/300\n",
            "60000/60000 [==============================] - 6s 96us/sample - loss: 0.0571 - accuracy: 0.9830\n",
            "Epoch 193/300\n",
            "60000/60000 [==============================] - 6s 97us/sample - loss: 0.0354 - accuracy: 0.9884\n",
            "Epoch 194/300\n",
            "60000/60000 [==============================] - 6s 97us/sample - loss: 0.0504 - accuracy: 0.9848\n",
            "Epoch 195/300\n",
            "60000/60000 [==============================] - 6s 95us/sample - loss: 0.0386 - accuracy: 0.9874\n",
            "Epoch 196/300\n",
            "60000/60000 [==============================] - 6s 96us/sample - loss: 0.0406 - accuracy: 0.9876\n",
            "Epoch 197/300\n",
            "60000/60000 [==============================] - 6s 97us/sample - loss: 0.0540 - accuracy: 0.9846\n",
            "Epoch 198/300\n",
            "60000/60000 [==============================] - 6s 97us/sample - loss: 0.0401 - accuracy: 0.9874\n",
            "Epoch 199/300\n",
            "60000/60000 [==============================] - 6s 98us/sample - loss: 0.0357 - accuracy: 0.9883\n",
            "Epoch 200/300\n",
            "60000/60000 [==============================] - 6s 96us/sample - loss: 0.0493 - accuracy: 0.9845\n",
            "Epoch 201/300\n",
            "60000/60000 [==============================] - 6s 97us/sample - loss: 0.0413 - accuracy: 0.9873\n",
            "Epoch 202/300\n",
            "60000/60000 [==============================] - 6s 98us/sample - loss: 0.0369 - accuracy: 0.9878\n",
            "Epoch 203/300\n",
            "60000/60000 [==============================] - 6s 96us/sample - loss: 0.0425 - accuracy: 0.9867\n",
            "Epoch 204/300\n",
            "60000/60000 [==============================] - 6s 95us/sample - loss: 0.0468 - accuracy: 0.9864\n",
            "Epoch 205/300\n",
            "60000/60000 [==============================] - 6s 97us/sample - loss: 0.0339 - accuracy: 0.9888\n",
            "Epoch 206/300\n",
            "60000/60000 [==============================] - 6s 95us/sample - loss: 0.0422 - accuracy: 0.9870\n",
            "Epoch 207/300\n",
            "60000/60000 [==============================] - 6s 96us/sample - loss: 0.0450 - accuracy: 0.9865\n",
            "Epoch 208/300\n",
            "60000/60000 [==============================] - 6s 103us/sample - loss: 0.0384 - accuracy: 0.9879\n",
            "Epoch 209/300\n",
            "60000/60000 [==============================] - 7s 109us/sample - loss: 0.0456 - accuracy: 0.9862\n",
            "Epoch 210/300\n",
            "60000/60000 [==============================] - 6s 92us/sample - loss: 0.0394 - accuracy: 0.9884\n",
            "Epoch 211/300\n",
            "60000/60000 [==============================] - 6s 93us/sample - loss: 0.0367 - accuracy: 0.9879\n",
            "Epoch 212/300\n",
            "60000/60000 [==============================] - 6s 95us/sample - loss: 0.0427 - accuracy: 0.9870\n",
            "Epoch 213/300\n",
            "60000/60000 [==============================] - 6s 93us/sample - loss: 0.0353 - accuracy: 0.9884\n",
            "Epoch 214/300\n",
            "60000/60000 [==============================] - 6s 95us/sample - loss: 0.0390 - accuracy: 0.9880\n",
            "Epoch 215/300\n",
            "60000/60000 [==============================] - 6s 95us/sample - loss: 0.0386 - accuracy: 0.9877\n",
            "Epoch 216/300\n",
            "60000/60000 [==============================] - 6s 95us/sample - loss: 0.0402 - accuracy: 0.9879\n",
            "Epoch 217/300\n",
            "60000/60000 [==============================] - 6s 97us/sample - loss: 0.0436 - accuracy: 0.9867\n",
            "Epoch 218/300\n",
            "60000/60000 [==============================] - 6s 97us/sample - loss: 0.0358 - accuracy: 0.9886\n",
            "Epoch 219/300\n",
            "60000/60000 [==============================] - 6s 98us/sample - loss: 0.0361 - accuracy: 0.9883\n",
            "Epoch 220/300\n",
            "60000/60000 [==============================] - 6s 100us/sample - loss: 0.0486 - accuracy: 0.9857\n",
            "Epoch 221/300\n",
            "60000/60000 [==============================] - 6s 99us/sample - loss: 0.0360 - accuracy: 0.9888\n",
            "Epoch 222/300\n",
            "60000/60000 [==============================] - 6s 100us/sample - loss: 0.0405 - accuracy: 0.9875\n",
            "Epoch 223/300\n",
            "60000/60000 [==============================] - 6s 99us/sample - loss: 0.0376 - accuracy: 0.9883\n",
            "Epoch 224/300\n",
            "60000/60000 [==============================] - 6s 99us/sample - loss: 0.0420 - accuracy: 0.9873\n",
            "Epoch 225/300\n",
            "60000/60000 [==============================] - 6s 99us/sample - loss: 0.0411 - accuracy: 0.9877\n",
            "Epoch 226/300\n",
            "60000/60000 [==============================] - 6s 97us/sample - loss: 0.0400 - accuracy: 0.9879\n",
            "Epoch 227/300\n",
            "60000/60000 [==============================] - 6s 102us/sample - loss: 0.0320 - accuracy: 0.9902\n",
            "Epoch 228/300\n",
            "60000/60000 [==============================] - 6s 98us/sample - loss: 0.0399 - accuracy: 0.9876\n",
            "Epoch 229/300\n",
            "60000/60000 [==============================] - 6s 98us/sample - loss: 0.0361 - accuracy: 0.9891\n",
            "Epoch 230/300\n",
            "60000/60000 [==============================] - 6s 96us/sample - loss: 0.0447 - accuracy: 0.9873\n",
            "Epoch 231/300\n",
            "60000/60000 [==============================] - 6s 94us/sample - loss: 0.0358 - accuracy: 0.9889\n",
            "Epoch 232/300\n",
            "60000/60000 [==============================] - 6s 97us/sample - loss: 0.0399 - accuracy: 0.9888\n",
            "Epoch 233/300\n",
            "60000/60000 [==============================] - 6s 95us/sample - loss: 0.0464 - accuracy: 0.9868\n",
            "Epoch 234/300\n",
            "60000/60000 [==============================] - 6s 97us/sample - loss: 0.0419 - accuracy: 0.9883\n",
            "Epoch 235/300\n",
            "60000/60000 [==============================] - 6s 97us/sample - loss: 0.0293 - accuracy: 0.9902\n",
            "Epoch 236/300\n",
            "60000/60000 [==============================] - 7s 111us/sample - loss: 0.0482 - accuracy: 0.9859\n",
            "Epoch 237/300\n",
            "60000/60000 [==============================] - 6s 96us/sample - loss: 0.0397 - accuracy: 0.9887\n",
            "Epoch 238/300\n",
            "60000/60000 [==============================] - 6s 99us/sample - loss: 0.0417 - accuracy: 0.9883\n",
            "Epoch 239/300\n",
            "60000/60000 [==============================] - 6s 97us/sample - loss: 0.0392 - accuracy: 0.9886\n",
            "Epoch 240/300\n",
            "60000/60000 [==============================] - 6s 96us/sample - loss: 0.0382 - accuracy: 0.9880\n",
            "Epoch 241/300\n",
            "60000/60000 [==============================] - 6s 94us/sample - loss: 0.0421 - accuracy: 0.9879\n",
            "Epoch 242/300\n",
            "60000/60000 [==============================] - 6s 94us/sample - loss: 0.0409 - accuracy: 0.9883\n",
            "Epoch 243/300\n",
            "60000/60000 [==============================] - 6s 96us/sample - loss: 0.0372 - accuracy: 0.9887\n",
            "Epoch 244/300\n",
            "60000/60000 [==============================] - 6s 94us/sample - loss: 0.0381 - accuracy: 0.9883\n",
            "Epoch 245/300\n",
            "60000/60000 [==============================] - 6s 97us/sample - loss: 0.0444 - accuracy: 0.9885\n",
            "Epoch 246/300\n",
            "60000/60000 [==============================] - 6s 98us/sample - loss: 0.0371 - accuracy: 0.9888\n",
            "Epoch 247/300\n",
            "60000/60000 [==============================] - 6s 95us/sample - loss: 0.0336 - accuracy: 0.9898\n",
            "Epoch 248/300\n",
            "60000/60000 [==============================] - 6s 97us/sample - loss: 0.0314 - accuracy: 0.9897\n",
            "Epoch 249/300\n",
            "60000/60000 [==============================] - 6s 98us/sample - loss: 0.0430 - accuracy: 0.9873\n",
            "Epoch 250/300\n",
            "60000/60000 [==============================] - 6s 100us/sample - loss: 0.0383 - accuracy: 0.9887\n",
            "Epoch 251/300\n",
            "60000/60000 [==============================] - 6s 96us/sample - loss: 0.0412 - accuracy: 0.9883\n",
            "Epoch 252/300\n",
            "60000/60000 [==============================] - 6s 97us/sample - loss: 0.0359 - accuracy: 0.9895\n",
            "Epoch 253/300\n",
            "60000/60000 [==============================] - 6s 96us/sample - loss: 0.0284 - accuracy: 0.9911\n",
            "Epoch 254/300\n",
            "60000/60000 [==============================] - 6s 97us/sample - loss: 0.0499 - accuracy: 0.9857\n",
            "Epoch 255/300\n",
            "60000/60000 [==============================] - 6s 97us/sample - loss: 0.0315 - accuracy: 0.9905\n",
            "Epoch 256/300\n",
            "60000/60000 [==============================] - 6s 96us/sample - loss: 0.0398 - accuracy: 0.9891\n",
            "Epoch 257/300\n",
            "60000/60000 [==============================] - 6s 96us/sample - loss: 0.0306 - accuracy: 0.9905\n",
            "Epoch 258/300\n",
            "60000/60000 [==============================] - 6s 95us/sample - loss: 0.0416 - accuracy: 0.9886\n",
            "Epoch 259/300\n",
            "60000/60000 [==============================] - 6s 97us/sample - loss: 0.0331 - accuracy: 0.9893\n",
            "Epoch 260/300\n",
            "60000/60000 [==============================] - 6s 96us/sample - loss: 0.0493 - accuracy: 0.9867\n",
            "Epoch 261/300\n",
            "60000/60000 [==============================] - 6s 96us/sample - loss: 0.0302 - accuracy: 0.9906\n",
            "Epoch 262/300\n",
            "60000/60000 [==============================] - 6s 105us/sample - loss: 0.0331 - accuracy: 0.9899\n",
            "Epoch 263/300\n",
            "60000/60000 [==============================] - 6s 102us/sample - loss: 0.0380 - accuracy: 0.9892\n",
            "Epoch 264/300\n",
            "60000/60000 [==============================] - 6s 95us/sample - loss: 0.0373 - accuracy: 0.9888\n",
            "Epoch 265/300\n",
            "60000/60000 [==============================] - 6s 94us/sample - loss: 0.0382 - accuracy: 0.9883\n",
            "Epoch 266/300\n",
            "60000/60000 [==============================] - 6s 95us/sample - loss: 0.0326 - accuracy: 0.9902\n",
            "Epoch 267/300\n",
            "60000/60000 [==============================] - 6s 99us/sample - loss: 0.0317 - accuracy: 0.9904\n",
            "Epoch 268/300\n",
            "60000/60000 [==============================] - 6s 98us/sample - loss: 0.0358 - accuracy: 0.9890\n",
            "Epoch 269/300\n",
            "60000/60000 [==============================] - 6s 97us/sample - loss: 0.0362 - accuracy: 0.9888\n",
            "Epoch 270/300\n",
            "60000/60000 [==============================] - 6s 101us/sample - loss: 0.0457 - accuracy: 0.9867\n",
            "Epoch 271/300\n",
            "60000/60000 [==============================] - 6s 104us/sample - loss: 0.0410 - accuracy: 0.9889\n",
            "Epoch 272/300\n",
            "60000/60000 [==============================] - 6s 101us/sample - loss: 0.0320 - accuracy: 0.9901\n",
            "Epoch 273/300\n",
            "60000/60000 [==============================] - 6s 100us/sample - loss: 0.0279 - accuracy: 0.9913\n",
            "Epoch 274/300\n",
            "60000/60000 [==============================] - 6s 100us/sample - loss: 0.0351 - accuracy: 0.9896\n",
            "Epoch 275/300\n",
            "60000/60000 [==============================] - 6s 100us/sample - loss: 0.0381 - accuracy: 0.9889\n",
            "Epoch 276/300\n",
            "60000/60000 [==============================] - 6s 98us/sample - loss: 0.0446 - accuracy: 0.9887\n",
            "Epoch 277/300\n",
            "60000/60000 [==============================] - 6s 100us/sample - loss: 0.0324 - accuracy: 0.9907\n",
            "Epoch 278/300\n",
            "60000/60000 [==============================] - 6s 97us/sample - loss: 0.0403 - accuracy: 0.9884\n",
            "Epoch 279/300\n",
            "60000/60000 [==============================] - 6s 100us/sample - loss: 0.0374 - accuracy: 0.9891\n",
            "Epoch 280/300\n",
            "60000/60000 [==============================] - 6s 97us/sample - loss: 0.0406 - accuracy: 0.9883\n",
            "Epoch 281/300\n",
            "60000/60000 [==============================] - 6s 98us/sample - loss: 0.0415 - accuracy: 0.9895\n",
            "Epoch 282/300\n",
            "60000/60000 [==============================] - 6s 96us/sample - loss: 0.0260 - accuracy: 0.9918\n",
            "Epoch 283/300\n",
            "60000/60000 [==============================] - 6s 97us/sample - loss: 0.0464 - accuracy: 0.9879\n",
            "Epoch 284/300\n",
            "60000/60000 [==============================] - 6s 97us/sample - loss: 0.0350 - accuracy: 0.9900\n",
            "Epoch 285/300\n",
            "60000/60000 [==============================] - 6s 97us/sample - loss: 0.0500 - accuracy: 0.9881\n",
            "Epoch 286/300\n",
            "60000/60000 [==============================] - 6s 97us/sample - loss: 0.0310 - accuracy: 0.9912\n",
            "Epoch 287/300\n",
            "60000/60000 [==============================] - 6s 98us/sample - loss: 0.0321 - accuracy: 0.9908\n",
            "Epoch 288/300\n",
            "60000/60000 [==============================] - 6s 103us/sample - loss: 0.0318 - accuracy: 0.9908\n",
            "Epoch 289/300\n",
            "60000/60000 [==============================] - 6s 108us/sample - loss: 0.0463 - accuracy: 0.9878\n",
            "Epoch 290/300\n",
            "60000/60000 [==============================] - 6s 98us/sample - loss: 0.0273 - accuracy: 0.9915\n",
            "Epoch 291/300\n",
            "60000/60000 [==============================] - 6s 97us/sample - loss: 0.0379 - accuracy: 0.9887\n",
            "Epoch 292/300\n",
            "60000/60000 [==============================] - 6s 93us/sample - loss: 0.0350 - accuracy: 0.9899\n",
            "Epoch 293/300\n",
            "60000/60000 [==============================] - 6s 96us/sample - loss: 0.0484 - accuracy: 0.9877\n",
            "Epoch 294/300\n",
            "60000/60000 [==============================] - 6s 96us/sample - loss: 0.0286 - accuracy: 0.9912\n",
            "Epoch 295/300\n",
            "60000/60000 [==============================] - 6s 98us/sample - loss: 0.0339 - accuracy: 0.9901\n",
            "Epoch 296/300\n",
            "60000/60000 [==============================] - 6s 96us/sample - loss: 0.0476 - accuracy: 0.9883\n",
            "Epoch 297/300\n",
            "60000/60000 [==============================] - 6s 98us/sample - loss: 0.0288 - accuracy: 0.9911\n",
            "Epoch 298/300\n",
            "60000/60000 [==============================] - 6s 96us/sample - loss: 0.0446 - accuracy: 0.9887\n",
            "Epoch 299/300\n",
            "60000/60000 [==============================] - 6s 96us/sample - loss: 0.0400 - accuracy: 0.9896\n",
            "Epoch 300/300\n",
            "60000/60000 [==============================] - 6s 96us/sample - loss: 0.0342 - accuracy: 0.9903\n"
          ],
          "name": "stdout"
        },
        {
          "output_type": "execute_result",
          "data": {
            "text/plain": [
              "<tensorflow.python.keras.callbacks.History at 0x7fefc99ee978>"
            ]
          },
          "metadata": {
            "tags": []
          },
          "execution_count": 63
        }
      ]
    },
    {
      "cell_type": "code",
      "metadata": {
        "id": "GwacC7b-nljk",
        "colab_type": "code",
        "colab": {
          "base_uri": "https://localhost:8080/",
          "height": 52
        },
        "outputId": "65a173dc-9653-481b-86d8-3de10927d55d"
      },
      "source": [
        "test_loss, test_accuracy = model.evaluate(X_test_scale, y_test)\n",
        "print(test_loss , test_accuracy)"
      ],
      "execution_count": 64,
      "outputs": [
        {
          "output_type": "stream",
          "text": [
            "10000/10000 [==============================] - 1s 51us/sample - loss: 2.3628 - accuracy: 0.8826\n",
            "2.362811868125944 0.8826\n"
          ],
          "name": "stdout"
        }
      ]
    },
    {
      "cell_type": "code",
      "metadata": {
        "id": "Zdkudd2ZoGi7",
        "colab_type": "code",
        "colab": {}
      },
      "source": [
        "pred_classes = model.predict_classes(X_test_scale)"
      ],
      "execution_count": 0,
      "outputs": []
    },
    {
      "cell_type": "code",
      "metadata": {
        "id": "_Y9EAJ0yoLiK",
        "colab_type": "code",
        "colab": {
          "base_uri": "https://localhost:8080/",
          "height": 34
        },
        "outputId": "95f81222-8ab2-41cb-ba61-c1d197e168e8"
      },
      "source": [
        "pred_classes"
      ],
      "execution_count": 66,
      "outputs": [
        {
          "output_type": "execute_result",
          "data": {
            "text/plain": [
              "array([9, 2, 1, ..., 8, 1, 5])"
            ]
          },
          "metadata": {
            "tags": []
          },
          "execution_count": 66
        }
      ]
    },
    {
      "cell_type": "code",
      "metadata": {
        "id": "GT_E8ETKoM6M",
        "colab_type": "code",
        "colab": {}
      },
      "source": [
        "pred_val = model.predict(X_test_scale)"
      ],
      "execution_count": 0,
      "outputs": []
    },
    {
      "cell_type": "code",
      "metadata": {
        "id": "A4ze_ze0oUqZ",
        "colab_type": "code",
        "colab": {
          "base_uri": "https://localhost:8080/",
          "height": 70
        },
        "outputId": "147144ba-22d7-4e2f-809f-6bd1f6eaee5e"
      },
      "source": [
        "pred_val[0],pred_classes[0]"
      ],
      "execution_count": 68,
      "outputs": [
        {
          "output_type": "execute_result",
          "data": {
            "text/plain": [
              "(array([0.00000e+00, 0.00000e+00, 0.00000e+00, 0.00000e+00, 0.00000e+00,\n",
              "        2.90659e-26, 0.00000e+00, 6.61404e-11, 0.00000e+00, 1.00000e+00],\n",
              "       dtype=float32), 9)"
            ]
          },
          "metadata": {
            "tags": []
          },
          "execution_count": 68
        }
      ]
    },
    {
      "cell_type": "code",
      "metadata": {
        "id": "_e0ekFgopSz4",
        "colab_type": "code",
        "colab": {
          "base_uri": "https://localhost:8080/",
          "height": 286
        },
        "outputId": "0adfc7bd-5ed2-42ce-8ba1-8c18f49164b0"
      },
      "source": [
        "plt.figure()\n",
        "plt.imshow(X_train_scale[0])\n",
        "plt.colorbar()"
      ],
      "execution_count": 69,
      "outputs": [
        {
          "output_type": "execute_result",
          "data": {
            "text/plain": [
              "<matplotlib.colorbar.Colorbar at 0x7fefc7fe2278>"
            ]
          },
          "metadata": {
            "tags": []
          },
          "execution_count": 69
        },
        {
          "output_type": "display_data",
          "data": {
            "image/png": "[encoded data removed]",
            "text/plain": [
              "<Figure size 432x288 with 2 Axes>"
            ]
          },
          "metadata": {
            "tags": []
          }
        }
      ]
    },
    {
      "cell_type": "code",
      "metadata": {
        "id": "meAGG54pqF7s",
        "colab_type": "code",
        "colab": {
          "base_uri": "https://localhost:8080/",
          "height": 70
        },
        "outputId": "6fd86584-f211-425a-a921-7e8c27010322"
      },
      "source": [
        "pred_val[1],pred_classes[1]"
      ],
      "execution_count": 70,
      "outputs": [
        {
          "output_type": "execute_result",
          "data": {
            "text/plain": [
              "(array([3.6278568e-32, 0.0000000e+00, 1.0000000e+00, 0.0000000e+00,\n",
              "        9.8651165e-12, 0.0000000e+00, 2.6828928e-17, 0.0000000e+00,\n",
              "        0.0000000e+00, 0.0000000e+00], dtype=float32), 2)"
            ]
          },
          "metadata": {
            "tags": []
          },
          "execution_count": 70
        }
      ]
    },
    {
      "cell_type": "code",
      "metadata": {
        "id": "I2rkui61qBh9",
        "colab_type": "code",
        "colab": {
          "base_uri": "https://localhost:8080/",
          "height": 286
        },
        "outputId": "fa52085c-e0e5-425a-a839-97ce3b19e6ac"
      },
      "source": [
        "plt.figure()\n",
        "plt.imshow(X_train_scale[1])\n",
        "plt.colorbar()"
      ],
      "execution_count": 71,
      "outputs": [
        {
          "output_type": "execute_result",
          "data": {
            "text/plain": [
              "<matplotlib.colorbar.Colorbar at 0x7fefcaba1358>"
            ]
          },
          "metadata": {
            "tags": []
          },
          "execution_count": 71
        },
        {
          "output_type": "display_data",
          "data": {
            "image/png": "[encoded data removed]",
            "text/plain": [
              "<Figure size 432x288 with 2 Axes>"
            ]
          },
          "metadata": {
            "tags": []
          }
        }
      ]
    },
    {
      "cell_type": "code",
      "metadata": {
        "id": "8_oYjQ6NqILk",
        "colab_type": "code",
        "colab": {
          "base_uri": "https://localhost:8080/",
          "height": 70
        },
        "outputId": "d9460899-dac3-4c6a-cf56-a9adae4784e3"
      },
      "source": [
        "pred_val[1],pred_classes[1]"
      ],
      "execution_count": 72,
      "outputs": [
        {
          "output_type": "execute_result",
          "data": {
            "text/plain": [
              "(array([3.6278568e-32, 0.0000000e+00, 1.0000000e+00, 0.0000000e+00,\n",
              "        9.8651165e-12, 0.0000000e+00, 2.6828928e-17, 0.0000000e+00,\n",
              "        0.0000000e+00, 0.0000000e+00], dtype=float32), 2)"
            ]
          },
          "metadata": {
            "tags": []
          },
          "execution_count": 72
        }
      ]
    },
    {
      "cell_type": "code",
      "metadata": {
        "id": "Aj2NL38dqZZC",
        "colab_type": "code",
        "colab": {
          "base_uri": "https://localhost:8080/",
          "height": 286
        },
        "outputId": "71dd85ba-93ba-43e1-e3d5-5a7b8c15382c"
      },
      "source": [
        "plt.figure()\n",
        "plt.imshow(X_train_scale[2])\n",
        "plt.colorbar()"
      ],
      "execution_count": 73,
      "outputs": [
        {
          "output_type": "execute_result",
          "data": {
            "text/plain": [
              "<matplotlib.colorbar.Colorbar at 0x7fefd294dd30>"
            ]
          },
          "metadata": {
            "tags": []
          },
          "execution_count": 73
        },
        {
          "output_type": "display_data",
          "data": {
            "image/png": "[encoded data removed]",
            "text/plain": [
              "<Figure size 432x288 with 2 Axes>"
            ]
          },
          "metadata": {
            "tags": []
          }
        }
      ]
    },
    {
      "cell_type": "code",
      "metadata": {
        "id": "D38rX4kLqccj",
        "colab_type": "code",
        "colab": {
          "base_uri": "https://localhost:8080/",
          "height": 282
        },
        "outputId": "e622573b-14a9-4144-fbb4-cebacc0631eb"
      },
      "source": [
        "plt.figure()\n",
        "plt.imshow(X_train[2])\n",
        "plt.colorbar()"
      ],
      "execution_count": 74,
      "outputs": [
        {
          "output_type": "execute_result",
          "data": {
            "text/plain": [
              "<matplotlib.colorbar.Colorbar at 0x7fefd416bb70>"
            ]
          },
          "metadata": {
            "tags": []
          },
          "execution_count": 74
        },
        {
          "output_type": "display_data",
          "data": {
            "image/png": "[encoded data removed]",
            "text/plain": [
              "<Figure size 432x288 with 2 Axes>"
            ]
          },
          "metadata": {
            "tags": []
          }
        }
      ]
    },
    {
      "cell_type": "code",
      "metadata": {
        "id": "E2luo2Avq1Fp",
        "colab_type": "code",
        "colab": {}
      },
      "source": [
        ""
      ],
      "execution_count": 0,
      "outputs": []
    }
  ]
}