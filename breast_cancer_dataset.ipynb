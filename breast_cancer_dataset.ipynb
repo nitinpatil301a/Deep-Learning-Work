{
  "nbformat": 4,
  "nbformat_minor": 0,
  "metadata": {
    "colab": {
      "name": "breast_cancer_dataset.ipynb",
      "provenance": [],
      "collapsed_sections": [],
      "authorship_tag": "ABX9TyMqvlfQqD5h3o5MC/IjIUFe",
      "include_colab_link": true
    },
    "kernelspec": {
      "name": "python3",
      "display_name": "Python 3"
    },
    "accelerator": "GPU"
  },
  "cells": [
    {
      "cell_type": "markdown",
      "metadata": {
        "id": "view-in-github",
        "colab_type": "text"
      },
      "source": [
        "<a href=\"https://colab.research.google.com/github/nitinpatil301a/Tensorflow-Keras-Work/blob/master/breast_cancer_dataset.ipynb\" target=\"_parent\"><img src=\"https://colab.research.google.com/assets/colab-badge.svg\" alt=\"Open In Colab\"/></a>"
      ]
    },
    {
      "cell_type": "code",
      "metadata": {
        "id": "qtHEAmwfLofr",
        "colab_type": "code",
        "colab": {
          "base_uri": "https://localhost:8080/",
          "height": 102
        },
        "outputId": "f2bb23fe-6c93-49c6-dcd3-e977eed0a8e0"
      },
      "source": [
        "%tensorflow_version 2.0.0\n",
        "import tensorflow as tf\n",
        "import numpy as np\n",
        "import pandas as pd\n",
        "import matplotlib.pyplot as plt\n",
        "from sklearn.datasets import load_breast_cancer"
      ],
      "execution_count": 2,
      "outputs": [
        {
          "output_type": "stream",
          "text": [
            "`%tensorflow_version` only switches the major version: 1.x or 2.x.\n",
            "You set: `2.0.0`. This will be interpreted as: `2.x`.\n",
            "\n",
            "\n",
            "TensorFlow 2.x selected.\n"
          ],
          "name": "stdout"
        }
      ]
    },
    {
      "cell_type": "code",
      "metadata": {
        "id": "uslmbFroMgFQ",
        "colab_type": "code",
        "colab": {}
      },
      "source": [
        "data=load_breast_cancer()"
      ],
      "execution_count": 0,
      "outputs": []
    },
    {
      "cell_type": "code",
      "metadata": {
        "id": "NSbh19tBMm0Z",
        "colab_type": "code",
        "colab": {}
      },
      "source": [
        "df=pd.DataFrame(data=data.data,columns=data.feature_names)"
      ],
      "execution_count": 0,
      "outputs": []
    },
    {
      "cell_type": "code",
      "metadata": {
        "id": "GBHlVU9kMrr_",
        "colab_type": "code",
        "colab": {
          "base_uri": "https://localhost:8080/",
          "height": 258
        },
        "outputId": "6604a2e9-1f4c-4f42-b226-b75f2e1a35b7"
      },
      "source": [
        "df.head()"
      ],
      "execution_count": 5,
      "outputs": [
        {
          "output_type": "execute_result",
          "data": {
            "text/html": [
              "<div>\n",
              "<style scoped>\n",
              "    .dataframe tbody tr th:only-of-type {\n",
              "        vertical-align: middle;\n",
              "    }\n",
              "\n",
              "    .dataframe tbody tr th {\n",
              "        vertical-align: top;\n",
              "    }\n",
              "\n",
              "    .dataframe thead th {\n",
              "        text-align: right;\n",
              "    }\n",
              "</style>\n",
              "<table border=\"1\" class=\"dataframe\">\n",
              "  <thead>\n",
              "    <tr style=\"text-align: right;\">\n",
              "      <th></th>\n",
              "      <th>mean radius</th>\n",
              "      <th>mean texture</th>\n",
              "      <th>mean perimeter</th>\n",
              "      <th>mean area</th>\n",
              "      <th>mean smoothness</th>\n",
              "      <th>mean compactness</th>\n",
              "      <th>mean concavity</th>\n",
              "      <th>mean concave points</th>\n",
              "      <th>mean symmetry</th>\n",
              "      <th>mean fractal dimension</th>\n",
              "      <th>radius error</th>\n",
              "      <th>texture error</th>\n",
              "      <th>perimeter error</th>\n",
              "      <th>area error</th>\n",
              "      <th>smoothness error</th>\n",
              "      <th>compactness error</th>\n",
              "      <th>concavity error</th>\n",
              "      <th>concave points error</th>\n",
              "      <th>symmetry error</th>\n",
              "      <th>fractal dimension error</th>\n",
              "      <th>worst radius</th>\n",
              "      <th>worst texture</th>\n",
              "      <th>worst perimeter</th>\n",
              "      <th>worst area</th>\n",
              "      <th>worst smoothness</th>\n",
              "      <th>worst compactness</th>\n",
              "      <th>worst concavity</th>\n",
              "      <th>worst concave points</th>\n",
              "      <th>worst symmetry</th>\n",
              "      <th>worst fractal dimension</th>\n",
              "    </tr>\n",
              "  </thead>\n",
              "  <tbody>\n",
              "    <tr>\n",
              "      <th>0</th>\n",
              "      <td>17.99</td>\n",
              "      <td>10.38</td>\n",
              "      <td>122.80</td>\n",
              "      <td>1001.0</td>\n",
              "      <td>0.11840</td>\n",
              "      <td>0.27760</td>\n",
              "      <td>0.3001</td>\n",
              "      <td>0.14710</td>\n",
              "      <td>0.2419</td>\n",
              "      <td>0.07871</td>\n",
              "      <td>1.0950</td>\n",
              "      <td>0.9053</td>\n",
              "      <td>8.589</td>\n",
              "      <td>153.40</td>\n",
              "      <td>0.006399</td>\n",
              "      <td>0.04904</td>\n",
              "      <td>0.05373</td>\n",
              "      <td>0.01587</td>\n",
              "      <td>0.03003</td>\n",
              "      <td>0.006193</td>\n",
              "      <td>25.38</td>\n",
              "      <td>17.33</td>\n",
              "      <td>184.60</td>\n",
              "      <td>2019.0</td>\n",
              "      <td>0.1622</td>\n",
              "      <td>0.6656</td>\n",
              "      <td>0.7119</td>\n",
              "      <td>0.2654</td>\n",
              "      <td>0.4601</td>\n",
              "      <td>0.11890</td>\n",
              "    </tr>\n",
              "    <tr>\n",
              "      <th>1</th>\n",
              "      <td>20.57</td>\n",
              "      <td>17.77</td>\n",
              "      <td>132.90</td>\n",
              "      <td>1326.0</td>\n",
              "      <td>0.08474</td>\n",
              "      <td>0.07864</td>\n",
              "      <td>0.0869</td>\n",
              "      <td>0.07017</td>\n",
              "      <td>0.1812</td>\n",
              "      <td>0.05667</td>\n",
              "      <td>0.5435</td>\n",
              "      <td>0.7339</td>\n",
              "      <td>3.398</td>\n",
              "      <td>74.08</td>\n",
              "      <td>0.005225</td>\n",
              "      <td>0.01308</td>\n",
              "      <td>0.01860</td>\n",
              "      <td>0.01340</td>\n",
              "      <td>0.01389</td>\n",
              "      <td>0.003532</td>\n",
              "      <td>24.99</td>\n",
              "      <td>23.41</td>\n",
              "      <td>158.80</td>\n",
              "      <td>1956.0</td>\n",
              "      <td>0.1238</td>\n",
              "      <td>0.1866</td>\n",
              "      <td>0.2416</td>\n",
              "      <td>0.1860</td>\n",
              "      <td>0.2750</td>\n",
              "      <td>0.08902</td>\n",
              "    </tr>\n",
              "    <tr>\n",
              "      <th>2</th>\n",
              "      <td>19.69</td>\n",
              "      <td>21.25</td>\n",
              "      <td>130.00</td>\n",
              "      <td>1203.0</td>\n",
              "      <td>0.10960</td>\n",
              "      <td>0.15990</td>\n",
              "      <td>0.1974</td>\n",
              "      <td>0.12790</td>\n",
              "      <td>0.2069</td>\n",
              "      <td>0.05999</td>\n",
              "      <td>0.7456</td>\n",
              "      <td>0.7869</td>\n",
              "      <td>4.585</td>\n",
              "      <td>94.03</td>\n",
              "      <td>0.006150</td>\n",
              "      <td>0.04006</td>\n",
              "      <td>0.03832</td>\n",
              "      <td>0.02058</td>\n",
              "      <td>0.02250</td>\n",
              "      <td>0.004571</td>\n",
              "      <td>23.57</td>\n",
              "      <td>25.53</td>\n",
              "      <td>152.50</td>\n",
              "      <td>1709.0</td>\n",
              "      <td>0.1444</td>\n",
              "      <td>0.4245</td>\n",
              "      <td>0.4504</td>\n",
              "      <td>0.2430</td>\n",
              "      <td>0.3613</td>\n",
              "      <td>0.08758</td>\n",
              "    </tr>\n",
              "    <tr>\n",
              "      <th>3</th>\n",
              "      <td>11.42</td>\n",
              "      <td>20.38</td>\n",
              "      <td>77.58</td>\n",
              "      <td>386.1</td>\n",
              "      <td>0.14250</td>\n",
              "      <td>0.28390</td>\n",
              "      <td>0.2414</td>\n",
              "      <td>0.10520</td>\n",
              "      <td>0.2597</td>\n",
              "      <td>0.09744</td>\n",
              "      <td>0.4956</td>\n",
              "      <td>1.1560</td>\n",
              "      <td>3.445</td>\n",
              "      <td>27.23</td>\n",
              "      <td>0.009110</td>\n",
              "      <td>0.07458</td>\n",
              "      <td>0.05661</td>\n",
              "      <td>0.01867</td>\n",
              "      <td>0.05963</td>\n",
              "      <td>0.009208</td>\n",
              "      <td>14.91</td>\n",
              "      <td>26.50</td>\n",
              "      <td>98.87</td>\n",
              "      <td>567.7</td>\n",
              "      <td>0.2098</td>\n",
              "      <td>0.8663</td>\n",
              "      <td>0.6869</td>\n",
              "      <td>0.2575</td>\n",
              "      <td>0.6638</td>\n",
              "      <td>0.17300</td>\n",
              "    </tr>\n",
              "    <tr>\n",
              "      <th>4</th>\n",
              "      <td>20.29</td>\n",
              "      <td>14.34</td>\n",
              "      <td>135.10</td>\n",
              "      <td>1297.0</td>\n",
              "      <td>0.10030</td>\n",
              "      <td>0.13280</td>\n",
              "      <td>0.1980</td>\n",
              "      <td>0.10430</td>\n",
              "      <td>0.1809</td>\n",
              "      <td>0.05883</td>\n",
              "      <td>0.7572</td>\n",
              "      <td>0.7813</td>\n",
              "      <td>5.438</td>\n",
              "      <td>94.44</td>\n",
              "      <td>0.011490</td>\n",
              "      <td>0.02461</td>\n",
              "      <td>0.05688</td>\n",
              "      <td>0.01885</td>\n",
              "      <td>0.01756</td>\n",
              "      <td>0.005115</td>\n",
              "      <td>22.54</td>\n",
              "      <td>16.67</td>\n",
              "      <td>152.20</td>\n",
              "      <td>1575.0</td>\n",
              "      <td>0.1374</td>\n",
              "      <td>0.2050</td>\n",
              "      <td>0.4000</td>\n",
              "      <td>0.1625</td>\n",
              "      <td>0.2364</td>\n",
              "      <td>0.07678</td>\n",
              "    </tr>\n",
              "  </tbody>\n",
              "</table>\n",
              "</div>"
            ],
            "text/plain": [
              "   mean radius  mean texture  ...  worst symmetry  worst fractal dimension\n",
              "0        17.99         10.38  ...          0.4601                  0.11890\n",
              "1        20.57         17.77  ...          0.2750                  0.08902\n",
              "2        19.69         21.25  ...          0.3613                  0.08758\n",
              "3        11.42         20.38  ...          0.6638                  0.17300\n",
              "4        20.29         14.34  ...          0.2364                  0.07678\n",
              "\n",
              "[5 rows x 30 columns]"
            ]
          },
          "metadata": {
            "tags": []
          },
          "execution_count": 5
        }
      ]
    },
    {
      "cell_type": "code",
      "metadata": {
        "id": "rf4EElk9TDxO",
        "colab_type": "code",
        "colab": {
          "base_uri": "https://localhost:8080/",
          "height": 544
        },
        "outputId": "ecb33359-c166-410d-c222-35eb50764e61"
      },
      "source": [
        "df.isnull().sum()"
      ],
      "execution_count": 6,
      "outputs": [
        {
          "output_type": "execute_result",
          "data": {
            "text/plain": [
              "mean radius                0\n",
              "mean texture               0\n",
              "mean perimeter             0\n",
              "mean area                  0\n",
              "mean smoothness            0\n",
              "mean compactness           0\n",
              "mean concavity             0\n",
              "mean concave points        0\n",
              "mean symmetry              0\n",
              "mean fractal dimension     0\n",
              "radius error               0\n",
              "texture error              0\n",
              "perimeter error            0\n",
              "area error                 0\n",
              "smoothness error           0\n",
              "compactness error          0\n",
              "concavity error            0\n",
              "concave points error       0\n",
              "symmetry error             0\n",
              "fractal dimension error    0\n",
              "worst radius               0\n",
              "worst texture              0\n",
              "worst perimeter            0\n",
              "worst area                 0\n",
              "worst smoothness           0\n",
              "worst compactness          0\n",
              "worst concavity            0\n",
              "worst concave points       0\n",
              "worst symmetry             0\n",
              "worst fractal dimension    0\n",
              "dtype: int64"
            ]
          },
          "metadata": {
            "tags": []
          },
          "execution_count": 6
        }
      ]
    },
    {
      "cell_type": "code",
      "metadata": {
        "id": "HIDBsbqIWGra",
        "colab_type": "code",
        "colab": {
          "base_uri": "https://localhost:8080/",
          "height": 34
        },
        "outputId": "1f04f42d-d8c2-4399-fa28-03fc9df9a960"
      },
      "source": [
        "y=pd.DataFrame(data.target,columns=[\"target\"])\n",
        "df.shape,y.shape"
      ],
      "execution_count": 7,
      "outputs": [
        {
          "output_type": "execute_result",
          "data": {
            "text/plain": [
              "((569, 30), (569, 1))"
            ]
          },
          "metadata": {
            "tags": []
          },
          "execution_count": 7
        }
      ]
    },
    {
      "cell_type": "code",
      "metadata": {
        "id": "ppNuGEC3Wv62",
        "colab_type": "code",
        "colab": {}
      },
      "source": [
        ""
      ],
      "execution_count": 0,
      "outputs": []
    },
    {
      "cell_type": "code",
      "metadata": {
        "id": "rcd1STSoNZuX",
        "colab_type": "code",
        "colab": {}
      },
      "source": [
        "from sklearn.preprocessing import StandardScaler\n",
        "sc=StandardScaler()"
      ],
      "execution_count": 0,
      "outputs": []
    },
    {
      "cell_type": "code",
      "metadata": {
        "id": "---VRr3pNrGN",
        "colab_type": "code",
        "colab": {}
      },
      "source": [
        "df=sc.fit_transform(df,y)\n"
      ],
      "execution_count": 0,
      "outputs": []
    },
    {
      "cell_type": "code",
      "metadata": {
        "id": "3rANAE7ERb7l",
        "colab_type": "code",
        "colab": {
          "base_uri": "https://localhost:8080/",
          "height": 34
        },
        "outputId": "25257751-11cc-42e5-f9eb-9b9e598028c6"
      },
      "source": [
        "from sklearn.model_selection import train_test_split\n",
        "x_train,x_test,y_train,y_test=train_test_split(df,y.values,test_size=0.1)\n",
        "x_train.shape,y_train.shape"
      ],
      "execution_count": 10,
      "outputs": [
        {
          "output_type": "execute_result",
          "data": {
            "text/plain": [
              "((512, 30), (512, 1))"
            ]
          },
          "metadata": {
            "tags": []
          },
          "execution_count": 10
        }
      ]
    },
    {
      "cell_type": "code",
      "metadata": {
        "id": "UCcDLl-dN52Z",
        "colab_type": "code",
        "colab": {}
      },
      "source": [
        "from tensorflow.keras import Sequential\n",
        "from tensorflow.keras.layers import Dense"
      ],
      "execution_count": 0,
      "outputs": []
    },
    {
      "cell_type": "code",
      "metadata": {
        "id": "XUErxkSeOIXP",
        "colab_type": "code",
        "colab": {}
      },
      "source": [
        "model= Sequential()\n",
        "model.add(Dense(30, activation = 'relu'))\n",
        "model.add(Dense(16, activation = 'relu'))\n",
        "model.add(Dense(16, activation = 'relu'))\n",
        "model.add(Dense(1, activation = 'sigmoid'))"
      ],
      "execution_count": 0,
      "outputs": []
    },
    {
      "cell_type": "code",
      "metadata": {
        "id": "EOSeyTyjO32_",
        "colab_type": "code",
        "colab": {}
      },
      "source": [
        "model.compile(optimizer=\"adam\",loss=\"binary_crossentropy\",metrics=['accuracy'])"
      ],
      "execution_count": 0,
      "outputs": []
    },
    {
      "cell_type": "code",
      "metadata": {
        "id": "bpTi0rL9QTa7",
        "colab_type": "code",
        "colab": {
          "base_uri": "https://localhost:8080/",
          "height": 1000
        },
        "outputId": "aaae3495-2f43-470d-8e05-293ed92be96d"
      },
      "source": [
        "history=model.fit(x_train,y_train,batch_size=10,epochs=100,validation_split=0.1)"
      ],
      "execution_count": 14,
      "outputs": [
        {
          "output_type": "stream",
          "text": [
            "Train on 460 samples, validate on 52 samples\n",
            "Epoch 1/100\n",
            "460/460 [==============================] - 2s 5ms/sample - loss: 0.4790 - accuracy: 0.8500 - val_loss: 0.3335 - val_accuracy: 0.9038\n",
            "Epoch 2/100\n",
            "460/460 [==============================] - 0s 400us/sample - loss: 0.2036 - accuracy: 0.9391 - val_loss: 0.1637 - val_accuracy: 0.9231\n",
            "Epoch 3/100\n",
            "460/460 [==============================] - 0s 433us/sample - loss: 0.1130 - accuracy: 0.9609 - val_loss: 0.0945 - val_accuracy: 0.9423\n",
            "Epoch 4/100\n",
            "460/460 [==============================] - 0s 383us/sample - loss: 0.0808 - accuracy: 0.9761 - val_loss: 0.0612 - val_accuracy: 0.9808\n",
            "Epoch 5/100\n",
            "460/460 [==============================] - 0s 381us/sample - loss: 0.0656 - accuracy: 0.9783 - val_loss: 0.0419 - val_accuracy: 0.9808\n",
            "Epoch 6/100\n",
            "460/460 [==============================] - 0s 344us/sample - loss: 0.0555 - accuracy: 0.9848 - val_loss: 0.0339 - val_accuracy: 0.9808\n",
            "Epoch 7/100\n",
            "460/460 [==============================] - 0s 331us/sample - loss: 0.0481 - accuracy: 0.9848 - val_loss: 0.0291 - val_accuracy: 0.9808\n",
            "Epoch 8/100\n",
            "460/460 [==============================] - 0s 315us/sample - loss: 0.0426 - accuracy: 0.9870 - val_loss: 0.0259 - val_accuracy: 0.9808\n",
            "Epoch 9/100\n",
            "460/460 [==============================] - 0s 358us/sample - loss: 0.0388 - accuracy: 0.9870 - val_loss: 0.0230 - val_accuracy: 0.9808\n",
            "Epoch 10/100\n",
            "460/460 [==============================] - 0s 375us/sample - loss: 0.0353 - accuracy: 0.9891 - val_loss: 0.0215 - val_accuracy: 0.9808\n",
            "Epoch 11/100\n",
            "460/460 [==============================] - 0s 359us/sample - loss: 0.0312 - accuracy: 0.9913 - val_loss: 0.0204 - val_accuracy: 0.9808\n",
            "Epoch 12/100\n",
            "460/460 [==============================] - 0s 346us/sample - loss: 0.0283 - accuracy: 0.9935 - val_loss: 0.0210 - val_accuracy: 0.9808\n",
            "Epoch 13/100\n",
            "460/460 [==============================] - 0s 375us/sample - loss: 0.0255 - accuracy: 0.9913 - val_loss: 0.0155 - val_accuracy: 1.0000\n",
            "Epoch 14/100\n",
            "460/460 [==============================] - 0s 328us/sample - loss: 0.0226 - accuracy: 0.9935 - val_loss: 0.0189 - val_accuracy: 0.9808\n",
            "Epoch 15/100\n",
            "460/460 [==============================] - 0s 329us/sample - loss: 0.0184 - accuracy: 0.9957 - val_loss: 0.0150 - val_accuracy: 1.0000\n",
            "Epoch 16/100\n",
            "460/460 [==============================] - 0s 345us/sample - loss: 0.0177 - accuracy: 0.9935 - val_loss: 0.0126 - val_accuracy: 1.0000\n",
            "Epoch 17/100\n",
            "460/460 [==============================] - 0s 342us/sample - loss: 0.0141 - accuracy: 0.9957 - val_loss: 0.0118 - val_accuracy: 1.0000\n",
            "Epoch 18/100\n",
            "460/460 [==============================] - 0s 400us/sample - loss: 0.0129 - accuracy: 0.9978 - val_loss: 0.0093 - val_accuracy: 1.0000\n",
            "Epoch 19/100\n",
            "460/460 [==============================] - 0s 352us/sample - loss: 0.0111 - accuracy: 0.9978 - val_loss: 0.0072 - val_accuracy: 1.0000\n",
            "Epoch 20/100\n",
            "460/460 [==============================] - 0s 341us/sample - loss: 0.0096 - accuracy: 1.0000 - val_loss: 0.0129 - val_accuracy: 1.0000\n",
            "Epoch 21/100\n",
            "460/460 [==============================] - 0s 345us/sample - loss: 0.0083 - accuracy: 1.0000 - val_loss: 0.0041 - val_accuracy: 1.0000\n",
            "Epoch 22/100\n",
            "460/460 [==============================] - 0s 328us/sample - loss: 0.0088 - accuracy: 0.9978 - val_loss: 0.0115 - val_accuracy: 1.0000\n",
            "Epoch 23/100\n",
            "460/460 [==============================] - 0s 345us/sample - loss: 0.0079 - accuracy: 1.0000 - val_loss: 0.0041 - val_accuracy: 1.0000\n",
            "Epoch 24/100\n",
            "460/460 [==============================] - 0s 350us/sample - loss: 0.0067 - accuracy: 1.0000 - val_loss: 0.0051 - val_accuracy: 1.0000\n",
            "Epoch 25/100\n",
            "460/460 [==============================] - 0s 334us/sample - loss: 0.0062 - accuracy: 1.0000 - val_loss: 0.0074 - val_accuracy: 1.0000\n",
            "Epoch 26/100\n",
            "460/460 [==============================] - 0s 334us/sample - loss: 0.0052 - accuracy: 1.0000 - val_loss: 0.0027 - val_accuracy: 1.0000\n",
            "Epoch 27/100\n",
            "460/460 [==============================] - 0s 333us/sample - loss: 0.0040 - accuracy: 1.0000 - val_loss: 0.0052 - val_accuracy: 1.0000\n",
            "Epoch 28/100\n",
            "460/460 [==============================] - 0s 336us/sample - loss: 0.0035 - accuracy: 1.0000 - val_loss: 0.0053 - val_accuracy: 1.0000\n",
            "Epoch 29/100\n",
            "460/460 [==============================] - 0s 351us/sample - loss: 0.0031 - accuracy: 1.0000 - val_loss: 0.0037 - val_accuracy: 1.0000\n",
            "Epoch 30/100\n",
            "460/460 [==============================] - 0s 407us/sample - loss: 0.0026 - accuracy: 1.0000 - val_loss: 0.0026 - val_accuracy: 1.0000\n",
            "Epoch 31/100\n",
            "460/460 [==============================] - 0s 403us/sample - loss: 0.0024 - accuracy: 1.0000 - val_loss: 0.0041 - val_accuracy: 1.0000\n",
            "Epoch 32/100\n",
            "460/460 [==============================] - 0s 389us/sample - loss: 0.0023 - accuracy: 1.0000 - val_loss: 0.0028 - val_accuracy: 1.0000\n",
            "Epoch 33/100\n",
            "460/460 [==============================] - 0s 425us/sample - loss: 0.0019 - accuracy: 1.0000 - val_loss: 0.0026 - val_accuracy: 1.0000\n",
            "Epoch 34/100\n",
            "460/460 [==============================] - 0s 398us/sample - loss: 0.0017 - accuracy: 1.0000 - val_loss: 0.0018 - val_accuracy: 1.0000\n",
            "Epoch 35/100\n",
            "460/460 [==============================] - 0s 344us/sample - loss: 0.0017 - accuracy: 1.0000 - val_loss: 0.0022 - val_accuracy: 1.0000\n",
            "Epoch 36/100\n",
            "460/460 [==============================] - 0s 357us/sample - loss: 0.0015 - accuracy: 1.0000 - val_loss: 0.0022 - val_accuracy: 1.0000\n",
            "Epoch 37/100\n",
            "460/460 [==============================] - 0s 329us/sample - loss: 0.0013 - accuracy: 1.0000 - val_loss: 0.0018 - val_accuracy: 1.0000\n",
            "Epoch 38/100\n",
            "460/460 [==============================] - 0s 339us/sample - loss: 0.0012 - accuracy: 1.0000 - val_loss: 0.0014 - val_accuracy: 1.0000\n",
            "Epoch 39/100\n",
            "460/460 [==============================] - 0s 338us/sample - loss: 0.0011 - accuracy: 1.0000 - val_loss: 0.0014 - val_accuracy: 1.0000\n",
            "Epoch 40/100\n",
            "460/460 [==============================] - 0s 335us/sample - loss: 0.0010 - accuracy: 1.0000 - val_loss: 0.0017 - val_accuracy: 1.0000\n",
            "Epoch 41/100\n",
            "460/460 [==============================] - 0s 331us/sample - loss: 0.0011 - accuracy: 1.0000 - val_loss: 0.0018 - val_accuracy: 1.0000\n",
            "Epoch 42/100\n",
            "460/460 [==============================] - 0s 353us/sample - loss: 9.2571e-04 - accuracy: 1.0000 - val_loss: 0.0012 - val_accuracy: 1.0000\n",
            "Epoch 43/100\n",
            "460/460 [==============================] - 0s 326us/sample - loss: 8.4504e-04 - accuracy: 1.0000 - val_loss: 0.0015 - val_accuracy: 1.0000\n",
            "Epoch 44/100\n",
            "460/460 [==============================] - 0s 338us/sample - loss: 7.5815e-04 - accuracy: 1.0000 - val_loss: 0.0011 - val_accuracy: 1.0000\n",
            "Epoch 45/100\n",
            "460/460 [==============================] - 0s 347us/sample - loss: 7.0059e-04 - accuracy: 1.0000 - val_loss: 0.0011 - val_accuracy: 1.0000\n",
            "Epoch 46/100\n",
            "460/460 [==============================] - 0s 333us/sample - loss: 6.3490e-04 - accuracy: 1.0000 - val_loss: 0.0011 - val_accuracy: 1.0000\n",
            "Epoch 47/100\n",
            "460/460 [==============================] - 0s 344us/sample - loss: 6.0742e-04 - accuracy: 1.0000 - val_loss: 9.5798e-04 - val_accuracy: 1.0000\n",
            "Epoch 48/100\n",
            "460/460 [==============================] - 0s 346us/sample - loss: 5.8833e-04 - accuracy: 1.0000 - val_loss: 9.7527e-04 - val_accuracy: 1.0000\n",
            "Epoch 49/100\n",
            "460/460 [==============================] - 0s 398us/sample - loss: 5.5599e-04 - accuracy: 1.0000 - val_loss: 7.6882e-04 - val_accuracy: 1.0000\n",
            "Epoch 50/100\n",
            "460/460 [==============================] - 0s 385us/sample - loss: 5.0862e-04 - accuracy: 1.0000 - val_loss: 7.4847e-04 - val_accuracy: 1.0000\n",
            "Epoch 51/100\n",
            "460/460 [==============================] - 0s 398us/sample - loss: 4.6140e-04 - accuracy: 1.0000 - val_loss: 7.1712e-04 - val_accuracy: 1.0000\n",
            "Epoch 52/100\n",
            "460/460 [==============================] - 0s 391us/sample - loss: 4.4365e-04 - accuracy: 1.0000 - val_loss: 6.5449e-04 - val_accuracy: 1.0000\n",
            "Epoch 53/100\n",
            "460/460 [==============================] - 0s 361us/sample - loss: 4.1252e-04 - accuracy: 1.0000 - val_loss: 7.0910e-04 - val_accuracy: 1.0000\n",
            "Epoch 54/100\n",
            "460/460 [==============================] - 0s 352us/sample - loss: 3.9874e-04 - accuracy: 1.0000 - val_loss: 7.1823e-04 - val_accuracy: 1.0000\n",
            "Epoch 55/100\n",
            "460/460 [==============================] - 0s 336us/sample - loss: 3.7251e-04 - accuracy: 1.0000 - val_loss: 5.8454e-04 - val_accuracy: 1.0000\n",
            "Epoch 56/100\n",
            "460/460 [==============================] - 0s 325us/sample - loss: 3.5860e-04 - accuracy: 1.0000 - val_loss: 5.1635e-04 - val_accuracy: 1.0000\n",
            "Epoch 57/100\n",
            "460/460 [==============================] - 0s 334us/sample - loss: 3.3180e-04 - accuracy: 1.0000 - val_loss: 6.5495e-04 - val_accuracy: 1.0000\n",
            "Epoch 58/100\n",
            "460/460 [==============================] - 0s 376us/sample - loss: 3.1616e-04 - accuracy: 1.0000 - val_loss: 4.5848e-04 - val_accuracy: 1.0000\n",
            "Epoch 59/100\n",
            "460/460 [==============================] - 0s 345us/sample - loss: 3.0242e-04 - accuracy: 1.0000 - val_loss: 4.6561e-04 - val_accuracy: 1.0000\n",
            "Epoch 60/100\n",
            "460/460 [==============================] - 0s 315us/sample - loss: 2.8883e-04 - accuracy: 1.0000 - val_loss: 5.1973e-04 - val_accuracy: 1.0000\n",
            "Epoch 61/100\n",
            "460/460 [==============================] - 0s 363us/sample - loss: 2.6676e-04 - accuracy: 1.0000 - val_loss: 3.7652e-04 - val_accuracy: 1.0000\n",
            "Epoch 62/100\n",
            "460/460 [==============================] - 0s 332us/sample - loss: 2.5570e-04 - accuracy: 1.0000 - val_loss: 3.3628e-04 - val_accuracy: 1.0000\n",
            "Epoch 63/100\n",
            "460/460 [==============================] - 0s 321us/sample - loss: 2.4634e-04 - accuracy: 1.0000 - val_loss: 4.0966e-04 - val_accuracy: 1.0000\n",
            "Epoch 64/100\n",
            "460/460 [==============================] - 0s 327us/sample - loss: 2.3689e-04 - accuracy: 1.0000 - val_loss: 3.1312e-04 - val_accuracy: 1.0000\n",
            "Epoch 65/100\n",
            "460/460 [==============================] - 0s 344us/sample - loss: 2.3070e-04 - accuracy: 1.0000 - val_loss: 4.2277e-04 - val_accuracy: 1.0000\n",
            "Epoch 66/100\n",
            "460/460 [==============================] - 0s 353us/sample - loss: 2.1637e-04 - accuracy: 1.0000 - val_loss: 4.3210e-04 - val_accuracy: 1.0000\n",
            "Epoch 67/100\n",
            "460/460 [==============================] - 0s 338us/sample - loss: 2.0056e-04 - accuracy: 1.0000 - val_loss: 3.1434e-04 - val_accuracy: 1.0000\n",
            "Epoch 68/100\n",
            "460/460 [==============================] - 0s 323us/sample - loss: 1.9430e-04 - accuracy: 1.0000 - val_loss: 3.6188e-04 - val_accuracy: 1.0000\n",
            "Epoch 69/100\n",
            "460/460 [==============================] - 0s 320us/sample - loss: 1.8135e-04 - accuracy: 1.0000 - val_loss: 2.9029e-04 - val_accuracy: 1.0000\n",
            "Epoch 70/100\n",
            "460/460 [==============================] - 0s 330us/sample - loss: 1.6970e-04 - accuracy: 1.0000 - val_loss: 2.9916e-04 - val_accuracy: 1.0000\n",
            "Epoch 71/100\n",
            "460/460 [==============================] - 0s 333us/sample - loss: 1.6136e-04 - accuracy: 1.0000 - val_loss: 2.8395e-04 - val_accuracy: 1.0000\n",
            "Epoch 72/100\n",
            "460/460 [==============================] - 0s 357us/sample - loss: 1.5579e-04 - accuracy: 1.0000 - val_loss: 3.0105e-04 - val_accuracy: 1.0000\n",
            "Epoch 73/100\n",
            "460/460 [==============================] - 0s 385us/sample - loss: 1.4802e-04 - accuracy: 1.0000 - val_loss: 2.5988e-04 - val_accuracy: 1.0000\n",
            "Epoch 74/100\n",
            "460/460 [==============================] - 0s 423us/sample - loss: 1.4131e-04 - accuracy: 1.0000 - val_loss: 2.5702e-04 - val_accuracy: 1.0000\n",
            "Epoch 75/100\n",
            "460/460 [==============================] - 0s 389us/sample - loss: 1.3822e-04 - accuracy: 1.0000 - val_loss: 2.1871e-04 - val_accuracy: 1.0000\n",
            "Epoch 76/100\n",
            "460/460 [==============================] - 0s 379us/sample - loss: 1.3125e-04 - accuracy: 1.0000 - val_loss: 2.3469e-04 - val_accuracy: 1.0000\n",
            "Epoch 77/100\n",
            "460/460 [==============================] - 0s 359us/sample - loss: 1.2896e-04 - accuracy: 1.0000 - val_loss: 2.4139e-04 - val_accuracy: 1.0000\n",
            "Epoch 78/100\n",
            "460/460 [==============================] - 0s 344us/sample - loss: 1.1871e-04 - accuracy: 1.0000 - val_loss: 2.1098e-04 - val_accuracy: 1.0000\n",
            "Epoch 79/100\n",
            "460/460 [==============================] - 0s 331us/sample - loss: 1.1253e-04 - accuracy: 1.0000 - val_loss: 2.0060e-04 - val_accuracy: 1.0000\n",
            "Epoch 80/100\n",
            "460/460 [==============================] - 0s 351us/sample - loss: 1.0759e-04 - accuracy: 1.0000 - val_loss: 1.8643e-04 - val_accuracy: 1.0000\n",
            "Epoch 81/100\n",
            "460/460 [==============================] - 0s 325us/sample - loss: 1.0318e-04 - accuracy: 1.0000 - val_loss: 1.9423e-04 - val_accuracy: 1.0000\n",
            "Epoch 82/100\n",
            "460/460 [==============================] - 0s 330us/sample - loss: 9.9041e-05 - accuracy: 1.0000 - val_loss: 1.8259e-04 - val_accuracy: 1.0000\n",
            "Epoch 83/100\n",
            "460/460 [==============================] - 0s 331us/sample - loss: 9.7002e-05 - accuracy: 1.0000 - val_loss: 1.7363e-04 - val_accuracy: 1.0000\n",
            "Epoch 84/100\n",
            "460/460 [==============================] - 0s 340us/sample - loss: 9.1098e-05 - accuracy: 1.0000 - val_loss: 1.5727e-04 - val_accuracy: 1.0000\n",
            "Epoch 85/100\n",
            "460/460 [==============================] - 0s 328us/sample - loss: 8.8589e-05 - accuracy: 1.0000 - val_loss: 1.6756e-04 - val_accuracy: 1.0000\n",
            "Epoch 86/100\n",
            "460/460 [==============================] - 0s 344us/sample - loss: 8.3156e-05 - accuracy: 1.0000 - val_loss: 1.5417e-04 - val_accuracy: 1.0000\n",
            "Epoch 87/100\n",
            "460/460 [==============================] - 0s 348us/sample - loss: 8.0821e-05 - accuracy: 1.0000 - val_loss: 1.5447e-04 - val_accuracy: 1.0000\n",
            "Epoch 88/100\n",
            "460/460 [==============================] - 0s 330us/sample - loss: 7.7434e-05 - accuracy: 1.0000 - val_loss: 1.3418e-04 - val_accuracy: 1.0000\n",
            "Epoch 89/100\n",
            "460/460 [==============================] - 0s 337us/sample - loss: 7.4084e-05 - accuracy: 1.0000 - val_loss: 1.4853e-04 - val_accuracy: 1.0000\n",
            "Epoch 90/100\n",
            "460/460 [==============================] - 0s 372us/sample - loss: 7.1798e-05 - accuracy: 1.0000 - val_loss: 1.3712e-04 - val_accuracy: 1.0000\n",
            "Epoch 91/100\n",
            "460/460 [==============================] - 0s 334us/sample - loss: 6.9272e-05 - accuracy: 1.0000 - val_loss: 1.1935e-04 - val_accuracy: 1.0000\n",
            "Epoch 92/100\n",
            "460/460 [==============================] - 0s 329us/sample - loss: 6.7026e-05 - accuracy: 1.0000 - val_loss: 1.2129e-04 - val_accuracy: 1.0000\n",
            "Epoch 93/100\n",
            "460/460 [==============================] - 0s 350us/sample - loss: 6.3692e-05 - accuracy: 1.0000 - val_loss: 1.3590e-04 - val_accuracy: 1.0000\n",
            "Epoch 94/100\n",
            "460/460 [==============================] - 0s 331us/sample - loss: 6.2350e-05 - accuracy: 1.0000 - val_loss: 1.2506e-04 - val_accuracy: 1.0000\n",
            "Epoch 95/100\n",
            "460/460 [==============================] - 0s 335us/sample - loss: 5.9651e-05 - accuracy: 1.0000 - val_loss: 1.1830e-04 - val_accuracy: 1.0000\n",
            "Epoch 96/100\n",
            "460/460 [==============================] - 0s 327us/sample - loss: 5.7137e-05 - accuracy: 1.0000 - val_loss: 1.0673e-04 - val_accuracy: 1.0000\n",
            "Epoch 97/100\n",
            "460/460 [==============================] - 0s 346us/sample - loss: 5.6244e-05 - accuracy: 1.0000 - val_loss: 1.0445e-04 - val_accuracy: 1.0000\n",
            "Epoch 98/100\n",
            "460/460 [==============================] - 0s 346us/sample - loss: 5.3775e-05 - accuracy: 1.0000 - val_loss: 1.0499e-04 - val_accuracy: 1.0000\n",
            "Epoch 99/100\n",
            "460/460 [==============================] - 0s 361us/sample - loss: 5.1946e-05 - accuracy: 1.0000 - val_loss: 9.2254e-05 - val_accuracy: 1.0000\n",
            "Epoch 100/100\n",
            "460/460 [==============================] - 0s 330us/sample - loss: 4.9848e-05 - accuracy: 1.0000 - val_loss: 9.5911e-05 - val_accuracy: 1.0000\n"
          ],
          "name": "stdout"
        }
      ]
    },
    {
      "cell_type": "code",
      "metadata": {
        "id": "UkJCRBMkQkZP",
        "colab_type": "code",
        "colab": {
          "base_uri": "https://localhost:8080/",
          "height": 573
        },
        "outputId": "c83dd3d8-af69-433e-b34a-5678c81baeee"
      },
      "source": [
        "plt.plot(history.history['accuracy'], label='Training accuracy')\n",
        "plt.plot(history.history['val_accuracy'], label='Validation accuracy')\n",
        "plt.title('Validation accuracies')\n",
        "plt.ylabel('Accuracy')\n",
        "plt.xlabel('Epoch')\n",
        "plt.legend(loc=\"upper left\")\n",
        "plt.show()\n",
        "\n",
        "plt.plot(history.history['loss'], label='Training loss')\n",
        "plt.plot(history.history['val_loss'], label='Validation loss')\n",
        "plt.title('validation loss values')\n",
        "plt.ylabel('Loss value')\n",
        "plt.xlabel('Epoch')\n",
        "plt.legend(loc=\"upper left\")\n",
        "plt.show()"
      ],
      "execution_count": 15,
      "outputs": [
        {
          "output_type": "display_data",
          "data": {
            "image/png": "[encoded data removed]",
            "text/plain": [
              "<Figure size 432x288 with 1 Axes>"
            ]
          },
          "metadata": {
            "tags": []
          }
        },
        {
          "output_type": "display_data",
          "data": {
            "image/png": "[encoded data removed]",
            "text/plain": [
              "<Figure size 432x288 with 1 Axes>"
            ]
          },
          "metadata": {
            "tags": []
          }
        }
      ]
    },
    {
      "cell_type": "code",
      "metadata": {
        "id": "OBT8wYlpaySw",
        "colab_type": "code",
        "colab": {}
      },
      "source": [
        ""
      ],
      "execution_count": 0,
      "outputs": []
    }
  ]
}