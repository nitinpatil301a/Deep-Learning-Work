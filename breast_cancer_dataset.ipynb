{
  "nbformat": 4,
  "nbformat_minor": 0,
  "metadata": {
    "colab": {
      "name": "breast_cancer_dataset.ipynb",
      "provenance": [],
      "collapsed_sections": [],
      "authorship_tag": "ABX9TyOzv7LrhQaOPdFOqisYuNSW",
      "include_colab_link": true
    },
    "kernelspec": {
      "name": "python3",
      "display_name": "Python 3"
    },
    "accelerator": "TPU"
  },
  "cells": [
    {
      "cell_type": "markdown",
      "metadata": {
        "id": "view-in-github",
        "colab_type": "text"
      },
      "source": [
        "<a href=\"https://colab.research.google.com/github/nitinpatil301a/Tensorflow-Keras-Work/blob/master/breast_cancer_dataset.ipynb\" target=\"_parent\"><img src=\"https://colab.research.google.com/assets/colab-badge.svg\" alt=\"Open In Colab\"/></a>"
      ]
    },
    {
      "cell_type": "code",
      "metadata": {
        "id": "qtHEAmwfLofr",
        "colab_type": "code",
        "outputId": "1234b8b2-31dc-4ec3-ea3b-7dd2f221dc8c",
        "colab": {
          "base_uri": "https://localhost:8080/",
          "height": 102
        }
      },
      "source": [
        "%tensorflow_version 2.0.0\n",
        "import tensorflow as tf\n",
        "import numpy as np\n",
        "import pandas as pd\n",
        "import matplotlib.pyplot as plt\n",
        "from sklearn.datasets import load_breast_cancer"
      ],
      "execution_count": 1,
      "outputs": [
        {
          "output_type": "stream",
          "text": [
            "`%tensorflow_version` only switches the major version: 1.x or 2.x.\n",
            "You set: `2.0.0`. This will be interpreted as: `2.x`.\n",
            "\n",
            "\n",
            "TensorFlow 2.x selected.\n"
          ],
          "name": "stdout"
        }
      ]
    },
    {
      "cell_type": "code",
      "metadata": {
        "id": "uslmbFroMgFQ",
        "colab_type": "code",
        "colab": {}
      },
      "source": [
        "data=load_breast_cancer()"
      ],
      "execution_count": 0,
      "outputs": []
    },
    {
      "cell_type": "code",
      "metadata": {
        "id": "NSbh19tBMm0Z",
        "colab_type": "code",
        "colab": {}
      },
      "source": [
        "df=pd.DataFrame(data=data.data,columns=data.feature_names)"
      ],
      "execution_count": 0,
      "outputs": []
    },
    {
      "cell_type": "code",
      "metadata": {
        "id": "GBHlVU9kMrr_",
        "colab_type": "code",
        "outputId": "e5835d6d-abea-4c09-97f0-d9ebb0ad6ac5",
        "colab": {
          "base_uri": "https://localhost:8080/",
          "height": 258
        }
      },
      "source": [
        "df.head()"
      ],
      "execution_count": 4,
      "outputs": [
        {
          "output_type": "execute_result",
          "data": {
            "text/html": [
              "<div>\n",
              "<style scoped>\n",
              "    .dataframe tbody tr th:only-of-type {\n",
              "        vertical-align: middle;\n",
              "    }\n",
              "\n",
              "    .dataframe tbody tr th {\n",
              "        vertical-align: top;\n",
              "    }\n",
              "\n",
              "    .dataframe thead th {\n",
              "        text-align: right;\n",
              "    }\n",
              "</style>\n",
              "<table border=\"1\" class=\"dataframe\">\n",
              "  <thead>\n",
              "    <tr style=\"text-align: right;\">\n",
              "      <th></th>\n",
              "      <th>mean radius</th>\n",
              "      <th>mean texture</th>\n",
              "      <th>mean perimeter</th>\n",
              "      <th>mean area</th>\n",
              "      <th>mean smoothness</th>\n",
              "      <th>mean compactness</th>\n",
              "      <th>mean concavity</th>\n",
              "      <th>mean concave points</th>\n",
              "      <th>mean symmetry</th>\n",
              "      <th>mean fractal dimension</th>\n",
              "      <th>radius error</th>\n",
              "      <th>texture error</th>\n",
              "      <th>perimeter error</th>\n",
              "      <th>area error</th>\n",
              "      <th>smoothness error</th>\n",
              "      <th>compactness error</th>\n",
              "      <th>concavity error</th>\n",
              "      <th>concave points error</th>\n",
              "      <th>symmetry error</th>\n",
              "      <th>fractal dimension error</th>\n",
              "      <th>worst radius</th>\n",
              "      <th>worst texture</th>\n",
              "      <th>worst perimeter</th>\n",
              "      <th>worst area</th>\n",
              "      <th>worst smoothness</th>\n",
              "      <th>worst compactness</th>\n",
              "      <th>worst concavity</th>\n",
              "      <th>worst concave points</th>\n",
              "      <th>worst symmetry</th>\n",
              "      <th>worst fractal dimension</th>\n",
              "    </tr>\n",
              "  </thead>\n",
              "  <tbody>\n",
              "    <tr>\n",
              "      <th>0</th>\n",
              "      <td>17.99</td>\n",
              "      <td>10.38</td>\n",
              "      <td>122.80</td>\n",
              "      <td>1001.0</td>\n",
              "      <td>0.11840</td>\n",
              "      <td>0.27760</td>\n",
              "      <td>0.3001</td>\n",
              "      <td>0.14710</td>\n",
              "      <td>0.2419</td>\n",
              "      <td>0.07871</td>\n",
              "      <td>1.0950</td>\n",
              "      <td>0.9053</td>\n",
              "      <td>8.589</td>\n",
              "      <td>153.40</td>\n",
              "      <td>0.006399</td>\n",
              "      <td>0.04904</td>\n",
              "      <td>0.05373</td>\n",
              "      <td>0.01587</td>\n",
              "      <td>0.03003</td>\n",
              "      <td>0.006193</td>\n",
              "      <td>25.38</td>\n",
              "      <td>17.33</td>\n",
              "      <td>184.60</td>\n",
              "      <td>2019.0</td>\n",
              "      <td>0.1622</td>\n",
              "      <td>0.6656</td>\n",
              "      <td>0.7119</td>\n",
              "      <td>0.2654</td>\n",
              "      <td>0.4601</td>\n",
              "      <td>0.11890</td>\n",
              "    </tr>\n",
              "    <tr>\n",
              "      <th>1</th>\n",
              "      <td>20.57</td>\n",
              "      <td>17.77</td>\n",
              "      <td>132.90</td>\n",
              "      <td>1326.0</td>\n",
              "      <td>0.08474</td>\n",
              "      <td>0.07864</td>\n",
              "      <td>0.0869</td>\n",
              "      <td>0.07017</td>\n",
              "      <td>0.1812</td>\n",
              "      <td>0.05667</td>\n",
              "      <td>0.5435</td>\n",
              "      <td>0.7339</td>\n",
              "      <td>3.398</td>\n",
              "      <td>74.08</td>\n",
              "      <td>0.005225</td>\n",
              "      <td>0.01308</td>\n",
              "      <td>0.01860</td>\n",
              "      <td>0.01340</td>\n",
              "      <td>0.01389</td>\n",
              "      <td>0.003532</td>\n",
              "      <td>24.99</td>\n",
              "      <td>23.41</td>\n",
              "      <td>158.80</td>\n",
              "      <td>1956.0</td>\n",
              "      <td>0.1238</td>\n",
              "      <td>0.1866</td>\n",
              "      <td>0.2416</td>\n",
              "      <td>0.1860</td>\n",
              "      <td>0.2750</td>\n",
              "      <td>0.08902</td>\n",
              "    </tr>\n",
              "    <tr>\n",
              "      <th>2</th>\n",
              "      <td>19.69</td>\n",
              "      <td>21.25</td>\n",
              "      <td>130.00</td>\n",
              "      <td>1203.0</td>\n",
              "      <td>0.10960</td>\n",
              "      <td>0.15990</td>\n",
              "      <td>0.1974</td>\n",
              "      <td>0.12790</td>\n",
              "      <td>0.2069</td>\n",
              "      <td>0.05999</td>\n",
              "      <td>0.7456</td>\n",
              "      <td>0.7869</td>\n",
              "      <td>4.585</td>\n",
              "      <td>94.03</td>\n",
              "      <td>0.006150</td>\n",
              "      <td>0.04006</td>\n",
              "      <td>0.03832</td>\n",
              "      <td>0.02058</td>\n",
              "      <td>0.02250</td>\n",
              "      <td>0.004571</td>\n",
              "      <td>23.57</td>\n",
              "      <td>25.53</td>\n",
              "      <td>152.50</td>\n",
              "      <td>1709.0</td>\n",
              "      <td>0.1444</td>\n",
              "      <td>0.4245</td>\n",
              "      <td>0.4504</td>\n",
              "      <td>0.2430</td>\n",
              "      <td>0.3613</td>\n",
              "      <td>0.08758</td>\n",
              "    </tr>\n",
              "    <tr>\n",
              "      <th>3</th>\n",
              "      <td>11.42</td>\n",
              "      <td>20.38</td>\n",
              "      <td>77.58</td>\n",
              "      <td>386.1</td>\n",
              "      <td>0.14250</td>\n",
              "      <td>0.28390</td>\n",
              "      <td>0.2414</td>\n",
              "      <td>0.10520</td>\n",
              "      <td>0.2597</td>\n",
              "      <td>0.09744</td>\n",
              "      <td>0.4956</td>\n",
              "      <td>1.1560</td>\n",
              "      <td>3.445</td>\n",
              "      <td>27.23</td>\n",
              "      <td>0.009110</td>\n",
              "      <td>0.07458</td>\n",
              "      <td>0.05661</td>\n",
              "      <td>0.01867</td>\n",
              "      <td>0.05963</td>\n",
              "      <td>0.009208</td>\n",
              "      <td>14.91</td>\n",
              "      <td>26.50</td>\n",
              "      <td>98.87</td>\n",
              "      <td>567.7</td>\n",
              "      <td>0.2098</td>\n",
              "      <td>0.8663</td>\n",
              "      <td>0.6869</td>\n",
              "      <td>0.2575</td>\n",
              "      <td>0.6638</td>\n",
              "      <td>0.17300</td>\n",
              "    </tr>\n",
              "    <tr>\n",
              "      <th>4</th>\n",
              "      <td>20.29</td>\n",
              "      <td>14.34</td>\n",
              "      <td>135.10</td>\n",
              "      <td>1297.0</td>\n",
              "      <td>0.10030</td>\n",
              "      <td>0.13280</td>\n",
              "      <td>0.1980</td>\n",
              "      <td>0.10430</td>\n",
              "      <td>0.1809</td>\n",
              "      <td>0.05883</td>\n",
              "      <td>0.7572</td>\n",
              "      <td>0.7813</td>\n",
              "      <td>5.438</td>\n",
              "      <td>94.44</td>\n",
              "      <td>0.011490</td>\n",
              "      <td>0.02461</td>\n",
              "      <td>0.05688</td>\n",
              "      <td>0.01885</td>\n",
              "      <td>0.01756</td>\n",
              "      <td>0.005115</td>\n",
              "      <td>22.54</td>\n",
              "      <td>16.67</td>\n",
              "      <td>152.20</td>\n",
              "      <td>1575.0</td>\n",
              "      <td>0.1374</td>\n",
              "      <td>0.2050</td>\n",
              "      <td>0.4000</td>\n",
              "      <td>0.1625</td>\n",
              "      <td>0.2364</td>\n",
              "      <td>0.07678</td>\n",
              "    </tr>\n",
              "  </tbody>\n",
              "</table>\n",
              "</div>"
            ],
            "text/plain": [
              "   mean radius  mean texture  ...  worst symmetry  worst fractal dimension\n",
              "0        17.99         10.38  ...          0.4601                  0.11890\n",
              "1        20.57         17.77  ...          0.2750                  0.08902\n",
              "2        19.69         21.25  ...          0.3613                  0.08758\n",
              "3        11.42         20.38  ...          0.6638                  0.17300\n",
              "4        20.29         14.34  ...          0.2364                  0.07678\n",
              "\n",
              "[5 rows x 30 columns]"
            ]
          },
          "metadata": {
            "tags": []
          },
          "execution_count": 4
        }
      ]
    },
    {
      "cell_type": "code",
      "metadata": {
        "id": "rf4EElk9TDxO",
        "colab_type": "code",
        "outputId": "fe679a76-5dfb-40fe-b9b1-17f8a8050050",
        "colab": {
          "base_uri": "https://localhost:8080/",
          "height": 544
        }
      },
      "source": [
        "df.isnull().sum()"
      ],
      "execution_count": 5,
      "outputs": [
        {
          "output_type": "execute_result",
          "data": {
            "text/plain": [
              "mean radius                0\n",
              "mean texture               0\n",
              "mean perimeter             0\n",
              "mean area                  0\n",
              "mean smoothness            0\n",
              "mean compactness           0\n",
              "mean concavity             0\n",
              "mean concave points        0\n",
              "mean symmetry              0\n",
              "mean fractal dimension     0\n",
              "radius error               0\n",
              "texture error              0\n",
              "perimeter error            0\n",
              "area error                 0\n",
              "smoothness error           0\n",
              "compactness error          0\n",
              "concavity error            0\n",
              "concave points error       0\n",
              "symmetry error             0\n",
              "fractal dimension error    0\n",
              "worst radius               0\n",
              "worst texture              0\n",
              "worst perimeter            0\n",
              "worst area                 0\n",
              "worst smoothness           0\n",
              "worst compactness          0\n",
              "worst concavity            0\n",
              "worst concave points       0\n",
              "worst symmetry             0\n",
              "worst fractal dimension    0\n",
              "dtype: int64"
            ]
          },
          "metadata": {
            "tags": []
          },
          "execution_count": 5
        }
      ]
    },
    {
      "cell_type": "code",
      "metadata": {
        "id": "HIDBsbqIWGra",
        "colab_type": "code",
        "outputId": "3d5ea77b-1548-448d-a50e-ebd7b7441298",
        "colab": {
          "base_uri": "https://localhost:8080/",
          "height": 34
        }
      },
      "source": [
        "y=pd.DataFrame(data.target,columns=[\"target\"])\n",
        "df.shape,y.shape"
      ],
      "execution_count": 6,
      "outputs": [
        {
          "output_type": "execute_result",
          "data": {
            "text/plain": [
              "((569, 30), (569, 1))"
            ]
          },
          "metadata": {
            "tags": []
          },
          "execution_count": 6
        }
      ]
    },
    {
      "cell_type": "code",
      "metadata": {
        "id": "ppNuGEC3Wv62",
        "colab_type": "code",
        "colab": {}
      },
      "source": [
        ""
      ],
      "execution_count": 0,
      "outputs": []
    },
    {
      "cell_type": "code",
      "metadata": {
        "id": "rcd1STSoNZuX",
        "colab_type": "code",
        "colab": {}
      },
      "source": [
        "from sklearn.preprocessing import StandardScaler\n",
        "sc=StandardScaler()"
      ],
      "execution_count": 0,
      "outputs": []
    },
    {
      "cell_type": "code",
      "metadata": {
        "id": "---VRr3pNrGN",
        "colab_type": "code",
        "colab": {}
      },
      "source": [
        "df=sc.fit_transform(df,y)\n"
      ],
      "execution_count": 0,
      "outputs": []
    },
    {
      "cell_type": "code",
      "metadata": {
        "id": "3rANAE7ERb7l",
        "colab_type": "code",
        "outputId": "4c8ad8ff-34f1-445a-aa9a-c1d76d2c4504",
        "colab": {
          "base_uri": "https://localhost:8080/",
          "height": 34
        }
      },
      "source": [
        "from sklearn.model_selection import train_test_split\n",
        "x_train,x_test,y_train,y_test=train_test_split(df,y.values,test_size=0.1)\n",
        "x_train.shape,y_train.shape"
      ],
      "execution_count": 9,
      "outputs": [
        {
          "output_type": "execute_result",
          "data": {
            "text/plain": [
              "((512, 30), (512, 1))"
            ]
          },
          "metadata": {
            "tags": []
          },
          "execution_count": 9
        }
      ]
    },
    {
      "cell_type": "code",
      "metadata": {
        "id": "UCcDLl-dN52Z",
        "colab_type": "code",
        "colab": {}
      },
      "source": [
        "from tensorflow.keras import Sequential\n",
        "from tensorflow.keras.layers import Dense,Dropout"
      ],
      "execution_count": 0,
      "outputs": []
    },
    {
      "cell_type": "code",
      "metadata": {
        "id": "XUErxkSeOIXP",
        "colab_type": "code",
        "colab": {}
      },
      "source": [
        "model= Sequential()\n",
        "model.add(Dense(30, activation = 'relu'))\n",
        "model.add(Dense(16, activation = 'relu'))\n",
        "model.add(Dropout(0.1))\n",
        "model.add(Dense(16, activation = 'relu'))\n",
        "model.add(Dense(1, activation = 'sigmoid'))"
      ],
      "execution_count": 0,
      "outputs": []
    },
    {
      "cell_type": "code",
      "metadata": {
        "id": "EOSeyTyjO32_",
        "colab_type": "code",
        "colab": {}
      },
      "source": [
        "model.compile(optimizer=\"adam\",loss=\"binary_crossentropy\",metrics=['accuracy'])"
      ],
      "execution_count": 0,
      "outputs": []
    },
    {
      "cell_type": "code",
      "metadata": {
        "id": "bpTi0rL9QTa7",
        "colab_type": "code",
        "outputId": "0d68e6fe-cff8-4175-8c3c-4cfa59876d55",
        "colab": {
          "base_uri": "https://localhost:8080/",
          "height": 1000
        }
      },
      "source": [
        "history=model.fit(x_train,y_train,batch_size=10,epochs=100,validation_split=0.1)"
      ],
      "execution_count": 38,
      "outputs": [
        {
          "output_type": "stream",
          "text": [
            "Train on 460 samples, validate on 52 samples\n",
            "Epoch 1/100\n",
            "460/460 [==============================] - 0s 1ms/sample - loss: 0.5217 - accuracy: 0.8826 - val_loss: 0.3805 - val_accuracy: 0.9808\n",
            "Epoch 2/100\n",
            "460/460 [==============================] - 0s 230us/sample - loss: 0.2669 - accuracy: 0.9500 - val_loss: 0.1679 - val_accuracy: 1.0000\n",
            "Epoch 3/100\n",
            "460/460 [==============================] - 0s 203us/sample - loss: 0.1458 - accuracy: 0.9587 - val_loss: 0.0906 - val_accuracy: 1.0000\n",
            "Epoch 4/100\n",
            "460/460 [==============================] - 0s 201us/sample - loss: 0.1043 - accuracy: 0.9652 - val_loss: 0.0701 - val_accuracy: 1.0000\n",
            "Epoch 5/100\n",
            "460/460 [==============================] - 0s 191us/sample - loss: 0.0878 - accuracy: 0.9717 - val_loss: 0.0617 - val_accuracy: 1.0000\n",
            "Epoch 6/100\n",
            "460/460 [==============================] - 0s 202us/sample - loss: 0.0659 - accuracy: 0.9848 - val_loss: 0.0558 - val_accuracy: 1.0000\n",
            "Epoch 7/100\n",
            "460/460 [==============================] - 0s 194us/sample - loss: 0.0679 - accuracy: 0.9804 - val_loss: 0.0466 - val_accuracy: 1.0000\n",
            "Epoch 8/100\n",
            "460/460 [==============================] - 0s 226us/sample - loss: 0.0582 - accuracy: 0.9891 - val_loss: 0.0413 - val_accuracy: 1.0000\n",
            "Epoch 9/100\n",
            "460/460 [==============================] - 0s 210us/sample - loss: 0.0581 - accuracy: 0.9804 - val_loss: 0.0412 - val_accuracy: 1.0000\n",
            "Epoch 10/100\n",
            "460/460 [==============================] - 0s 203us/sample - loss: 0.0524 - accuracy: 0.9826 - val_loss: 0.0373 - val_accuracy: 1.0000\n",
            "Epoch 11/100\n",
            "460/460 [==============================] - 0s 201us/sample - loss: 0.0525 - accuracy: 0.9848 - val_loss: 0.0418 - val_accuracy: 1.0000\n",
            "Epoch 12/100\n",
            "460/460 [==============================] - 0s 217us/sample - loss: 0.0420 - accuracy: 0.9870 - val_loss: 0.0399 - val_accuracy: 1.0000\n",
            "Epoch 13/100\n",
            "460/460 [==============================] - 0s 210us/sample - loss: 0.0423 - accuracy: 0.9891 - val_loss: 0.0413 - val_accuracy: 1.0000\n",
            "Epoch 14/100\n",
            "460/460 [==============================] - 0s 215us/sample - loss: 0.0424 - accuracy: 0.9891 - val_loss: 0.0352 - val_accuracy: 1.0000\n",
            "Epoch 15/100\n",
            "460/460 [==============================] - 0s 202us/sample - loss: 0.0375 - accuracy: 0.9891 - val_loss: 0.0390 - val_accuracy: 1.0000\n",
            "Epoch 16/100\n",
            "460/460 [==============================] - 0s 202us/sample - loss: 0.0447 - accuracy: 0.9870 - val_loss: 0.0450 - val_accuracy: 0.9808\n",
            "Epoch 17/100\n",
            "460/460 [==============================] - 0s 207us/sample - loss: 0.0340 - accuracy: 0.9913 - val_loss: 0.0390 - val_accuracy: 1.0000\n",
            "Epoch 18/100\n",
            "460/460 [==============================] - 0s 195us/sample - loss: 0.0335 - accuracy: 0.9913 - val_loss: 0.0365 - val_accuracy: 1.0000\n",
            "Epoch 19/100\n",
            "460/460 [==============================] - 0s 192us/sample - loss: 0.0313 - accuracy: 0.9913 - val_loss: 0.0473 - val_accuracy: 0.9615\n",
            "Epoch 20/100\n",
            "460/460 [==============================] - 0s 208us/sample - loss: 0.0289 - accuracy: 0.9913 - val_loss: 0.0511 - val_accuracy: 0.9615\n",
            "Epoch 21/100\n",
            "460/460 [==============================] - 0s 194us/sample - loss: 0.0274 - accuracy: 0.9913 - val_loss: 0.0437 - val_accuracy: 0.9808\n",
            "Epoch 22/100\n",
            "460/460 [==============================] - 0s 201us/sample - loss: 0.0292 - accuracy: 0.9891 - val_loss: 0.0429 - val_accuracy: 0.9615\n",
            "Epoch 23/100\n",
            "460/460 [==============================] - 0s 210us/sample - loss: 0.0335 - accuracy: 0.9891 - val_loss: 0.0280 - val_accuracy: 1.0000\n",
            "Epoch 24/100\n",
            "460/460 [==============================] - 0s 212us/sample - loss: 0.0276 - accuracy: 0.9913 - val_loss: 0.0348 - val_accuracy: 0.9808\n",
            "Epoch 25/100\n",
            "460/460 [==============================] - 0s 217us/sample - loss: 0.0254 - accuracy: 0.9913 - val_loss: 0.0361 - val_accuracy: 0.9808\n",
            "Epoch 26/100\n",
            "460/460 [==============================] - 0s 204us/sample - loss: 0.0242 - accuracy: 0.9891 - val_loss: 0.0370 - val_accuracy: 0.9808\n",
            "Epoch 27/100\n",
            "460/460 [==============================] - 0s 221us/sample - loss: 0.0207 - accuracy: 0.9891 - val_loss: 0.0403 - val_accuracy: 0.9808\n",
            "Epoch 28/100\n",
            "460/460 [==============================] - 0s 214us/sample - loss: 0.0217 - accuracy: 0.9935 - val_loss: 0.0316 - val_accuracy: 0.9808\n",
            "Epoch 29/100\n",
            "460/460 [==============================] - 0s 204us/sample - loss: 0.0188 - accuracy: 0.9913 - val_loss: 0.0416 - val_accuracy: 0.9808\n",
            "Epoch 30/100\n",
            "460/460 [==============================] - 0s 205us/sample - loss: 0.0155 - accuracy: 0.9935 - val_loss: 0.0418 - val_accuracy: 0.9808\n",
            "Epoch 31/100\n",
            "460/460 [==============================] - 0s 200us/sample - loss: 0.0156 - accuracy: 0.9957 - val_loss: 0.0361 - val_accuracy: 0.9808\n",
            "Epoch 32/100\n",
            "460/460 [==============================] - 0s 196us/sample - loss: 0.0163 - accuracy: 0.9935 - val_loss: 0.0506 - val_accuracy: 0.9808\n",
            "Epoch 33/100\n",
            "460/460 [==============================] - 0s 215us/sample - loss: 0.0132 - accuracy: 0.9935 - val_loss: 0.0483 - val_accuracy: 0.9808\n",
            "Epoch 34/100\n",
            "460/460 [==============================] - 0s 196us/sample - loss: 0.0114 - accuracy: 0.9978 - val_loss: 0.0424 - val_accuracy: 0.9808\n",
            "Epoch 35/100\n",
            "460/460 [==============================] - 0s 195us/sample - loss: 0.0080 - accuracy: 1.0000 - val_loss: 0.0504 - val_accuracy: 0.9615\n",
            "Epoch 36/100\n",
            "460/460 [==============================] - 0s 198us/sample - loss: 0.0104 - accuracy: 0.9957 - val_loss: 0.0510 - val_accuracy: 0.9808\n",
            "Epoch 37/100\n",
            "460/460 [==============================] - 0s 203us/sample - loss: 0.0076 - accuracy: 0.9978 - val_loss: 0.0444 - val_accuracy: 0.9808\n",
            "Epoch 38/100\n",
            "460/460 [==============================] - 0s 198us/sample - loss: 0.0066 - accuracy: 0.9957 - val_loss: 0.0418 - val_accuracy: 0.9808\n",
            "Epoch 39/100\n",
            "460/460 [==============================] - 0s 196us/sample - loss: 0.0065 - accuracy: 1.0000 - val_loss: 0.0530 - val_accuracy: 0.9615\n",
            "Epoch 40/100\n",
            "460/460 [==============================] - 0s 199us/sample - loss: 0.0055 - accuracy: 1.0000 - val_loss: 0.0563 - val_accuracy: 0.9615\n",
            "Epoch 41/100\n",
            "460/460 [==============================] - 0s 199us/sample - loss: 0.0081 - accuracy: 0.9978 - val_loss: 0.0636 - val_accuracy: 0.9615\n",
            "Epoch 42/100\n",
            "460/460 [==============================] - 0s 210us/sample - loss: 0.0051 - accuracy: 1.0000 - val_loss: 0.0729 - val_accuracy: 0.9423\n",
            "Epoch 43/100\n",
            "460/460 [==============================] - 0s 197us/sample - loss: 0.0072 - accuracy: 0.9978 - val_loss: 0.0778 - val_accuracy: 0.9423\n",
            "Epoch 44/100\n",
            "460/460 [==============================] - 0s 204us/sample - loss: 0.0030 - accuracy: 1.0000 - val_loss: 0.0685 - val_accuracy: 0.9615\n",
            "Epoch 45/100\n",
            "460/460 [==============================] - 0s 202us/sample - loss: 0.0027 - accuracy: 1.0000 - val_loss: 0.0542 - val_accuracy: 0.9808\n",
            "Epoch 46/100\n",
            "460/460 [==============================] - 0s 205us/sample - loss: 0.0030 - accuracy: 1.0000 - val_loss: 0.0696 - val_accuracy: 0.9615\n",
            "Epoch 47/100\n",
            "460/460 [==============================] - 0s 195us/sample - loss: 0.0016 - accuracy: 1.0000 - val_loss: 0.0628 - val_accuracy: 0.9615\n",
            "Epoch 48/100\n",
            "460/460 [==============================] - 0s 221us/sample - loss: 0.0014 - accuracy: 1.0000 - val_loss: 0.0722 - val_accuracy: 0.9615\n",
            "Epoch 49/100\n",
            "460/460 [==============================] - 0s 200us/sample - loss: 0.0051 - accuracy: 0.9978 - val_loss: 0.0685 - val_accuracy: 0.9615\n",
            "Epoch 50/100\n",
            "460/460 [==============================] - 0s 195us/sample - loss: 0.0024 - accuracy: 1.0000 - val_loss: 0.0651 - val_accuracy: 0.9615\n",
            "Epoch 51/100\n",
            "460/460 [==============================] - 0s 200us/sample - loss: 0.0029 - accuracy: 1.0000 - val_loss: 0.0632 - val_accuracy: 0.9615\n",
            "Epoch 52/100\n",
            "460/460 [==============================] - 0s 200us/sample - loss: 0.0032 - accuracy: 0.9978 - val_loss: 0.0968 - val_accuracy: 0.9423\n",
            "Epoch 53/100\n",
            "460/460 [==============================] - 0s 201us/sample - loss: 0.0030 - accuracy: 1.0000 - val_loss: 0.0747 - val_accuracy: 0.9615\n",
            "Epoch 54/100\n",
            "460/460 [==============================] - 0s 198us/sample - loss: 0.0082 - accuracy: 0.9957 - val_loss: 0.0602 - val_accuracy: 0.9615\n",
            "Epoch 55/100\n",
            "460/460 [==============================] - 0s 207us/sample - loss: 0.0030 - accuracy: 0.9978 - val_loss: 0.0854 - val_accuracy: 0.9423\n",
            "Epoch 56/100\n",
            "460/460 [==============================] - 0s 200us/sample - loss: 0.0012 - accuracy: 1.0000 - val_loss: 0.0736 - val_accuracy: 0.9808\n",
            "Epoch 57/100\n",
            "460/460 [==============================] - 0s 213us/sample - loss: 0.0020 - accuracy: 1.0000 - val_loss: 0.0621 - val_accuracy: 0.9808\n",
            "Epoch 58/100\n",
            "460/460 [==============================] - 0s 198us/sample - loss: 0.0011 - accuracy: 1.0000 - val_loss: 0.0699 - val_accuracy: 0.9615\n",
            "Epoch 59/100\n",
            "460/460 [==============================] - 0s 199us/sample - loss: 0.0011 - accuracy: 1.0000 - val_loss: 0.0865 - val_accuracy: 0.9615\n",
            "Epoch 60/100\n",
            "460/460 [==============================] - 0s 196us/sample - loss: 7.7052e-04 - accuracy: 1.0000 - val_loss: 0.0929 - val_accuracy: 0.9615\n",
            "Epoch 61/100\n",
            "460/460 [==============================] - 0s 195us/sample - loss: 0.0016 - accuracy: 1.0000 - val_loss: 0.1049 - val_accuracy: 0.9423\n",
            "Epoch 62/100\n",
            "460/460 [==============================] - 0s 211us/sample - loss: 0.0182 - accuracy: 0.9935 - val_loss: 0.0593 - val_accuracy: 0.9808\n",
            "Epoch 63/100\n",
            "460/460 [==============================] - 0s 192us/sample - loss: 0.0044 - accuracy: 0.9978 - val_loss: 0.0746 - val_accuracy: 0.9808\n",
            "Epoch 64/100\n",
            "460/460 [==============================] - 0s 202us/sample - loss: 0.0027 - accuracy: 1.0000 - val_loss: 0.0790 - val_accuracy: 0.9808\n",
            "Epoch 65/100\n",
            "460/460 [==============================] - 0s 196us/sample - loss: 6.6301e-04 - accuracy: 1.0000 - val_loss: 0.0771 - val_accuracy: 0.9808\n",
            "Epoch 66/100\n",
            "460/460 [==============================] - 0s 200us/sample - loss: 0.0016 - accuracy: 1.0000 - val_loss: 0.0942 - val_accuracy: 0.9808\n",
            "Epoch 67/100\n",
            "460/460 [==============================] - 0s 191us/sample - loss: 0.0031 - accuracy: 1.0000 - val_loss: 0.1109 - val_accuracy: 0.9615\n",
            "Epoch 68/100\n",
            "460/460 [==============================] - 0s 202us/sample - loss: 0.0011 - accuracy: 1.0000 - val_loss: 0.0988 - val_accuracy: 0.9615\n",
            "Epoch 69/100\n",
            "460/460 [==============================] - 0s 199us/sample - loss: 8.2702e-04 - accuracy: 1.0000 - val_loss: 0.1058 - val_accuracy: 0.9615\n",
            "Epoch 70/100\n",
            "460/460 [==============================] - 0s 202us/sample - loss: 7.8601e-04 - accuracy: 1.0000 - val_loss: 0.1044 - val_accuracy: 0.9615\n",
            "Epoch 71/100\n",
            "460/460 [==============================] - 0s 213us/sample - loss: 3.8859e-04 - accuracy: 1.0000 - val_loss: 0.1047 - val_accuracy: 0.9615\n",
            "Epoch 72/100\n",
            "460/460 [==============================] - 0s 213us/sample - loss: 0.0016 - accuracy: 1.0000 - val_loss: 0.1067 - val_accuracy: 0.9615\n",
            "Epoch 73/100\n",
            "460/460 [==============================] - 0s 205us/sample - loss: 6.9908e-04 - accuracy: 1.0000 - val_loss: 0.1070 - val_accuracy: 0.9615\n",
            "Epoch 74/100\n",
            "460/460 [==============================] - 0s 206us/sample - loss: 6.5142e-04 - accuracy: 1.0000 - val_loss: 0.1091 - val_accuracy: 0.9615\n",
            "Epoch 75/100\n",
            "460/460 [==============================] - 0s 217us/sample - loss: 3.3394e-04 - accuracy: 1.0000 - val_loss: 0.1099 - val_accuracy: 0.9615\n",
            "Epoch 76/100\n",
            "460/460 [==============================] - 0s 206us/sample - loss: 0.0018 - accuracy: 1.0000 - val_loss: 0.0997 - val_accuracy: 0.9615\n",
            "Epoch 77/100\n",
            "460/460 [==============================] - 0s 217us/sample - loss: 3.5244e-04 - accuracy: 1.0000 - val_loss: 0.1014 - val_accuracy: 0.9615\n",
            "Epoch 78/100\n",
            "460/460 [==============================] - 0s 232us/sample - loss: 5.7868e-04 - accuracy: 1.0000 - val_loss: 0.0956 - val_accuracy: 0.9808\n",
            "Epoch 79/100\n",
            "460/460 [==============================] - 0s 216us/sample - loss: 8.7615e-04 - accuracy: 1.0000 - val_loss: 0.1053 - val_accuracy: 0.9615\n",
            "Epoch 80/100\n",
            "460/460 [==============================] - 0s 221us/sample - loss: 6.6011e-04 - accuracy: 1.0000 - val_loss: 0.1183 - val_accuracy: 0.9615\n",
            "Epoch 81/100\n",
            "460/460 [==============================] - 0s 208us/sample - loss: 2.5264e-04 - accuracy: 1.0000 - val_loss: 0.1208 - val_accuracy: 0.9615\n",
            "Epoch 82/100\n",
            "460/460 [==============================] - 0s 225us/sample - loss: 4.1894e-04 - accuracy: 1.0000 - val_loss: 0.1212 - val_accuracy: 0.9615\n",
            "Epoch 83/100\n",
            "460/460 [==============================] - 0s 227us/sample - loss: 3.8800e-04 - accuracy: 1.0000 - val_loss: 0.1196 - val_accuracy: 0.9615\n",
            "Epoch 84/100\n",
            "460/460 [==============================] - 0s 205us/sample - loss: 0.0017 - accuracy: 1.0000 - val_loss: 0.0881 - val_accuracy: 0.9808\n",
            "Epoch 85/100\n",
            "460/460 [==============================] - 0s 210us/sample - loss: 0.0071 - accuracy: 0.9957 - val_loss: 0.1889 - val_accuracy: 0.9423\n",
            "Epoch 86/100\n",
            "460/460 [==============================] - 0s 221us/sample - loss: 0.0013 - accuracy: 1.0000 - val_loss: 0.1526 - val_accuracy: 0.9615\n",
            "Epoch 87/100\n",
            "460/460 [==============================] - 0s 202us/sample - loss: 8.0144e-04 - accuracy: 1.0000 - val_loss: 0.1525 - val_accuracy: 0.9423\n",
            "Epoch 88/100\n",
            "460/460 [==============================] - 0s 214us/sample - loss: 0.0022 - accuracy: 1.0000 - val_loss: 0.1882 - val_accuracy: 0.9423\n",
            "Epoch 89/100\n",
            "460/460 [==============================] - 0s 208us/sample - loss: 0.0021 - accuracy: 1.0000 - val_loss: 0.2321 - val_accuracy: 0.9423\n",
            "Epoch 90/100\n",
            "460/460 [==============================] - 0s 219us/sample - loss: 8.1204e-04 - accuracy: 1.0000 - val_loss: 0.2259 - val_accuracy: 0.9423\n",
            "Epoch 91/100\n",
            "460/460 [==============================] - 0s 207us/sample - loss: 2.2750e-04 - accuracy: 1.0000 - val_loss: 0.2171 - val_accuracy: 0.9423\n",
            "Epoch 92/100\n",
            "460/460 [==============================] - 0s 213us/sample - loss: 3.3652e-04 - accuracy: 1.0000 - val_loss: 0.2096 - val_accuracy: 0.9423\n",
            "Epoch 93/100\n",
            "460/460 [==============================] - 0s 215us/sample - loss: 7.5234e-04 - accuracy: 1.0000 - val_loss: 0.1899 - val_accuracy: 0.9423\n",
            "Epoch 94/100\n",
            "460/460 [==============================] - 0s 222us/sample - loss: 9.5882e-04 - accuracy: 1.0000 - val_loss: 0.1784 - val_accuracy: 0.9423\n",
            "Epoch 95/100\n",
            "460/460 [==============================] - 0s 211us/sample - loss: 1.3190e-04 - accuracy: 1.0000 - val_loss: 0.1705 - val_accuracy: 0.9423\n",
            "Epoch 96/100\n",
            "460/460 [==============================] - 0s 202us/sample - loss: 0.0012 - accuracy: 1.0000 - val_loss: 0.1710 - val_accuracy: 0.9423\n",
            "Epoch 97/100\n",
            "460/460 [==============================] - 0s 206us/sample - loss: 1.7421e-04 - accuracy: 1.0000 - val_loss: 0.1790 - val_accuracy: 0.9423\n",
            "Epoch 98/100\n",
            "460/460 [==============================] - 0s 220us/sample - loss: 0.0039 - accuracy: 0.9978 - val_loss: 0.1648 - val_accuracy: 0.9423\n",
            "Epoch 99/100\n",
            "460/460 [==============================] - 0s 218us/sample - loss: 5.9868e-04 - accuracy: 1.0000 - val_loss: 0.1927 - val_accuracy: 0.9423\n",
            "Epoch 100/100\n",
            "460/460 [==============================] - 0s 195us/sample - loss: 1.9113e-04 - accuracy: 1.0000 - val_loss: 0.1938 - val_accuracy: 0.9423\n"
          ],
          "name": "stdout"
        }
      ]
    },
    {
      "cell_type": "code",
      "metadata": {
        "id": "UkJCRBMkQkZP",
        "colab_type": "code",
        "outputId": "50aa88bd-1b4b-4090-93b1-87159d4accd9",
        "colab": {
          "base_uri": "https://localhost:8080/",
          "height": 573
        }
      },
      "source": [
        "plt.plot(history.history['accuracy'], label='Training accuracy')\n",
        "plt.plot(history.history['val_accuracy'], label='Validation accuracy')\n",
        "plt.title('Validation accuracies')\n",
        "plt.ylabel('Accuracy')\n",
        "plt.xlabel('Epoch')\n",
        "plt.legend(loc=\"upper left\")\n",
        "plt.show()\n",
        "\n",
        "plt.plot(history.history['loss'], label='Training loss')\n",
        "plt.plot(history.history['val_loss'], label='Validation loss')\n",
        "plt.title('validation loss values')\n",
        "plt.ylabel('Loss value')\n",
        "plt.xlabel('Epoch')\n",
        "plt.legend(loc=\"upper left\")\n",
        "plt.show()"
      ],
      "execution_count": 39,
      "outputs": [
        {
          "output_type": "display_data",
          "data": {
            "image/png": "[encoded data removed]",
            "text/plain": [
              "<Figure size 432x288 with 1 Axes>"
            ]
          },
          "metadata": {
            "tags": []
          }
        },
        {
          "output_type": "display_data",
          "data": {
            "image/png": "[encoded data removed]",
            "text/plain": [
              "<Figure size 432x288 with 1 Axes>"
            ]
          },
          "metadata": {
            "tags": []
          }
        }
      ]
    },
    {
      "cell_type": "code",
      "metadata": {
        "id": "OBT8wYlpaySw",
        "colab_type": "code",
        "colab": {}
      },
      "source": [
        ""
      ],
      "execution_count": 0,
      "outputs": []
    }
  ]
}