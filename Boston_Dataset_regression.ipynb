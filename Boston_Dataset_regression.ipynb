{
  "nbformat": 4,
  "nbformat_minor": 0,
  "metadata": {
    "colab": {
      "name": "Boston_Dataset_regression",
      "provenance": [],
      "authorship_tag": "ABX9TyPGnN+S+qnybp8LVR6SQlfD",
      "include_colab_link": true
    },
    "kernelspec": {
      "name": "python3",
      "display_name": "Python 3"
    }
  },
  "cells": [
    {
      "cell_type": "markdown",
      "metadata": {
        "id": "view-in-github",
        "colab_type": "text"
      },
      "source": [
        "<a href=\"https://colab.research.google.com/github/nitinpatil301a/Tensorflow-Keras-Work/blob/master/Boston_Dataset_regression.ipynb\" target=\"_parent\"><img src=\"https://colab.research.google.com/assets/colab-badge.svg\" alt=\"Open In Colab\"/></a>"
      ]
    },
    {
      "cell_type": "code",
      "metadata": {
        "id": "cqXyzqcPiaMs",
        "colab_type": "code",
        "outputId": "38e34836-a9b1-45aa-91b5-75206bd48b9b",
        "colab": {
          "base_uri": "https://localhost:8080/",
          "height": 102
        }
      },
      "source": [
        "%tensorflow_version 2.0.0\n",
        "import tensorflow as tf\n",
        "from tensorflow import keras\n",
        "import numpy as np\n",
        "import pandas as pd\n",
        "import matplotlib.pyplot as plt"
      ],
      "execution_count": 1,
      "outputs": [
        {
          "output_type": "stream",
          "text": [
            "`%tensorflow_version` only switches the major version: 1.x or 2.x.\n",
            "You set: `2.0.0`. This will be interpreted as: `2.x`.\n",
            "\n",
            "\n",
            "TensorFlow 2.x selected.\n"
          ],
          "name": "stdout"
        }
      ]
    },
    {
      "cell_type": "code",
      "metadata": {
        "id": "1dRWsSqSkDyp",
        "colab_type": "code",
        "colab": {}
      },
      "source": [
        "from sklearn.datasets import load_boston\n",
        "boston = load_boston()\n"
      ],
      "execution_count": 0,
      "outputs": []
    },
    {
      "cell_type": "code",
      "metadata": {
        "id": "oA8yoKdpkGuY",
        "colab_type": "code",
        "outputId": "6ab02f0d-f7ad-470d-9b76-f5846f395e62",
        "colab": {
          "base_uri": "https://localhost:8080/",
          "height": 204
        }
      },
      "source": [
        "X=pd.DataFrame(boston.data,columns=boston.feature_names  )\n",
        "X.head()"
      ],
      "execution_count": 3,
      "outputs": [
        {
          "output_type": "execute_result",
          "data": {
            "text/html": [
              "<div>\n",
              "<style scoped>\n",
              "    .dataframe tbody tr th:only-of-type {\n",
              "        vertical-align: middle;\n",
              "    }\n",
              "\n",
              "    .dataframe tbody tr th {\n",
              "        vertical-align: top;\n",
              "    }\n",
              "\n",
              "    .dataframe thead th {\n",
              "        text-align: right;\n",
              "    }\n",
              "</style>\n",
              "<table border=\"1\" class=\"dataframe\">\n",
              "  <thead>\n",
              "    <tr style=\"text-align: right;\">\n",
              "      <th></th>\n",
              "      <th>CRIM</th>\n",
              "      <th>ZN</th>\n",
              "      <th>INDUS</th>\n",
              "      <th>CHAS</th>\n",
              "      <th>NOX</th>\n",
              "      <th>RM</th>\n",
              "      <th>AGE</th>\n",
              "      <th>DIS</th>\n",
              "      <th>RAD</th>\n",
              "      <th>TAX</th>\n",
              "      <th>PTRATIO</th>\n",
              "      <th>B</th>\n",
              "      <th>LSTAT</th>\n",
              "    </tr>\n",
              "  </thead>\n",
              "  <tbody>\n",
              "    <tr>\n",
              "      <th>0</th>\n",
              "      <td>0.00632</td>\n",
              "      <td>18.0</td>\n",
              "      <td>2.31</td>\n",
              "      <td>0.0</td>\n",
              "      <td>0.538</td>\n",
              "      <td>6.575</td>\n",
              "      <td>65.2</td>\n",
              "      <td>4.0900</td>\n",
              "      <td>1.0</td>\n",
              "      <td>296.0</td>\n",
              "      <td>15.3</td>\n",
              "      <td>396.90</td>\n",
              "      <td>4.98</td>\n",
              "    </tr>\n",
              "    <tr>\n",
              "      <th>1</th>\n",
              "      <td>0.02731</td>\n",
              "      <td>0.0</td>\n",
              "      <td>7.07</td>\n",
              "      <td>0.0</td>\n",
              "      <td>0.469</td>\n",
              "      <td>6.421</td>\n",
              "      <td>78.9</td>\n",
              "      <td>4.9671</td>\n",
              "      <td>2.0</td>\n",
              "      <td>242.0</td>\n",
              "      <td>17.8</td>\n",
              "      <td>396.90</td>\n",
              "      <td>9.14</td>\n",
              "    </tr>\n",
              "    <tr>\n",
              "      <th>2</th>\n",
              "      <td>0.02729</td>\n",
              "      <td>0.0</td>\n",
              "      <td>7.07</td>\n",
              "      <td>0.0</td>\n",
              "      <td>0.469</td>\n",
              "      <td>7.185</td>\n",
              "      <td>61.1</td>\n",
              "      <td>4.9671</td>\n",
              "      <td>2.0</td>\n",
              "      <td>242.0</td>\n",
              "      <td>17.8</td>\n",
              "      <td>392.83</td>\n",
              "      <td>4.03</td>\n",
              "    </tr>\n",
              "    <tr>\n",
              "      <th>3</th>\n",
              "      <td>0.03237</td>\n",
              "      <td>0.0</td>\n",
              "      <td>2.18</td>\n",
              "      <td>0.0</td>\n",
              "      <td>0.458</td>\n",
              "      <td>6.998</td>\n",
              "      <td>45.8</td>\n",
              "      <td>6.0622</td>\n",
              "      <td>3.0</td>\n",
              "      <td>222.0</td>\n",
              "      <td>18.7</td>\n",
              "      <td>394.63</td>\n",
              "      <td>2.94</td>\n",
              "    </tr>\n",
              "    <tr>\n",
              "      <th>4</th>\n",
              "      <td>0.06905</td>\n",
              "      <td>0.0</td>\n",
              "      <td>2.18</td>\n",
              "      <td>0.0</td>\n",
              "      <td>0.458</td>\n",
              "      <td>7.147</td>\n",
              "      <td>54.2</td>\n",
              "      <td>6.0622</td>\n",
              "      <td>3.0</td>\n",
              "      <td>222.0</td>\n",
              "      <td>18.7</td>\n",
              "      <td>396.90</td>\n",
              "      <td>5.33</td>\n",
              "    </tr>\n",
              "  </tbody>\n",
              "</table>\n",
              "</div>"
            ],
            "text/plain": [
              "      CRIM    ZN  INDUS  CHAS    NOX  ...  RAD    TAX  PTRATIO       B  LSTAT\n",
              "0  0.00632  18.0   2.31   0.0  0.538  ...  1.0  296.0     15.3  396.90   4.98\n",
              "1  0.02731   0.0   7.07   0.0  0.469  ...  2.0  242.0     17.8  396.90   9.14\n",
              "2  0.02729   0.0   7.07   0.0  0.469  ...  2.0  242.0     17.8  392.83   4.03\n",
              "3  0.03237   0.0   2.18   0.0  0.458  ...  3.0  222.0     18.7  394.63   2.94\n",
              "4  0.06905   0.0   2.18   0.0  0.458  ...  3.0  222.0     18.7  396.90   5.33\n",
              "\n",
              "[5 rows x 13 columns]"
            ]
          },
          "metadata": {
            "tags": []
          },
          "execution_count": 3
        }
      ]
    },
    {
      "cell_type": "code",
      "metadata": {
        "id": "eYoQDC3gkJJm",
        "colab_type": "code",
        "outputId": "77e3c906-b745-42c4-cd8a-6c9919f2220b",
        "colab": {
          "base_uri": "https://localhost:8080/",
          "height": 204
        }
      },
      "source": [
        "y=pd.DataFrame(boston.target,columns=[\"target\"])\n",
        "y.head()"
      ],
      "execution_count": 4,
      "outputs": [
        {
          "output_type": "execute_result",
          "data": {
            "text/html": [
              "<div>\n",
              "<style scoped>\n",
              "    .dataframe tbody tr th:only-of-type {\n",
              "        vertical-align: middle;\n",
              "    }\n",
              "\n",
              "    .dataframe tbody tr th {\n",
              "        vertical-align: top;\n",
              "    }\n",
              "\n",
              "    .dataframe thead th {\n",
              "        text-align: right;\n",
              "    }\n",
              "</style>\n",
              "<table border=\"1\" class=\"dataframe\">\n",
              "  <thead>\n",
              "    <tr style=\"text-align: right;\">\n",
              "      <th></th>\n",
              "      <th>target</th>\n",
              "    </tr>\n",
              "  </thead>\n",
              "  <tbody>\n",
              "    <tr>\n",
              "      <th>0</th>\n",
              "      <td>24.0</td>\n",
              "    </tr>\n",
              "    <tr>\n",
              "      <th>1</th>\n",
              "      <td>21.6</td>\n",
              "    </tr>\n",
              "    <tr>\n",
              "      <th>2</th>\n",
              "      <td>34.7</td>\n",
              "    </tr>\n",
              "    <tr>\n",
              "      <th>3</th>\n",
              "      <td>33.4</td>\n",
              "    </tr>\n",
              "    <tr>\n",
              "      <th>4</th>\n",
              "      <td>36.2</td>\n",
              "    </tr>\n",
              "  </tbody>\n",
              "</table>\n",
              "</div>"
            ],
            "text/plain": [
              "   target\n",
              "0    24.0\n",
              "1    21.6\n",
              "2    34.7\n",
              "3    33.4\n",
              "4    36.2"
            ]
          },
          "metadata": {
            "tags": []
          },
          "execution_count": 4
        }
      ]
    },
    {
      "cell_type": "code",
      "metadata": {
        "id": "lK64BWnjkKXy",
        "colab_type": "code",
        "outputId": "5f0f27cf-9404-42bb-800d-c956e590c9f4",
        "colab": {
          "base_uri": "https://localhost:8080/",
          "height": 297
        }
      },
      "source": [
        "X.describe()"
      ],
      "execution_count": 5,
      "outputs": [
        {
          "output_type": "execute_result",
          "data": {
            "text/html": [
              "<div>\n",
              "<style scoped>\n",
              "    .dataframe tbody tr th:only-of-type {\n",
              "        vertical-align: middle;\n",
              "    }\n",
              "\n",
              "    .dataframe tbody tr th {\n",
              "        vertical-align: top;\n",
              "    }\n",
              "\n",
              "    .dataframe thead th {\n",
              "        text-align: right;\n",
              "    }\n",
              "</style>\n",
              "<table border=\"1\" class=\"dataframe\">\n",
              "  <thead>\n",
              "    <tr style=\"text-align: right;\">\n",
              "      <th></th>\n",
              "      <th>CRIM</th>\n",
              "      <th>ZN</th>\n",
              "      <th>INDUS</th>\n",
              "      <th>CHAS</th>\n",
              "      <th>NOX</th>\n",
              "      <th>RM</th>\n",
              "      <th>AGE</th>\n",
              "      <th>DIS</th>\n",
              "      <th>RAD</th>\n",
              "      <th>TAX</th>\n",
              "      <th>PTRATIO</th>\n",
              "      <th>B</th>\n",
              "      <th>LSTAT</th>\n",
              "    </tr>\n",
              "  </thead>\n",
              "  <tbody>\n",
              "    <tr>\n",
              "      <th>count</th>\n",
              "      <td>506.000000</td>\n",
              "      <td>506.000000</td>\n",
              "      <td>506.000000</td>\n",
              "      <td>506.000000</td>\n",
              "      <td>506.000000</td>\n",
              "      <td>506.000000</td>\n",
              "      <td>506.000000</td>\n",
              "      <td>506.000000</td>\n",
              "      <td>506.000000</td>\n",
              "      <td>506.000000</td>\n",
              "      <td>506.000000</td>\n",
              "      <td>506.000000</td>\n",
              "      <td>506.000000</td>\n",
              "    </tr>\n",
              "    <tr>\n",
              "      <th>mean</th>\n",
              "      <td>3.613524</td>\n",
              "      <td>11.363636</td>\n",
              "      <td>11.136779</td>\n",
              "      <td>0.069170</td>\n",
              "      <td>0.554695</td>\n",
              "      <td>6.284634</td>\n",
              "      <td>68.574901</td>\n",
              "      <td>3.795043</td>\n",
              "      <td>9.549407</td>\n",
              "      <td>408.237154</td>\n",
              "      <td>18.455534</td>\n",
              "      <td>356.674032</td>\n",
              "      <td>12.653063</td>\n",
              "    </tr>\n",
              "    <tr>\n",
              "      <th>std</th>\n",
              "      <td>8.601545</td>\n",
              "      <td>23.322453</td>\n",
              "      <td>6.860353</td>\n",
              "      <td>0.253994</td>\n",
              "      <td>0.115878</td>\n",
              "      <td>0.702617</td>\n",
              "      <td>28.148861</td>\n",
              "      <td>2.105710</td>\n",
              "      <td>8.707259</td>\n",
              "      <td>168.537116</td>\n",
              "      <td>2.164946</td>\n",
              "      <td>91.294864</td>\n",
              "      <td>7.141062</td>\n",
              "    </tr>\n",
              "    <tr>\n",
              "      <th>min</th>\n",
              "      <td>0.006320</td>\n",
              "      <td>0.000000</td>\n",
              "      <td>0.460000</td>\n",
              "      <td>0.000000</td>\n",
              "      <td>0.385000</td>\n",
              "      <td>3.561000</td>\n",
              "      <td>2.900000</td>\n",
              "      <td>1.129600</td>\n",
              "      <td>1.000000</td>\n",
              "      <td>187.000000</td>\n",
              "      <td>12.600000</td>\n",
              "      <td>0.320000</td>\n",
              "      <td>1.730000</td>\n",
              "    </tr>\n",
              "    <tr>\n",
              "      <th>25%</th>\n",
              "      <td>0.082045</td>\n",
              "      <td>0.000000</td>\n",
              "      <td>5.190000</td>\n",
              "      <td>0.000000</td>\n",
              "      <td>0.449000</td>\n",
              "      <td>5.885500</td>\n",
              "      <td>45.025000</td>\n",
              "      <td>2.100175</td>\n",
              "      <td>4.000000</td>\n",
              "      <td>279.000000</td>\n",
              "      <td>17.400000</td>\n",
              "      <td>375.377500</td>\n",
              "      <td>6.950000</td>\n",
              "    </tr>\n",
              "    <tr>\n",
              "      <th>50%</th>\n",
              "      <td>0.256510</td>\n",
              "      <td>0.000000</td>\n",
              "      <td>9.690000</td>\n",
              "      <td>0.000000</td>\n",
              "      <td>0.538000</td>\n",
              "      <td>6.208500</td>\n",
              "      <td>77.500000</td>\n",
              "      <td>3.207450</td>\n",
              "      <td>5.000000</td>\n",
              "      <td>330.000000</td>\n",
              "      <td>19.050000</td>\n",
              "      <td>391.440000</td>\n",
              "      <td>11.360000</td>\n",
              "    </tr>\n",
              "    <tr>\n",
              "      <th>75%</th>\n",
              "      <td>3.677083</td>\n",
              "      <td>12.500000</td>\n",
              "      <td>18.100000</td>\n",
              "      <td>0.000000</td>\n",
              "      <td>0.624000</td>\n",
              "      <td>6.623500</td>\n",
              "      <td>94.075000</td>\n",
              "      <td>5.188425</td>\n",
              "      <td>24.000000</td>\n",
              "      <td>666.000000</td>\n",
              "      <td>20.200000</td>\n",
              "      <td>396.225000</td>\n",
              "      <td>16.955000</td>\n",
              "    </tr>\n",
              "    <tr>\n",
              "      <th>max</th>\n",
              "      <td>88.976200</td>\n",
              "      <td>100.000000</td>\n",
              "      <td>27.740000</td>\n",
              "      <td>1.000000</td>\n",
              "      <td>0.871000</td>\n",
              "      <td>8.780000</td>\n",
              "      <td>100.000000</td>\n",
              "      <td>12.126500</td>\n",
              "      <td>24.000000</td>\n",
              "      <td>711.000000</td>\n",
              "      <td>22.000000</td>\n",
              "      <td>396.900000</td>\n",
              "      <td>37.970000</td>\n",
              "    </tr>\n",
              "  </tbody>\n",
              "</table>\n",
              "</div>"
            ],
            "text/plain": [
              "             CRIM          ZN       INDUS  ...     PTRATIO           B       LSTAT\n",
              "count  506.000000  506.000000  506.000000  ...  506.000000  506.000000  506.000000\n",
              "mean     3.613524   11.363636   11.136779  ...   18.455534  356.674032   12.653063\n",
              "std      8.601545   23.322453    6.860353  ...    2.164946   91.294864    7.141062\n",
              "min      0.006320    0.000000    0.460000  ...   12.600000    0.320000    1.730000\n",
              "25%      0.082045    0.000000    5.190000  ...   17.400000  375.377500    6.950000\n",
              "50%      0.256510    0.000000    9.690000  ...   19.050000  391.440000   11.360000\n",
              "75%      3.677083   12.500000   18.100000  ...   20.200000  396.225000   16.955000\n",
              "max     88.976200  100.000000   27.740000  ...   22.000000  396.900000   37.970000\n",
              "\n",
              "[8 rows x 13 columns]"
            ]
          },
          "metadata": {
            "tags": []
          },
          "execution_count": 5
        }
      ]
    },
    {
      "cell_type": "code",
      "metadata": {
        "id": "Z0OhSe9YlPlW",
        "colab_type": "code",
        "colab": {}
      },
      "source": [
        "from sklearn.preprocessing import MinMaxScaler\n",
        "MM=MinMaxScaler()\n",
        "X=pd.DataFrame(MM.fit_transform(X),columns=X.columns)"
      ],
      "execution_count": 0,
      "outputs": []
    },
    {
      "cell_type": "code",
      "metadata": {
        "id": "B_ZxStfVl55J",
        "colab_type": "code",
        "outputId": "14716d14-b7e7-42f1-e9a1-07e1147296ab",
        "colab": {
          "base_uri": "https://localhost:8080/",
          "height": 204
        }
      },
      "source": [
        "X.head()"
      ],
      "execution_count": 7,
      "outputs": [
        {
          "output_type": "execute_result",
          "data": {
            "text/html": [
              "<div>\n",
              "<style scoped>\n",
              "    .dataframe tbody tr th:only-of-type {\n",
              "        vertical-align: middle;\n",
              "    }\n",
              "\n",
              "    .dataframe tbody tr th {\n",
              "        vertical-align: top;\n",
              "    }\n",
              "\n",
              "    .dataframe thead th {\n",
              "        text-align: right;\n",
              "    }\n",
              "</style>\n",
              "<table border=\"1\" class=\"dataframe\">\n",
              "  <thead>\n",
              "    <tr style=\"text-align: right;\">\n",
              "      <th></th>\n",
              "      <th>CRIM</th>\n",
              "      <th>ZN</th>\n",
              "      <th>INDUS</th>\n",
              "      <th>CHAS</th>\n",
              "      <th>NOX</th>\n",
              "      <th>RM</th>\n",
              "      <th>AGE</th>\n",
              "      <th>DIS</th>\n",
              "      <th>RAD</th>\n",
              "      <th>TAX</th>\n",
              "      <th>PTRATIO</th>\n",
              "      <th>B</th>\n",
              "      <th>LSTAT</th>\n",
              "    </tr>\n",
              "  </thead>\n",
              "  <tbody>\n",
              "    <tr>\n",
              "      <th>0</th>\n",
              "      <td>0.000000</td>\n",
              "      <td>0.18</td>\n",
              "      <td>0.067815</td>\n",
              "      <td>0.0</td>\n",
              "      <td>0.314815</td>\n",
              "      <td>0.577505</td>\n",
              "      <td>0.641607</td>\n",
              "      <td>0.269203</td>\n",
              "      <td>0.000000</td>\n",
              "      <td>0.208015</td>\n",
              "      <td>0.287234</td>\n",
              "      <td>1.000000</td>\n",
              "      <td>0.089680</td>\n",
              "    </tr>\n",
              "    <tr>\n",
              "      <th>1</th>\n",
              "      <td>0.000236</td>\n",
              "      <td>0.00</td>\n",
              "      <td>0.242302</td>\n",
              "      <td>0.0</td>\n",
              "      <td>0.172840</td>\n",
              "      <td>0.547998</td>\n",
              "      <td>0.782698</td>\n",
              "      <td>0.348962</td>\n",
              "      <td>0.043478</td>\n",
              "      <td>0.104962</td>\n",
              "      <td>0.553191</td>\n",
              "      <td>1.000000</td>\n",
              "      <td>0.204470</td>\n",
              "    </tr>\n",
              "    <tr>\n",
              "      <th>2</th>\n",
              "      <td>0.000236</td>\n",
              "      <td>0.00</td>\n",
              "      <td>0.242302</td>\n",
              "      <td>0.0</td>\n",
              "      <td>0.172840</td>\n",
              "      <td>0.694386</td>\n",
              "      <td>0.599382</td>\n",
              "      <td>0.348962</td>\n",
              "      <td>0.043478</td>\n",
              "      <td>0.104962</td>\n",
              "      <td>0.553191</td>\n",
              "      <td>0.989737</td>\n",
              "      <td>0.063466</td>\n",
              "    </tr>\n",
              "    <tr>\n",
              "      <th>3</th>\n",
              "      <td>0.000293</td>\n",
              "      <td>0.00</td>\n",
              "      <td>0.063050</td>\n",
              "      <td>0.0</td>\n",
              "      <td>0.150206</td>\n",
              "      <td>0.658555</td>\n",
              "      <td>0.441813</td>\n",
              "      <td>0.448545</td>\n",
              "      <td>0.086957</td>\n",
              "      <td>0.066794</td>\n",
              "      <td>0.648936</td>\n",
              "      <td>0.994276</td>\n",
              "      <td>0.033389</td>\n",
              "    </tr>\n",
              "    <tr>\n",
              "      <th>4</th>\n",
              "      <td>0.000705</td>\n",
              "      <td>0.00</td>\n",
              "      <td>0.063050</td>\n",
              "      <td>0.0</td>\n",
              "      <td>0.150206</td>\n",
              "      <td>0.687105</td>\n",
              "      <td>0.528321</td>\n",
              "      <td>0.448545</td>\n",
              "      <td>0.086957</td>\n",
              "      <td>0.066794</td>\n",
              "      <td>0.648936</td>\n",
              "      <td>1.000000</td>\n",
              "      <td>0.099338</td>\n",
              "    </tr>\n",
              "  </tbody>\n",
              "</table>\n",
              "</div>"
            ],
            "text/plain": [
              "       CRIM    ZN     INDUS  CHAS  ...       TAX   PTRATIO         B     LSTAT\n",
              "0  0.000000  0.18  0.067815   0.0  ...  0.208015  0.287234  1.000000  0.089680\n",
              "1  0.000236  0.00  0.242302   0.0  ...  0.104962  0.553191  1.000000  0.204470\n",
              "2  0.000236  0.00  0.242302   0.0  ...  0.104962  0.553191  0.989737  0.063466\n",
              "3  0.000293  0.00  0.063050   0.0  ...  0.066794  0.648936  0.994276  0.033389\n",
              "4  0.000705  0.00  0.063050   0.0  ...  0.066794  0.648936  1.000000  0.099338\n",
              "\n",
              "[5 rows x 13 columns]"
            ]
          },
          "metadata": {
            "tags": []
          },
          "execution_count": 7
        }
      ]
    },
    {
      "cell_type": "code",
      "metadata": {
        "id": "Nm5Bh1wUl7Ml",
        "colab_type": "code",
        "colab": {
          "base_uri": "https://localhost:8080/",
          "height": 34
        },
        "outputId": "fb1569ca-ace1-40a3-b0c6-6cfe5a614d7a"
      },
      "source": [
        "from sklearn.model_selection import train_test_split\n",
        "x_train,x_test,y_train,y_test=train_test_split(X.values,y.values,test_size=0.2)\n",
        "x_train.shape,y_train.shape"
      ],
      "execution_count": 8,
      "outputs": [
        {
          "output_type": "execute_result",
          "data": {
            "text/plain": [
              "((404, 13), (404, 1))"
            ]
          },
          "metadata": {
            "tags": []
          },
          "execution_count": 8
        }
      ]
    },
    {
      "cell_type": "code",
      "metadata": {
        "id": "SvYaU158m_Mb",
        "colab_type": "code",
        "colab": {}
      },
      "source": [
        "from tensorflow.keras import Sequential\n",
        "from tensorflow.keras.layers import Dense,Dropout"
      ],
      "execution_count": 0,
      "outputs": []
    },
    {
      "cell_type": "code",
      "metadata": {
        "id": "ZZrOzoQZnEnK",
        "colab_type": "code",
        "colab": {}
      },
      "source": [
        "model= Sequential()\n",
        "model.add(Dense(13, activation = 'relu',kernel_initializer=\"uniform\"))\n",
        "model.add(Dense(10, activation = 'relu',kernel_initializer=\"uniform\"))\n",
        "model.add(Dropout(0.1))\n",
        "model.add(Dense(10, activation = 'relu',kernel_initializer=\"uniform\"))\n",
        "model.add(Dropout(0.1))\n",
        "model.add(Dense(1, activation = 'linear',kernel_initializer=\"uniform\"))"
      ],
      "execution_count": 0,
      "outputs": []
    },
    {
      "cell_type": "code",
      "metadata": {
        "id": "ZQQDvrX_ndjp",
        "colab_type": "code",
        "colab": {}
      },
      "source": [
        "model.compile(optimizer=\"adam\",loss=\"mean_squared_error\",metrics=['mse'])"
      ],
      "execution_count": 0,
      "outputs": []
    },
    {
      "cell_type": "code",
      "metadata": {
        "id": "YPIw9PlAnq08",
        "colab_type": "code",
        "colab": {
          "base_uri": "https://localhost:8080/",
          "height": 1000
        },
        "outputId": "1c7a0ce0-87c9-4284-dcc8-45a5ef60bb53"
      },
      "source": [
        "history=model.fit(x_train,y_train,batch_size=10,epochs=100,validation_split=0.1)"
      ],
      "execution_count": 23,
      "outputs": [
        {
          "output_type": "stream",
          "text": [
            "Train on 363 samples, validate on 41 samples\n",
            "Epoch 1/100\n",
            "363/363 [==============================] - 1s 2ms/sample - loss: 606.1553 - mse: 606.1553 - val_loss: 527.0536 - val_mse: 527.0537\n",
            "Epoch 2/100\n",
            "363/363 [==============================] - 0s 242us/sample - loss: 601.5107 - mse: 601.5107 - val_loss: 517.6974 - val_mse: 517.6974\n",
            "Epoch 3/100\n",
            "363/363 [==============================] - 0s 226us/sample - loss: 574.2372 - mse: 574.2372 - val_loss: 462.3603 - val_mse: 462.3603\n",
            "Epoch 4/100\n",
            "363/363 [==============================] - 0s 224us/sample - loss: 460.5604 - mse: 460.5604 - val_loss: 288.5727 - val_mse: 288.5726\n",
            "Epoch 5/100\n",
            "363/363 [==============================] - 0s 211us/sample - loss: 245.9863 - mse: 245.9863 - val_loss: 108.5555 - val_mse: 108.5555\n",
            "Epoch 6/100\n",
            "363/363 [==============================] - 0s 222us/sample - loss: 152.2464 - mse: 152.2464 - val_loss: 88.5866 - val_mse: 88.5866\n",
            "Epoch 7/100\n",
            "363/363 [==============================] - 0s 233us/sample - loss: 163.9024 - mse: 163.9024 - val_loss: 81.6619 - val_mse: 81.6619\n",
            "Epoch 8/100\n",
            "363/363 [==============================] - 0s 225us/sample - loss: 133.8834 - mse: 133.8834 - val_loss: 74.2445 - val_mse: 74.2445\n",
            "Epoch 9/100\n",
            "363/363 [==============================] - 0s 228us/sample - loss: 128.1252 - mse: 128.1252 - val_loss: 68.9586 - val_mse: 68.9586\n",
            "Epoch 10/100\n",
            "363/363 [==============================] - 0s 221us/sample - loss: 117.1578 - mse: 117.1578 - val_loss: 63.7254 - val_mse: 63.7254\n",
            "Epoch 11/100\n",
            "363/363 [==============================] - 0s 241us/sample - loss: 108.6252 - mse: 108.6252 - val_loss: 59.3346 - val_mse: 59.3346\n",
            "Epoch 12/100\n",
            "363/363 [==============================] - 0s 248us/sample - loss: 110.4314 - mse: 110.4314 - val_loss: 54.8737 - val_mse: 54.8737\n",
            "Epoch 13/100\n",
            "363/363 [==============================] - 0s 223us/sample - loss: 97.8098 - mse: 97.8099 - val_loss: 51.5065 - val_mse: 51.5065\n",
            "Epoch 14/100\n",
            "363/363 [==============================] - 0s 246us/sample - loss: 97.5289 - mse: 97.5289 - val_loss: 48.4064 - val_mse: 48.4064\n",
            "Epoch 15/100\n",
            "363/363 [==============================] - 0s 228us/sample - loss: 93.5092 - mse: 93.5092 - val_loss: 45.6043 - val_mse: 45.6043\n",
            "Epoch 16/100\n",
            "363/363 [==============================] - 0s 223us/sample - loss: 91.4630 - mse: 91.4630 - val_loss: 43.0526 - val_mse: 43.0526\n",
            "Epoch 17/100\n",
            "363/363 [==============================] - 0s 249us/sample - loss: 78.9445 - mse: 78.9445 - val_loss: 41.1246 - val_mse: 41.1246\n",
            "Epoch 18/100\n",
            "363/363 [==============================] - 0s 231us/sample - loss: 83.7212 - mse: 83.7212 - val_loss: 39.2611 - val_mse: 39.2611\n",
            "Epoch 19/100\n",
            "363/363 [==============================] - 0s 232us/sample - loss: 77.1742 - mse: 77.1742 - val_loss: 37.8120 - val_mse: 37.8120\n",
            "Epoch 20/100\n",
            "363/363 [==============================] - 0s 238us/sample - loss: 81.9748 - mse: 81.9748 - val_loss: 37.0663 - val_mse: 37.0663\n",
            "Epoch 21/100\n",
            "363/363 [==============================] - 0s 222us/sample - loss: 76.4917 - mse: 76.4917 - val_loss: 35.5956 - val_mse: 35.5956\n",
            "Epoch 22/100\n",
            "363/363 [==============================] - 0s 251us/sample - loss: 73.7100 - mse: 73.7100 - val_loss: 34.8159 - val_mse: 34.8159\n",
            "Epoch 23/100\n",
            "363/363 [==============================] - 0s 232us/sample - loss: 71.4058 - mse: 71.4058 - val_loss: 33.9799 - val_mse: 33.9799\n",
            "Epoch 24/100\n",
            "363/363 [==============================] - 0s 226us/sample - loss: 74.3920 - mse: 74.3920 - val_loss: 32.8455 - val_mse: 32.8455\n",
            "Epoch 25/100\n",
            "363/363 [==============================] - 0s 279us/sample - loss: 65.6818 - mse: 65.6818 - val_loss: 32.1711 - val_mse: 32.1711\n",
            "Epoch 26/100\n",
            "363/363 [==============================] - 0s 225us/sample - loss: 68.5555 - mse: 68.5555 - val_loss: 32.8321 - val_mse: 32.8321\n",
            "Epoch 27/100\n",
            "363/363 [==============================] - 0s 246us/sample - loss: 61.1901 - mse: 61.1901 - val_loss: 30.7987 - val_mse: 30.7987\n",
            "Epoch 28/100\n",
            "363/363 [==============================] - 0s 247us/sample - loss: 65.1882 - mse: 65.1882 - val_loss: 30.0232 - val_mse: 30.0232\n",
            "Epoch 29/100\n",
            "363/363 [==============================] - 0s 215us/sample - loss: 68.5726 - mse: 68.5726 - val_loss: 29.5901 - val_mse: 29.5901\n",
            "Epoch 30/100\n",
            "363/363 [==============================] - 0s 211us/sample - loss: 71.4910 - mse: 71.4910 - val_loss: 28.9778 - val_mse: 28.9778\n",
            "Epoch 31/100\n",
            "363/363 [==============================] - 0s 225us/sample - loss: 65.3712 - mse: 65.3712 - val_loss: 28.4535 - val_mse: 28.4535\n",
            "Epoch 32/100\n",
            "363/363 [==============================] - 0s 237us/sample - loss: 62.5485 - mse: 62.5485 - val_loss: 27.5586 - val_mse: 27.5586\n",
            "Epoch 33/100\n",
            "363/363 [==============================] - 0s 224us/sample - loss: 70.3420 - mse: 70.3420 - val_loss: 27.0693 - val_mse: 27.0693\n",
            "Epoch 34/100\n",
            "363/363 [==============================] - 0s 226us/sample - loss: 62.2169 - mse: 62.2170 - val_loss: 26.3295 - val_mse: 26.3295\n",
            "Epoch 35/100\n",
            "363/363 [==============================] - 0s 222us/sample - loss: 61.9099 - mse: 61.9099 - val_loss: 25.8524 - val_mse: 25.8524\n",
            "Epoch 36/100\n",
            "363/363 [==============================] - 0s 236us/sample - loss: 56.8781 - mse: 56.8781 - val_loss: 25.1443 - val_mse: 25.1443\n",
            "Epoch 37/100\n",
            "363/363 [==============================] - 0s 215us/sample - loss: 61.5069 - mse: 61.5070 - val_loss: 24.5780 - val_mse: 24.5780\n",
            "Epoch 38/100\n",
            "363/363 [==============================] - 0s 212us/sample - loss: 61.0928 - mse: 61.0928 - val_loss: 24.2038 - val_mse: 24.2038\n",
            "Epoch 39/100\n",
            "363/363 [==============================] - 0s 229us/sample - loss: 56.2384 - mse: 56.2384 - val_loss: 23.8027 - val_mse: 23.8027\n",
            "Epoch 40/100\n",
            "363/363 [==============================] - 0s 214us/sample - loss: 64.6140 - mse: 64.6140 - val_loss: 23.5421 - val_mse: 23.5421\n",
            "Epoch 41/100\n",
            "363/363 [==============================] - 0s 228us/sample - loss: 56.4346 - mse: 56.4346 - val_loss: 22.1862 - val_mse: 22.1862\n",
            "Epoch 42/100\n",
            "363/363 [==============================] - 0s 210us/sample - loss: 61.5676 - mse: 61.5676 - val_loss: 21.6848 - val_mse: 21.6848\n",
            "Epoch 43/100\n",
            "363/363 [==============================] - 0s 211us/sample - loss: 56.3262 - mse: 56.3262 - val_loss: 21.3265 - val_mse: 21.3265\n",
            "Epoch 44/100\n",
            "363/363 [==============================] - 0s 227us/sample - loss: 55.2261 - mse: 55.2261 - val_loss: 20.6731 - val_mse: 20.6731\n",
            "Epoch 45/100\n",
            "363/363 [==============================] - 0s 219us/sample - loss: 53.4059 - mse: 53.4059 - val_loss: 20.4641 - val_mse: 20.4641\n",
            "Epoch 46/100\n",
            "363/363 [==============================] - 0s 219us/sample - loss: 60.8087 - mse: 60.8087 - val_loss: 19.8697 - val_mse: 19.8697\n",
            "Epoch 47/100\n",
            "363/363 [==============================] - 0s 234us/sample - loss: 53.7815 - mse: 53.7815 - val_loss: 19.4161 - val_mse: 19.4161\n",
            "Epoch 48/100\n",
            "363/363 [==============================] - 0s 229us/sample - loss: 53.2878 - mse: 53.2878 - val_loss: 18.7331 - val_mse: 18.7331\n",
            "Epoch 49/100\n",
            "363/363 [==============================] - 0s 233us/sample - loss: 52.6445 - mse: 52.6445 - val_loss: 18.2099 - val_mse: 18.2099\n",
            "Epoch 50/100\n",
            "363/363 [==============================] - 0s 221us/sample - loss: 53.1975 - mse: 53.1975 - val_loss: 17.8603 - val_mse: 17.8603\n",
            "Epoch 51/100\n",
            "363/363 [==============================] - 0s 222us/sample - loss: 49.5408 - mse: 49.5408 - val_loss: 17.3975 - val_mse: 17.3975\n",
            "Epoch 52/100\n",
            "363/363 [==============================] - 0s 231us/sample - loss: 57.2076 - mse: 57.2076 - val_loss: 17.1320 - val_mse: 17.1320\n",
            "Epoch 53/100\n",
            "363/363 [==============================] - 0s 238us/sample - loss: 49.6363 - mse: 49.6363 - val_loss: 16.7072 - val_mse: 16.7072\n",
            "Epoch 54/100\n",
            "363/363 [==============================] - 0s 220us/sample - loss: 46.6915 - mse: 46.6915 - val_loss: 16.3955 - val_mse: 16.3955\n",
            "Epoch 55/100\n",
            "363/363 [==============================] - 0s 218us/sample - loss: 52.0813 - mse: 52.0813 - val_loss: 15.8395 - val_mse: 15.8395\n",
            "Epoch 56/100\n",
            "363/363 [==============================] - 0s 234us/sample - loss: 49.9738 - mse: 49.9738 - val_loss: 15.5556 - val_mse: 15.5556\n",
            "Epoch 57/100\n",
            "363/363 [==============================] - 0s 234us/sample - loss: 45.5996 - mse: 45.5997 - val_loss: 15.5415 - val_mse: 15.5415\n",
            "Epoch 58/100\n",
            "363/363 [==============================] - 0s 244us/sample - loss: 52.8798 - mse: 52.8798 - val_loss: 14.7647 - val_mse: 14.7647\n",
            "Epoch 59/100\n",
            "363/363 [==============================] - 0s 229us/sample - loss: 48.1576 - mse: 48.1576 - val_loss: 14.7505 - val_mse: 14.7505\n",
            "Epoch 60/100\n",
            "363/363 [==============================] - 0s 216us/sample - loss: 45.3282 - mse: 45.3282 - val_loss: 14.3258 - val_mse: 14.3258\n",
            "Epoch 61/100\n",
            "363/363 [==============================] - 0s 219us/sample - loss: 47.9434 - mse: 47.9434 - val_loss: 14.0746 - val_mse: 14.0746\n",
            "Epoch 62/100\n",
            "363/363 [==============================] - 0s 210us/sample - loss: 52.2170 - mse: 52.2170 - val_loss: 13.7704 - val_mse: 13.7704\n",
            "Epoch 63/100\n",
            "363/363 [==============================] - 0s 233us/sample - loss: 40.2751 - mse: 40.2751 - val_loss: 13.5203 - val_mse: 13.5203\n",
            "Epoch 64/100\n",
            "363/363 [==============================] - 0s 234us/sample - loss: 46.1588 - mse: 46.1588 - val_loss: 13.3841 - val_mse: 13.3841\n",
            "Epoch 65/100\n",
            "363/363 [==============================] - 0s 232us/sample - loss: 44.9415 - mse: 44.9415 - val_loss: 13.7483 - val_mse: 13.7483\n",
            "Epoch 66/100\n",
            "363/363 [==============================] - 0s 224us/sample - loss: 46.2333 - mse: 46.2333 - val_loss: 12.6063 - val_mse: 12.6063\n",
            "Epoch 67/100\n",
            "363/363 [==============================] - 0s 232us/sample - loss: 45.1433 - mse: 45.1433 - val_loss: 12.2674 - val_mse: 12.2674\n",
            "Epoch 68/100\n",
            "363/363 [==============================] - 0s 247us/sample - loss: 46.3565 - mse: 46.3565 - val_loss: 12.1601 - val_mse: 12.1601\n",
            "Epoch 69/100\n",
            "363/363 [==============================] - 0s 214us/sample - loss: 47.6110 - mse: 47.6110 - val_loss: 11.8315 - val_mse: 11.8315\n",
            "Epoch 70/100\n",
            "363/363 [==============================] - 0s 231us/sample - loss: 44.8525 - mse: 44.8525 - val_loss: 11.5874 - val_mse: 11.5874\n",
            "Epoch 71/100\n",
            "363/363 [==============================] - 0s 230us/sample - loss: 40.4710 - mse: 40.4710 - val_loss: 11.4277 - val_mse: 11.4277\n",
            "Epoch 72/100\n",
            "363/363 [==============================] - 0s 238us/sample - loss: 40.9529 - mse: 40.9529 - val_loss: 11.3550 - val_mse: 11.3550\n",
            "Epoch 73/100\n",
            "363/363 [==============================] - 0s 230us/sample - loss: 41.0756 - mse: 41.0756 - val_loss: 11.2929 - val_mse: 11.2929\n",
            "Epoch 74/100\n",
            "363/363 [==============================] - 0s 213us/sample - loss: 43.9964 - mse: 43.9964 - val_loss: 11.1573 - val_mse: 11.1573\n",
            "Epoch 75/100\n",
            "363/363 [==============================] - 0s 209us/sample - loss: 39.5984 - mse: 39.5984 - val_loss: 11.0669 - val_mse: 11.0669\n",
            "Epoch 76/100\n",
            "363/363 [==============================] - 0s 227us/sample - loss: 51.3334 - mse: 51.3335 - val_loss: 11.1796 - val_mse: 11.1796\n",
            "Epoch 77/100\n",
            "363/363 [==============================] - 0s 239us/sample - loss: 46.2616 - mse: 46.2616 - val_loss: 11.1054 - val_mse: 11.1054\n",
            "Epoch 78/100\n",
            "363/363 [==============================] - 0s 232us/sample - loss: 41.7111 - mse: 41.7111 - val_loss: 11.2581 - val_mse: 11.2582\n",
            "Epoch 79/100\n",
            "363/363 [==============================] - 0s 216us/sample - loss: 46.8017 - mse: 46.8017 - val_loss: 11.3147 - val_mse: 11.3147\n",
            "Epoch 80/100\n",
            "363/363 [==============================] - 0s 229us/sample - loss: 37.1807 - mse: 37.1807 - val_loss: 10.6705 - val_mse: 10.6705\n",
            "Epoch 81/100\n",
            "363/363 [==============================] - 0s 231us/sample - loss: 42.8944 - mse: 42.8944 - val_loss: 10.7761 - val_mse: 10.7761\n",
            "Epoch 82/100\n",
            "363/363 [==============================] - 0s 229us/sample - loss: 41.6496 - mse: 41.6496 - val_loss: 10.4840 - val_mse: 10.4840\n",
            "Epoch 83/100\n",
            "363/363 [==============================] - 0s 226us/sample - loss: 41.7484 - mse: 41.7484 - val_loss: 10.3528 - val_mse: 10.3528\n",
            "Epoch 84/100\n",
            "363/363 [==============================] - 0s 234us/sample - loss: 45.5869 - mse: 45.5869 - val_loss: 10.1161 - val_mse: 10.1161\n",
            "Epoch 85/100\n",
            "363/363 [==============================] - 0s 220us/sample - loss: 40.8173 - mse: 40.8173 - val_loss: 10.3350 - val_mse: 10.3350\n",
            "Epoch 86/100\n",
            "363/363 [==============================] - 0s 216us/sample - loss: 36.0180 - mse: 36.0180 - val_loss: 10.4176 - val_mse: 10.4176\n",
            "Epoch 87/100\n",
            "363/363 [==============================] - 0s 223us/sample - loss: 41.6003 - mse: 41.6003 - val_loss: 10.1272 - val_mse: 10.1272\n",
            "Epoch 88/100\n",
            "363/363 [==============================] - 0s 215us/sample - loss: 43.4447 - mse: 43.4447 - val_loss: 10.2499 - val_mse: 10.2499\n",
            "Epoch 89/100\n",
            "363/363 [==============================] - 0s 212us/sample - loss: 37.5443 - mse: 37.5443 - val_loss: 10.1747 - val_mse: 10.1747\n",
            "Epoch 90/100\n",
            "363/363 [==============================] - 0s 231us/sample - loss: 34.1531 - mse: 34.1531 - val_loss: 9.9824 - val_mse: 9.9824\n",
            "Epoch 91/100\n",
            "363/363 [==============================] - 0s 219us/sample - loss: 39.2899 - mse: 39.2899 - val_loss: 9.9540 - val_mse: 9.9540\n",
            "Epoch 92/100\n",
            "363/363 [==============================] - 0s 223us/sample - loss: 41.4949 - mse: 41.4948 - val_loss: 10.3088 - val_mse: 10.3088\n",
            "Epoch 93/100\n",
            "363/363 [==============================] - 0s 252us/sample - loss: 42.9419 - mse: 42.9419 - val_loss: 9.8575 - val_mse: 9.8575\n",
            "Epoch 94/100\n",
            "363/363 [==============================] - 0s 216us/sample - loss: 39.4587 - mse: 39.4587 - val_loss: 9.9926 - val_mse: 9.9926\n",
            "Epoch 95/100\n",
            "363/363 [==============================] - 0s 219us/sample - loss: 36.9227 - mse: 36.9227 - val_loss: 10.1110 - val_mse: 10.1110\n",
            "Epoch 96/100\n",
            "363/363 [==============================] - 0s 230us/sample - loss: 36.2790 - mse: 36.2790 - val_loss: 9.9342 - val_mse: 9.9342\n",
            "Epoch 97/100\n",
            "363/363 [==============================] - 0s 226us/sample - loss: 35.0037 - mse: 35.0037 - val_loss: 10.6678 - val_mse: 10.6678\n",
            "Epoch 98/100\n",
            "363/363 [==============================] - 0s 216us/sample - loss: 35.4816 - mse: 35.4816 - val_loss: 10.1960 - val_mse: 10.1960\n",
            "Epoch 99/100\n",
            "363/363 [==============================] - 0s 219us/sample - loss: 39.1531 - mse: 39.1531 - val_loss: 9.9536 - val_mse: 9.9536\n",
            "Epoch 100/100\n",
            "363/363 [==============================] - 0s 217us/sample - loss: 38.1504 - mse: 38.1505 - val_loss: 9.8030 - val_mse: 9.8030\n"
          ],
          "name": "stdout"
        }
      ]
    },
    {
      "cell_type": "code",
      "metadata": {
        "id": "IRdThw0ln_jP",
        "colab_type": "code",
        "colab": {
          "base_uri": "https://localhost:8080/",
          "height": 573
        },
        "outputId": "34f70370-f4e2-4585-e2ac-e42e7fca1f9e"
      },
      "source": [
        "plt.plot(history.history['mse'], label='Training mse')\n",
        "plt.plot(history.history['val_mse'], label='Validation mse')\n",
        "plt.title('Validation mse')\n",
        "plt.ylabel('MSE')\n",
        "plt.xlabel('Epoch')\n",
        "plt.legend(loc=\"upper left\")\n",
        "plt.show()\n",
        "\n",
        "plt.plot(history.history['loss'], label='Training loss')\n",
        "plt.plot(history.history['val_loss'], label='Validation loss')\n",
        "plt.title('validation loss values')\n",
        "plt.ylabel('Loss value')\n",
        "plt.xlabel('Epoch')\n",
        "plt.legend(loc=\"upper left\")\n",
        "plt.show()"
      ],
      "execution_count": 24,
      "outputs": [
        {
          "output_type": "display_data",
          "data": {
            "image/png": "[encoded data removed]",
            "text/plain": [
              "<Figure size 432x288 with 1 Axes>"
            ]
          },
          "metadata": {
            "tags": []
          }
        },
        {
          "output_type": "display_data",
          "data": {
            "image/png": "[encoded data removed]",
            "text/plain": [
              "<Figure size 432x288 with 1 Axes>"
            ]
          },
          "metadata": {
            "tags": []
          }
        }
      ]
    },
    {
      "cell_type": "code",
      "metadata": {
        "id": "-LpN4cuKo3WV",
        "colab_type": "code",
        "colab": {
          "base_uri": "https://localhost:8080/",
          "height": 51
        },
        "outputId": "1eec3137-e986-4e66-b3d6-f21d892f62f5"
      },
      "source": [
        "ypred=model.predict(x_test)\n",
        "score=model.evaluate(x_test,y_test)\n",
        "score"
      ],
      "execution_count": 25,
      "outputs": [
        {
          "output_type": "stream",
          "text": [
            "102/102 [==============================] - 0s 89us/sample - loss: 20.6169 - mse: 20.6169\n"
          ],
          "name": "stdout"
        },
        {
          "output_type": "execute_result",
          "data": {
            "text/plain": [
              "[20.616949287115357, 20.61695]"
            ]
          },
          "metadata": {
            "tags": []
          },
          "execution_count": 25
        }
      ]
    },
    {
      "cell_type": "code",
      "metadata": {
        "id": "dDF56dUCpe2F",
        "colab_type": "code",
        "colab": {}
      },
      "source": [
        ""
      ],
      "execution_count": 0,
      "outputs": []
    }
  ]
}