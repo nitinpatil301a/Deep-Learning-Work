{
  "nbformat": 4,
  "nbformat_minor": 0,
  "metadata": {
    "colab": {
      "name": "Boston_Dataset_regression",
      "provenance": [],
      "authorship_tag": "ABX9TyOTN6OE7gNw7b//M61ffiWQ",
      "include_colab_link": true
    },
    "kernelspec": {
      "name": "python3",
      "display_name": "Python 3"
    }
  },
  "cells": [
    {
      "cell_type": "markdown",
      "metadata": {
        "id": "view-in-github",
        "colab_type": "text"
      },
      "source": [
        "<a href=\"https://colab.research.google.com/github/nitinpatil301a/Tensorflow-Keras-Work/blob/master/Boston_Dataset_regression.ipynb\" target=\"_parent\"><img src=\"https://colab.research.google.com/assets/colab-badge.svg\" alt=\"Open In Colab\"/></a>"
      ]
    },
    {
      "cell_type": "code",
      "metadata": {
        "id": "cqXyzqcPiaMs",
        "colab_type": "code",
        "outputId": "1755d240-2516-4476-fab3-86bd1a37dc8b",
        "colab": {
          "base_uri": "https://localhost:8080/",
          "height": 102
        }
      },
      "source": [
        "%tensorflow_version 2.0.0\n",
        "import tensorflow as tf\n",
        "from tensorflow import keras\n",
        "import numpy as np\n",
        "import pandas as pd\n",
        "import matplotlib.pyplot as plt"
      ],
      "execution_count": 0,
      "outputs": [
        {
          "output_type": "stream",
          "text": [
            "`%tensorflow_version` only switches the major version: 1.x or 2.x.\n",
            "You set: `2.0.0`. This will be interpreted as: `2.x`.\n",
            "\n",
            "\n",
            "TensorFlow 2.x selected.\n"
          ],
          "name": "stdout"
        }
      ]
    },
    {
      "cell_type": "code",
      "metadata": {
        "id": "1dRWsSqSkDyp",
        "colab_type": "code",
        "colab": {}
      },
      "source": [
        "from sklearn.datasets import load_boston\n",
        "boston = load_boston()\n"
      ],
      "execution_count": 0,
      "outputs": []
    },
    {
      "cell_type": "code",
      "metadata": {
        "id": "oA8yoKdpkGuY",
        "colab_type": "code",
        "outputId": "0363abd0-039e-43de-f15f-8afabb5c1252",
        "colab": {
          "base_uri": "https://localhost:8080/",
          "height": 204
        }
      },
      "source": [
        "X=pd.DataFrame(boston.data,columns=boston.feature_names  )\n",
        "X.head()"
      ],
      "execution_count": 0,
      "outputs": [
        {
          "output_type": "execute_result",
          "data": {
            "text/html": [
              "<div>\n",
              "<style scoped>\n",
              "    .dataframe tbody tr th:only-of-type {\n",
              "        vertical-align: middle;\n",
              "    }\n",
              "\n",
              "    .dataframe tbody tr th {\n",
              "        vertical-align: top;\n",
              "    }\n",
              "\n",
              "    .dataframe thead th {\n",
              "        text-align: right;\n",
              "    }\n",
              "</style>\n",
              "<table border=\"1\" class=\"dataframe\">\n",
              "  <thead>\n",
              "    <tr style=\"text-align: right;\">\n",
              "      <th></th>\n",
              "      <th>CRIM</th>\n",
              "      <th>ZN</th>\n",
              "      <th>INDUS</th>\n",
              "      <th>CHAS</th>\n",
              "      <th>NOX</th>\n",
              "      <th>RM</th>\n",
              "      <th>AGE</th>\n",
              "      <th>DIS</th>\n",
              "      <th>RAD</th>\n",
              "      <th>TAX</th>\n",
              "      <th>PTRATIO</th>\n",
              "      <th>B</th>\n",
              "      <th>LSTAT</th>\n",
              "    </tr>\n",
              "  </thead>\n",
              "  <tbody>\n",
              "    <tr>\n",
              "      <th>0</th>\n",
              "      <td>0.00632</td>\n",
              "      <td>18.0</td>\n",
              "      <td>2.31</td>\n",
              "      <td>0.0</td>\n",
              "      <td>0.538</td>\n",
              "      <td>6.575</td>\n",
              "      <td>65.2</td>\n",
              "      <td>4.0900</td>\n",
              "      <td>1.0</td>\n",
              "      <td>296.0</td>\n",
              "      <td>15.3</td>\n",
              "      <td>396.90</td>\n",
              "      <td>4.98</td>\n",
              "    </tr>\n",
              "    <tr>\n",
              "      <th>1</th>\n",
              "      <td>0.02731</td>\n",
              "      <td>0.0</td>\n",
              "      <td>7.07</td>\n",
              "      <td>0.0</td>\n",
              "      <td>0.469</td>\n",
              "      <td>6.421</td>\n",
              "      <td>78.9</td>\n",
              "      <td>4.9671</td>\n",
              "      <td>2.0</td>\n",
              "      <td>242.0</td>\n",
              "      <td>17.8</td>\n",
              "      <td>396.90</td>\n",
              "      <td>9.14</td>\n",
              "    </tr>\n",
              "    <tr>\n",
              "      <th>2</th>\n",
              "      <td>0.02729</td>\n",
              "      <td>0.0</td>\n",
              "      <td>7.07</td>\n",
              "      <td>0.0</td>\n",
              "      <td>0.469</td>\n",
              "      <td>7.185</td>\n",
              "      <td>61.1</td>\n",
              "      <td>4.9671</td>\n",
              "      <td>2.0</td>\n",
              "      <td>242.0</td>\n",
              "      <td>17.8</td>\n",
              "      <td>392.83</td>\n",
              "      <td>4.03</td>\n",
              "    </tr>\n",
              "    <tr>\n",
              "      <th>3</th>\n",
              "      <td>0.03237</td>\n",
              "      <td>0.0</td>\n",
              "      <td>2.18</td>\n",
              "      <td>0.0</td>\n",
              "      <td>0.458</td>\n",
              "      <td>6.998</td>\n",
              "      <td>45.8</td>\n",
              "      <td>6.0622</td>\n",
              "      <td>3.0</td>\n",
              "      <td>222.0</td>\n",
              "      <td>18.7</td>\n",
              "      <td>394.63</td>\n",
              "      <td>2.94</td>\n",
              "    </tr>\n",
              "    <tr>\n",
              "      <th>4</th>\n",
              "      <td>0.06905</td>\n",
              "      <td>0.0</td>\n",
              "      <td>2.18</td>\n",
              "      <td>0.0</td>\n",
              "      <td>0.458</td>\n",
              "      <td>7.147</td>\n",
              "      <td>54.2</td>\n",
              "      <td>6.0622</td>\n",
              "      <td>3.0</td>\n",
              "      <td>222.0</td>\n",
              "      <td>18.7</td>\n",
              "      <td>396.90</td>\n",
              "      <td>5.33</td>\n",
              "    </tr>\n",
              "  </tbody>\n",
              "</table>\n",
              "</div>"
            ],
            "text/plain": [
              "      CRIM    ZN  INDUS  CHAS    NOX  ...  RAD    TAX  PTRATIO       B  LSTAT\n",
              "0  0.00632  18.0   2.31   0.0  0.538  ...  1.0  296.0     15.3  396.90   4.98\n",
              "1  0.02731   0.0   7.07   0.0  0.469  ...  2.0  242.0     17.8  396.90   9.14\n",
              "2  0.02729   0.0   7.07   0.0  0.469  ...  2.0  242.0     17.8  392.83   4.03\n",
              "3  0.03237   0.0   2.18   0.0  0.458  ...  3.0  222.0     18.7  394.63   2.94\n",
              "4  0.06905   0.0   2.18   0.0  0.458  ...  3.0  222.0     18.7  396.90   5.33\n",
              "\n",
              "[5 rows x 13 columns]"
            ]
          },
          "metadata": {
            "tags": []
          },
          "execution_count": 8
        }
      ]
    },
    {
      "cell_type": "code",
      "metadata": {
        "id": "eYoQDC3gkJJm",
        "colab_type": "code",
        "outputId": "e6c40226-e076-4f07-832c-ff59349a7d6c",
        "colab": {
          "base_uri": "https://localhost:8080/",
          "height": 204
        }
      },
      "source": [
        "y=pd.DataFrame(boston.target,columns=[\"target\"])\n",
        "y.head()"
      ],
      "execution_count": 0,
      "outputs": [
        {
          "output_type": "execute_result",
          "data": {
            "text/html": [
              "<div>\n",
              "<style scoped>\n",
              "    .dataframe tbody tr th:only-of-type {\n",
              "        vertical-align: middle;\n",
              "    }\n",
              "\n",
              "    .dataframe tbody tr th {\n",
              "        vertical-align: top;\n",
              "    }\n",
              "\n",
              "    .dataframe thead th {\n",
              "        text-align: right;\n",
              "    }\n",
              "</style>\n",
              "<table border=\"1\" class=\"dataframe\">\n",
              "  <thead>\n",
              "    <tr style=\"text-align: right;\">\n",
              "      <th></th>\n",
              "      <th>target</th>\n",
              "    </tr>\n",
              "  </thead>\n",
              "  <tbody>\n",
              "    <tr>\n",
              "      <th>0</th>\n",
              "      <td>24.0</td>\n",
              "    </tr>\n",
              "    <tr>\n",
              "      <th>1</th>\n",
              "      <td>21.6</td>\n",
              "    </tr>\n",
              "    <tr>\n",
              "      <th>2</th>\n",
              "      <td>34.7</td>\n",
              "    </tr>\n",
              "    <tr>\n",
              "      <th>3</th>\n",
              "      <td>33.4</td>\n",
              "    </tr>\n",
              "    <tr>\n",
              "      <th>4</th>\n",
              "      <td>36.2</td>\n",
              "    </tr>\n",
              "  </tbody>\n",
              "</table>\n",
              "</div>"
            ],
            "text/plain": [
              "   target\n",
              "0    24.0\n",
              "1    21.6\n",
              "2    34.7\n",
              "3    33.4\n",
              "4    36.2"
            ]
          },
          "metadata": {
            "tags": []
          },
          "execution_count": 11
        }
      ]
    },
    {
      "cell_type": "code",
      "metadata": {
        "id": "lK64BWnjkKXy",
        "colab_type": "code",
        "outputId": "811c0557-35db-45c9-8eb2-e13d04903784",
        "colab": {
          "base_uri": "https://localhost:8080/",
          "height": 297
        }
      },
      "source": [
        "X.describe()"
      ],
      "execution_count": 0,
      "outputs": [
        {
          "output_type": "execute_result",
          "data": {
            "text/html": [
              "<div>\n",
              "<style scoped>\n",
              "    .dataframe tbody tr th:only-of-type {\n",
              "        vertical-align: middle;\n",
              "    }\n",
              "\n",
              "    .dataframe tbody tr th {\n",
              "        vertical-align: top;\n",
              "    }\n",
              "\n",
              "    .dataframe thead th {\n",
              "        text-align: right;\n",
              "    }\n",
              "</style>\n",
              "<table border=\"1\" class=\"dataframe\">\n",
              "  <thead>\n",
              "    <tr style=\"text-align: right;\">\n",
              "      <th></th>\n",
              "      <th>CRIM</th>\n",
              "      <th>ZN</th>\n",
              "      <th>INDUS</th>\n",
              "      <th>CHAS</th>\n",
              "      <th>NOX</th>\n",
              "      <th>RM</th>\n",
              "      <th>AGE</th>\n",
              "      <th>DIS</th>\n",
              "      <th>RAD</th>\n",
              "      <th>TAX</th>\n",
              "      <th>PTRATIO</th>\n",
              "      <th>B</th>\n",
              "      <th>LSTAT</th>\n",
              "    </tr>\n",
              "  </thead>\n",
              "  <tbody>\n",
              "    <tr>\n",
              "      <th>count</th>\n",
              "      <td>506.000000</td>\n",
              "      <td>506.000000</td>\n",
              "      <td>506.000000</td>\n",
              "      <td>506.000000</td>\n",
              "      <td>506.000000</td>\n",
              "      <td>506.000000</td>\n",
              "      <td>506.000000</td>\n",
              "      <td>506.000000</td>\n",
              "      <td>506.000000</td>\n",
              "      <td>506.000000</td>\n",
              "      <td>506.000000</td>\n",
              "      <td>506.000000</td>\n",
              "      <td>506.000000</td>\n",
              "    </tr>\n",
              "    <tr>\n",
              "      <th>mean</th>\n",
              "      <td>3.613524</td>\n",
              "      <td>11.363636</td>\n",
              "      <td>11.136779</td>\n",
              "      <td>0.069170</td>\n",
              "      <td>0.554695</td>\n",
              "      <td>6.284634</td>\n",
              "      <td>68.574901</td>\n",
              "      <td>3.795043</td>\n",
              "      <td>9.549407</td>\n",
              "      <td>408.237154</td>\n",
              "      <td>18.455534</td>\n",
              "      <td>356.674032</td>\n",
              "      <td>12.653063</td>\n",
              "    </tr>\n",
              "    <tr>\n",
              "      <th>std</th>\n",
              "      <td>8.601545</td>\n",
              "      <td>23.322453</td>\n",
              "      <td>6.860353</td>\n",
              "      <td>0.253994</td>\n",
              "      <td>0.115878</td>\n",
              "      <td>0.702617</td>\n",
              "      <td>28.148861</td>\n",
              "      <td>2.105710</td>\n",
              "      <td>8.707259</td>\n",
              "      <td>168.537116</td>\n",
              "      <td>2.164946</td>\n",
              "      <td>91.294864</td>\n",
              "      <td>7.141062</td>\n",
              "    </tr>\n",
              "    <tr>\n",
              "      <th>min</th>\n",
              "      <td>0.006320</td>\n",
              "      <td>0.000000</td>\n",
              "      <td>0.460000</td>\n",
              "      <td>0.000000</td>\n",
              "      <td>0.385000</td>\n",
              "      <td>3.561000</td>\n",
              "      <td>2.900000</td>\n",
              "      <td>1.129600</td>\n",
              "      <td>1.000000</td>\n",
              "      <td>187.000000</td>\n",
              "      <td>12.600000</td>\n",
              "      <td>0.320000</td>\n",
              "      <td>1.730000</td>\n",
              "    </tr>\n",
              "    <tr>\n",
              "      <th>25%</th>\n",
              "      <td>0.082045</td>\n",
              "      <td>0.000000</td>\n",
              "      <td>5.190000</td>\n",
              "      <td>0.000000</td>\n",
              "      <td>0.449000</td>\n",
              "      <td>5.885500</td>\n",
              "      <td>45.025000</td>\n",
              "      <td>2.100175</td>\n",
              "      <td>4.000000</td>\n",
              "      <td>279.000000</td>\n",
              "      <td>17.400000</td>\n",
              "      <td>375.377500</td>\n",
              "      <td>6.950000</td>\n",
              "    </tr>\n",
              "    <tr>\n",
              "      <th>50%</th>\n",
              "      <td>0.256510</td>\n",
              "      <td>0.000000</td>\n",
              "      <td>9.690000</td>\n",
              "      <td>0.000000</td>\n",
              "      <td>0.538000</td>\n",
              "      <td>6.208500</td>\n",
              "      <td>77.500000</td>\n",
              "      <td>3.207450</td>\n",
              "      <td>5.000000</td>\n",
              "      <td>330.000000</td>\n",
              "      <td>19.050000</td>\n",
              "      <td>391.440000</td>\n",
              "      <td>11.360000</td>\n",
              "    </tr>\n",
              "    <tr>\n",
              "      <th>75%</th>\n",
              "      <td>3.677083</td>\n",
              "      <td>12.500000</td>\n",
              "      <td>18.100000</td>\n",
              "      <td>0.000000</td>\n",
              "      <td>0.624000</td>\n",
              "      <td>6.623500</td>\n",
              "      <td>94.075000</td>\n",
              "      <td>5.188425</td>\n",
              "      <td>24.000000</td>\n",
              "      <td>666.000000</td>\n",
              "      <td>20.200000</td>\n",
              "      <td>396.225000</td>\n",
              "      <td>16.955000</td>\n",
              "    </tr>\n",
              "    <tr>\n",
              "      <th>max</th>\n",
              "      <td>88.976200</td>\n",
              "      <td>100.000000</td>\n",
              "      <td>27.740000</td>\n",
              "      <td>1.000000</td>\n",
              "      <td>0.871000</td>\n",
              "      <td>8.780000</td>\n",
              "      <td>100.000000</td>\n",
              "      <td>12.126500</td>\n",
              "      <td>24.000000</td>\n",
              "      <td>711.000000</td>\n",
              "      <td>22.000000</td>\n",
              "      <td>396.900000</td>\n",
              "      <td>37.970000</td>\n",
              "    </tr>\n",
              "  </tbody>\n",
              "</table>\n",
              "</div>"
            ],
            "text/plain": [
              "             CRIM          ZN       INDUS  ...     PTRATIO           B       LSTAT\n",
              "count  506.000000  506.000000  506.000000  ...  506.000000  506.000000  506.000000\n",
              "mean     3.613524   11.363636   11.136779  ...   18.455534  356.674032   12.653063\n",
              "std      8.601545   23.322453    6.860353  ...    2.164946   91.294864    7.141062\n",
              "min      0.006320    0.000000    0.460000  ...   12.600000    0.320000    1.730000\n",
              "25%      0.082045    0.000000    5.190000  ...   17.400000  375.377500    6.950000\n",
              "50%      0.256510    0.000000    9.690000  ...   19.050000  391.440000   11.360000\n",
              "75%      3.677083   12.500000   18.100000  ...   20.200000  396.225000   16.955000\n",
              "max     88.976200  100.000000   27.740000  ...   22.000000  396.900000   37.970000\n",
              "\n",
              "[8 rows x 13 columns]"
            ]
          },
          "metadata": {
            "tags": []
          },
          "execution_count": 13
        }
      ]
    },
    {
      "cell_type": "code",
      "metadata": {
        "id": "Z0OhSe9YlPlW",
        "colab_type": "code",
        "colab": {}
      },
      "source": [
        "from sklearn.preprocessing import MinMaxScaler\n",
        "MM=MinMaxScaler()\n",
        "X=pd.DataFrame(MM.fit_transform(X),columns=X.columns)"
      ],
      "execution_count": 0,
      "outputs": []
    },
    {
      "cell_type": "code",
      "metadata": {
        "id": "B_ZxStfVl55J",
        "colab_type": "code",
        "outputId": "a650c18e-ed8d-4243-f687-e611e65ab590",
        "colab": {
          "base_uri": "https://localhost:8080/",
          "height": 204
        }
      },
      "source": [
        "X.head()"
      ],
      "execution_count": 0,
      "outputs": [
        {
          "output_type": "execute_result",
          "data": {
            "text/html": [
              "<div>\n",
              "<style scoped>\n",
              "    .dataframe tbody tr th:only-of-type {\n",
              "        vertical-align: middle;\n",
              "    }\n",
              "\n",
              "    .dataframe tbody tr th {\n",
              "        vertical-align: top;\n",
              "    }\n",
              "\n",
              "    .dataframe thead th {\n",
              "        text-align: right;\n",
              "    }\n",
              "</style>\n",
              "<table border=\"1\" class=\"dataframe\">\n",
              "  <thead>\n",
              "    <tr style=\"text-align: right;\">\n",
              "      <th></th>\n",
              "      <th>CRIM</th>\n",
              "      <th>ZN</th>\n",
              "      <th>INDUS</th>\n",
              "      <th>CHAS</th>\n",
              "      <th>NOX</th>\n",
              "      <th>RM</th>\n",
              "      <th>AGE</th>\n",
              "      <th>DIS</th>\n",
              "      <th>RAD</th>\n",
              "      <th>TAX</th>\n",
              "      <th>PTRATIO</th>\n",
              "      <th>B</th>\n",
              "      <th>LSTAT</th>\n",
              "    </tr>\n",
              "  </thead>\n",
              "  <tbody>\n",
              "    <tr>\n",
              "      <th>0</th>\n",
              "      <td>0.000000</td>\n",
              "      <td>0.18</td>\n",
              "      <td>0.067815</td>\n",
              "      <td>0.0</td>\n",
              "      <td>0.314815</td>\n",
              "      <td>0.577505</td>\n",
              "      <td>0.641607</td>\n",
              "      <td>0.269203</td>\n",
              "      <td>0.000000</td>\n",
              "      <td>0.208015</td>\n",
              "      <td>0.287234</td>\n",
              "      <td>1.000000</td>\n",
              "      <td>0.089680</td>\n",
              "    </tr>\n",
              "    <tr>\n",
              "      <th>1</th>\n",
              "      <td>0.000236</td>\n",
              "      <td>0.00</td>\n",
              "      <td>0.242302</td>\n",
              "      <td>0.0</td>\n",
              "      <td>0.172840</td>\n",
              "      <td>0.547998</td>\n",
              "      <td>0.782698</td>\n",
              "      <td>0.348962</td>\n",
              "      <td>0.043478</td>\n",
              "      <td>0.104962</td>\n",
              "      <td>0.553191</td>\n",
              "      <td>1.000000</td>\n",
              "      <td>0.204470</td>\n",
              "    </tr>\n",
              "    <tr>\n",
              "      <th>2</th>\n",
              "      <td>0.000236</td>\n",
              "      <td>0.00</td>\n",
              "      <td>0.242302</td>\n",
              "      <td>0.0</td>\n",
              "      <td>0.172840</td>\n",
              "      <td>0.694386</td>\n",
              "      <td>0.599382</td>\n",
              "      <td>0.348962</td>\n",
              "      <td>0.043478</td>\n",
              "      <td>0.104962</td>\n",
              "      <td>0.553191</td>\n",
              "      <td>0.989737</td>\n",
              "      <td>0.063466</td>\n",
              "    </tr>\n",
              "    <tr>\n",
              "      <th>3</th>\n",
              "      <td>0.000293</td>\n",
              "      <td>0.00</td>\n",
              "      <td>0.063050</td>\n",
              "      <td>0.0</td>\n",
              "      <td>0.150206</td>\n",
              "      <td>0.658555</td>\n",
              "      <td>0.441813</td>\n",
              "      <td>0.448545</td>\n",
              "      <td>0.086957</td>\n",
              "      <td>0.066794</td>\n",
              "      <td>0.648936</td>\n",
              "      <td>0.994276</td>\n",
              "      <td>0.033389</td>\n",
              "    </tr>\n",
              "    <tr>\n",
              "      <th>4</th>\n",
              "      <td>0.000705</td>\n",
              "      <td>0.00</td>\n",
              "      <td>0.063050</td>\n",
              "      <td>0.0</td>\n",
              "      <td>0.150206</td>\n",
              "      <td>0.687105</td>\n",
              "      <td>0.528321</td>\n",
              "      <td>0.448545</td>\n",
              "      <td>0.086957</td>\n",
              "      <td>0.066794</td>\n",
              "      <td>0.648936</td>\n",
              "      <td>1.000000</td>\n",
              "      <td>0.099338</td>\n",
              "    </tr>\n",
              "  </tbody>\n",
              "</table>\n",
              "</div>"
            ],
            "text/plain": [
              "       CRIM    ZN     INDUS  CHAS  ...       TAX   PTRATIO         B     LSTAT\n",
              "0  0.000000  0.18  0.067815   0.0  ...  0.208015  0.287234  1.000000  0.089680\n",
              "1  0.000236  0.00  0.242302   0.0  ...  0.104962  0.553191  1.000000  0.204470\n",
              "2  0.000236  0.00  0.242302   0.0  ...  0.104962  0.553191  0.989737  0.063466\n",
              "3  0.000293  0.00  0.063050   0.0  ...  0.066794  0.648936  0.994276  0.033389\n",
              "4  0.000705  0.00  0.063050   0.0  ...  0.066794  0.648936  1.000000  0.099338\n",
              "\n",
              "[5 rows x 13 columns]"
            ]
          },
          "metadata": {
            "tags": []
          },
          "execution_count": 16
        }
      ]
    },
    {
      "cell_type": "code",
      "metadata": {
        "id": "Nm5Bh1wUl7Ml",
        "colab_type": "code",
        "colab": {
          "base_uri": "https://localhost:8080/",
          "height": 34
        },
        "outputId": "fc6a9573-f8b5-49b3-8389-449e0abd9887"
      },
      "source": [
        "from sklearn.model_selection import train_test_split\n",
        "x_train,x_test,y_train,y_test=train_test_split(X.values,y.values,test_size=0.2)\n",
        "x_train.shape,y_train.shape"
      ],
      "execution_count": 23,
      "outputs": [
        {
          "output_type": "execute_result",
          "data": {
            "text/plain": [
              "((404, 13), (404, 1))"
            ]
          },
          "metadata": {
            "tags": []
          },
          "execution_count": 23
        }
      ]
    },
    {
      "cell_type": "code",
      "metadata": {
        "id": "SvYaU158m_Mb",
        "colab_type": "code",
        "colab": {}
      },
      "source": [
        "from tensorflow.keras import Sequential\n",
        "from tensorflow.keras.layers import Dense"
      ],
      "execution_count": 0,
      "outputs": []
    },
    {
      "cell_type": "code",
      "metadata": {
        "id": "ZZrOzoQZnEnK",
        "colab_type": "code",
        "colab": {}
      },
      "source": [
        "model= Sequential()\n",
        "model.add(Dense(13, activation = 'relu',kernel_initializer=\"uniform\"))\n",
        "model.add(Dense(10, activation = 'relu',kernel_initializer=\"uniform\"))\n",
        "#model.add(Dense(10, activation = 'relu',kernel_initializer=\"uniform\"))\n",
        "model.add(Dense(1, activation = 'linear',kernel_initializer=\"uniform\"))"
      ],
      "execution_count": 0,
      "outputs": []
    },
    {
      "cell_type": "code",
      "metadata": {
        "id": "ZQQDvrX_ndjp",
        "colab_type": "code",
        "colab": {}
      },
      "source": [
        "model.compile(optimizer=\"adam\",loss=\"mean_squared_error\",metrics=['mse'])"
      ],
      "execution_count": 0,
      "outputs": []
    },
    {
      "cell_type": "code",
      "metadata": {
        "id": "YPIw9PlAnq08",
        "colab_type": "code",
        "colab": {
          "base_uri": "https://localhost:8080/",
          "height": 1000
        },
        "outputId": "0eed0171-284e-4e17-eec8-2ff483a6af1f"
      },
      "source": [
        "history=model.fit(x_train,y_train,batch_size=10,epochs=100,validation_split=0.1)"
      ],
      "execution_count": 53,
      "outputs": [
        {
          "output_type": "stream",
          "text": [
            "Train on 363 samples, validate on 41 samples\n",
            "Epoch 1/100\n",
            "363/363 [==============================] - 0s 1ms/sample - loss: 578.3701 - mse: 578.3700 - val_loss: 635.4289 - val_mse: 635.4290\n",
            "Epoch 2/100\n",
            "363/363 [==============================] - 0s 222us/sample - loss: 570.0954 - mse: 570.0955 - val_loss: 618.4028 - val_mse: 618.4028\n",
            "Epoch 3/100\n",
            "363/363 [==============================] - 0s 214us/sample - loss: 539.3698 - mse: 539.3698 - val_loss: 565.5866 - val_mse: 565.5865\n",
            "Epoch 4/100\n",
            "363/363 [==============================] - 0s 216us/sample - loss: 466.2565 - mse: 466.2565 - val_loss: 462.5542 - val_mse: 462.5542\n",
            "Epoch 5/100\n",
            "363/363 [==============================] - 0s 219us/sample - loss: 348.9416 - mse: 348.9416 - val_loss: 326.5264 - val_mse: 326.5264\n",
            "Epoch 6/100\n",
            "363/363 [==============================] - 0s 248us/sample - loss: 224.6925 - mse: 224.6925 - val_loss: 218.6827 - val_mse: 218.6827\n",
            "Epoch 7/100\n",
            "363/363 [==============================] - 0s 228us/sample - loss: 150.6638 - mse: 150.6638 - val_loss: 180.4401 - val_mse: 180.4401\n",
            "Epoch 8/100\n",
            "363/363 [==============================] - 0s 228us/sample - loss: 126.0776 - mse: 126.0776 - val_loss: 167.5521 - val_mse: 167.5521\n",
            "Epoch 9/100\n",
            "363/363 [==============================] - 0s 211us/sample - loss: 117.1361 - mse: 117.1361 - val_loss: 157.5699 - val_mse: 157.5699\n",
            "Epoch 10/100\n",
            "363/363 [==============================] - 0s 224us/sample - loss: 109.4472 - mse: 109.4472 - val_loss: 148.3866 - val_mse: 148.3866\n",
            "Epoch 11/100\n",
            "363/363 [==============================] - 0s 215us/sample - loss: 102.4968 - mse: 102.4968 - val_loss: 139.5635 - val_mse: 139.5636\n",
            "Epoch 12/100\n",
            "363/363 [==============================] - 0s 228us/sample - loss: 95.8139 - mse: 95.8139 - val_loss: 131.7039 - val_mse: 131.7039\n",
            "Epoch 13/100\n",
            "363/363 [==============================] - 0s 206us/sample - loss: 90.0536 - mse: 90.0536 - val_loss: 123.9532 - val_mse: 123.9532\n",
            "Epoch 14/100\n",
            "363/363 [==============================] - 0s 219us/sample - loss: 84.9224 - mse: 84.9224 - val_loss: 116.5808 - val_mse: 116.5808\n",
            "Epoch 15/100\n",
            "363/363 [==============================] - 0s 220us/sample - loss: 80.0238 - mse: 80.0238 - val_loss: 110.2055 - val_mse: 110.2055\n",
            "Epoch 16/100\n",
            "363/363 [==============================] - 0s 213us/sample - loss: 75.5586 - mse: 75.5586 - val_loss: 103.5142 - val_mse: 103.5142\n",
            "Epoch 17/100\n",
            "363/363 [==============================] - 0s 215us/sample - loss: 71.3327 - mse: 71.3327 - val_loss: 98.2662 - val_mse: 98.2662\n",
            "Epoch 18/100\n",
            "363/363 [==============================] - 0s 224us/sample - loss: 67.6764 - mse: 67.6764 - val_loss: 92.3928 - val_mse: 92.3928\n",
            "Epoch 19/100\n",
            "363/363 [==============================] - 0s 213us/sample - loss: 64.4543 - mse: 64.4543 - val_loss: 87.3834 - val_mse: 87.3834\n",
            "Epoch 20/100\n",
            "363/363 [==============================] - 0s 210us/sample - loss: 61.8252 - mse: 61.8252 - val_loss: 83.0147 - val_mse: 83.0147\n",
            "Epoch 21/100\n",
            "363/363 [==============================] - 0s 238us/sample - loss: 59.2423 - mse: 59.2423 - val_loss: 79.2788 - val_mse: 79.2788\n",
            "Epoch 22/100\n",
            "363/363 [==============================] - 0s 208us/sample - loss: 57.3674 - mse: 57.3674 - val_loss: 75.5623 - val_mse: 75.5623\n",
            "Epoch 23/100\n",
            "363/363 [==============================] - 0s 217us/sample - loss: 55.3420 - mse: 55.3420 - val_loss: 73.2088 - val_mse: 73.2088\n",
            "Epoch 24/100\n",
            "363/363 [==============================] - 0s 215us/sample - loss: 53.8933 - mse: 53.8933 - val_loss: 70.0840 - val_mse: 70.0840\n",
            "Epoch 25/100\n",
            "363/363 [==============================] - 0s 223us/sample - loss: 52.4919 - mse: 52.4919 - val_loss: 67.8974 - val_mse: 67.8974\n",
            "Epoch 26/100\n",
            "363/363 [==============================] - 0s 211us/sample - loss: 51.2792 - mse: 51.2792 - val_loss: 65.4263 - val_mse: 65.4263\n",
            "Epoch 27/100\n",
            "363/363 [==============================] - 0s 260us/sample - loss: 50.3944 - mse: 50.3944 - val_loss: 63.0575 - val_mse: 63.0575\n",
            "Epoch 28/100\n",
            "363/363 [==============================] - 0s 225us/sample - loss: 49.1488 - mse: 49.1488 - val_loss: 61.7582 - val_mse: 61.7582\n",
            "Epoch 29/100\n",
            "363/363 [==============================] - 0s 213us/sample - loss: 48.3051 - mse: 48.3051 - val_loss: 60.4496 - val_mse: 60.4496\n",
            "Epoch 30/100\n",
            "363/363 [==============================] - 0s 210us/sample - loss: 47.4094 - mse: 47.4094 - val_loss: 58.3533 - val_mse: 58.3533\n",
            "Epoch 31/100\n",
            "363/363 [==============================] - 0s 218us/sample - loss: 46.5725 - mse: 46.5725 - val_loss: 57.1154 - val_mse: 57.1154\n",
            "Epoch 32/100\n",
            "363/363 [==============================] - 0s 215us/sample - loss: 45.7498 - mse: 45.7498 - val_loss: 55.6315 - val_mse: 55.6315\n",
            "Epoch 33/100\n",
            "363/363 [==============================] - 0s 229us/sample - loss: 45.1165 - mse: 45.1165 - val_loss: 54.6646 - val_mse: 54.6646\n",
            "Epoch 34/100\n",
            "363/363 [==============================] - 0s 228us/sample - loss: 44.2392 - mse: 44.2392 - val_loss: 53.5435 - val_mse: 53.5435\n",
            "Epoch 35/100\n",
            "363/363 [==============================] - 0s 208us/sample - loss: 43.5028 - mse: 43.5028 - val_loss: 52.1886 - val_mse: 52.1886\n",
            "Epoch 36/100\n",
            "363/363 [==============================] - 0s 238us/sample - loss: 42.8188 - mse: 42.8188 - val_loss: 51.0321 - val_mse: 51.0321\n",
            "Epoch 37/100\n",
            "363/363 [==============================] - 0s 219us/sample - loss: 42.2187 - mse: 42.2187 - val_loss: 50.5682 - val_mse: 50.5682\n",
            "Epoch 38/100\n",
            "363/363 [==============================] - 0s 252us/sample - loss: 41.6505 - mse: 41.6505 - val_loss: 48.8321 - val_mse: 48.8321\n",
            "Epoch 39/100\n",
            "363/363 [==============================] - 0s 238us/sample - loss: 40.7509 - mse: 40.7509 - val_loss: 47.9629 - val_mse: 47.9628\n",
            "Epoch 40/100\n",
            "363/363 [==============================] - 0s 206us/sample - loss: 40.1082 - mse: 40.1082 - val_loss: 47.0359 - val_mse: 47.0359\n",
            "Epoch 41/100\n",
            "363/363 [==============================] - 0s 231us/sample - loss: 39.5007 - mse: 39.5007 - val_loss: 45.9763 - val_mse: 45.9763\n",
            "Epoch 42/100\n",
            "363/363 [==============================] - 0s 206us/sample - loss: 38.7131 - mse: 38.7131 - val_loss: 45.4668 - val_mse: 45.4668\n",
            "Epoch 43/100\n",
            "363/363 [==============================] - 0s 209us/sample - loss: 38.0527 - mse: 38.0527 - val_loss: 44.4919 - val_mse: 44.4919\n",
            "Epoch 44/100\n",
            "363/363 [==============================] - 0s 233us/sample - loss: 37.3819 - mse: 37.3819 - val_loss: 43.3143 - val_mse: 43.3143\n",
            "Epoch 45/100\n",
            "363/363 [==============================] - 0s 223us/sample - loss: 36.7969 - mse: 36.7969 - val_loss: 42.4324 - val_mse: 42.4324\n",
            "Epoch 46/100\n",
            "363/363 [==============================] - 0s 217us/sample - loss: 36.1680 - mse: 36.1680 - val_loss: 41.7243 - val_mse: 41.7243\n",
            "Epoch 47/100\n",
            "363/363 [==============================] - 0s 228us/sample - loss: 35.4341 - mse: 35.4341 - val_loss: 41.1684 - val_mse: 41.1684\n",
            "Epoch 48/100\n",
            "363/363 [==============================] - 0s 228us/sample - loss: 34.7759 - mse: 34.7759 - val_loss: 40.0065 - val_mse: 40.0065\n",
            "Epoch 49/100\n",
            "363/363 [==============================] - 0s 261us/sample - loss: 34.1550 - mse: 34.1550 - val_loss: 39.0926 - val_mse: 39.0926\n",
            "Epoch 50/100\n",
            "363/363 [==============================] - 0s 218us/sample - loss: 33.6858 - mse: 33.6858 - val_loss: 38.2576 - val_mse: 38.2576\n",
            "Epoch 51/100\n",
            "363/363 [==============================] - 0s 215us/sample - loss: 33.0674 - mse: 33.0674 - val_loss: 37.6864 - val_mse: 37.6864\n",
            "Epoch 52/100\n",
            "363/363 [==============================] - 0s 217us/sample - loss: 32.3004 - mse: 32.3004 - val_loss: 36.8149 - val_mse: 36.8149\n",
            "Epoch 53/100\n",
            "363/363 [==============================] - 0s 207us/sample - loss: 31.7250 - mse: 31.7250 - val_loss: 36.3019 - val_mse: 36.3019\n",
            "Epoch 54/100\n",
            "363/363 [==============================] - 0s 216us/sample - loss: 31.0796 - mse: 31.0796 - val_loss: 35.2894 - val_mse: 35.2894\n",
            "Epoch 55/100\n",
            "363/363 [==============================] - 0s 231us/sample - loss: 30.7931 - mse: 30.7931 - val_loss: 34.5519 - val_mse: 34.5519\n",
            "Epoch 56/100\n",
            "363/363 [==============================] - 0s 231us/sample - loss: 30.2152 - mse: 30.2152 - val_loss: 33.7756 - val_mse: 33.7756\n",
            "Epoch 57/100\n",
            "363/363 [==============================] - 0s 214us/sample - loss: 29.3611 - mse: 29.3611 - val_loss: 32.9714 - val_mse: 32.9714\n",
            "Epoch 58/100\n",
            "363/363 [==============================] - 0s 218us/sample - loss: 28.8537 - mse: 28.8537 - val_loss: 32.5668 - val_mse: 32.5668\n",
            "Epoch 59/100\n",
            "363/363 [==============================] - 0s 211us/sample - loss: 28.5343 - mse: 28.5343 - val_loss: 32.1700 - val_mse: 32.1700\n",
            "Epoch 60/100\n",
            "363/363 [==============================] - 0s 239us/sample - loss: 27.7252 - mse: 27.7252 - val_loss: 31.0839 - val_mse: 31.0839\n",
            "Epoch 61/100\n",
            "363/363 [==============================] - 0s 247us/sample - loss: 27.2784 - mse: 27.2784 - val_loss: 30.5647 - val_mse: 30.5647\n",
            "Epoch 62/100\n",
            "363/363 [==============================] - 0s 201us/sample - loss: 26.8722 - mse: 26.8722 - val_loss: 29.9591 - val_mse: 29.9591\n",
            "Epoch 63/100\n",
            "363/363 [==============================] - 0s 226us/sample - loss: 26.4754 - mse: 26.4754 - val_loss: 29.1498 - val_mse: 29.1498\n",
            "Epoch 64/100\n",
            "363/363 [==============================] - 0s 221us/sample - loss: 25.8543 - mse: 25.8543 - val_loss: 28.7051 - val_mse: 28.7051\n",
            "Epoch 65/100\n",
            "363/363 [==============================] - 0s 230us/sample - loss: 25.4183 - mse: 25.4183 - val_loss: 27.9876 - val_mse: 27.9876\n",
            "Epoch 66/100\n",
            "363/363 [==============================] - 0s 233us/sample - loss: 24.9873 - mse: 24.9873 - val_loss: 27.4045 - val_mse: 27.4045\n",
            "Epoch 67/100\n",
            "363/363 [==============================] - 0s 210us/sample - loss: 24.6123 - mse: 24.6123 - val_loss: 26.7572 - val_mse: 26.7572\n",
            "Epoch 68/100\n",
            "363/363 [==============================] - 0s 231us/sample - loss: 24.1706 - mse: 24.1706 - val_loss: 26.3215 - val_mse: 26.3215\n",
            "Epoch 69/100\n",
            "363/363 [==============================] - 0s 234us/sample - loss: 23.8495 - mse: 23.8495 - val_loss: 25.9058 - val_mse: 25.9058\n",
            "Epoch 70/100\n",
            "363/363 [==============================] - 0s 223us/sample - loss: 23.4405 - mse: 23.4405 - val_loss: 25.3622 - val_mse: 25.3622\n",
            "Epoch 71/100\n",
            "363/363 [==============================] - 0s 216us/sample - loss: 23.0098 - mse: 23.0098 - val_loss: 25.0147 - val_mse: 25.0147\n",
            "Epoch 72/100\n",
            "363/363 [==============================] - 0s 220us/sample - loss: 22.7179 - mse: 22.7179 - val_loss: 24.6145 - val_mse: 24.6145\n",
            "Epoch 73/100\n",
            "363/363 [==============================] - 0s 226us/sample - loss: 22.3812 - mse: 22.3812 - val_loss: 24.0377 - val_mse: 24.0377\n",
            "Epoch 74/100\n",
            "363/363 [==============================] - 0s 231us/sample - loss: 21.9571 - mse: 21.9571 - val_loss: 23.7015 - val_mse: 23.7015\n",
            "Epoch 75/100\n",
            "363/363 [==============================] - 0s 231us/sample - loss: 21.5882 - mse: 21.5882 - val_loss: 23.1711 - val_mse: 23.1711\n",
            "Epoch 76/100\n",
            "363/363 [==============================] - 0s 230us/sample - loss: 21.2720 - mse: 21.2720 - val_loss: 22.9017 - val_mse: 22.9017\n",
            "Epoch 77/100\n",
            "363/363 [==============================] - 0s 243us/sample - loss: 21.0032 - mse: 21.0032 - val_loss: 22.4111 - val_mse: 22.4111\n",
            "Epoch 78/100\n",
            "363/363 [==============================] - 0s 272us/sample - loss: 20.7308 - mse: 20.7308 - val_loss: 22.3006 - val_mse: 22.3006\n",
            "Epoch 79/100\n",
            "363/363 [==============================] - 0s 237us/sample - loss: 20.5627 - mse: 20.5627 - val_loss: 21.5430 - val_mse: 21.5430\n",
            "Epoch 80/100\n",
            "363/363 [==============================] - 0s 239us/sample - loss: 20.1966 - mse: 20.1966 - val_loss: 21.4217 - val_mse: 21.4217\n",
            "Epoch 81/100\n",
            "363/363 [==============================] - 0s 215us/sample - loss: 19.9794 - mse: 19.9794 - val_loss: 20.8333 - val_mse: 20.8333\n",
            "Epoch 82/100\n",
            "363/363 [==============================] - 0s 232us/sample - loss: 19.7875 - mse: 19.7875 - val_loss: 21.1237 - val_mse: 21.1237\n",
            "Epoch 83/100\n",
            "363/363 [==============================] - 0s 238us/sample - loss: 19.5024 - mse: 19.5024 - val_loss: 20.5131 - val_mse: 20.5131\n",
            "Epoch 84/100\n",
            "363/363 [==============================] - 0s 236us/sample - loss: 19.3494 - mse: 19.3494 - val_loss: 20.2731 - val_mse: 20.2731\n",
            "Epoch 85/100\n",
            "363/363 [==============================] - 0s 236us/sample - loss: 19.2126 - mse: 19.2126 - val_loss: 19.7430 - val_mse: 19.7430\n",
            "Epoch 86/100\n",
            "363/363 [==============================] - 0s 219us/sample - loss: 19.0933 - mse: 19.0933 - val_loss: 19.3853 - val_mse: 19.3853\n",
            "Epoch 87/100\n",
            "363/363 [==============================] - 0s 227us/sample - loss: 18.8348 - mse: 18.8348 - val_loss: 19.1746 - val_mse: 19.1746\n",
            "Epoch 88/100\n",
            "363/363 [==============================] - 0s 214us/sample - loss: 18.6520 - mse: 18.6520 - val_loss: 18.9845 - val_mse: 18.9845\n",
            "Epoch 89/100\n",
            "363/363 [==============================] - 0s 234us/sample - loss: 18.5117 - mse: 18.5117 - val_loss: 19.6049 - val_mse: 19.6049\n",
            "Epoch 90/100\n",
            "363/363 [==============================] - 0s 222us/sample - loss: 18.6009 - mse: 18.6009 - val_loss: 19.3011 - val_mse: 19.3011\n",
            "Epoch 91/100\n",
            "363/363 [==============================] - 0s 228us/sample - loss: 18.4475 - mse: 18.4475 - val_loss: 18.3867 - val_mse: 18.3867\n",
            "Epoch 92/100\n",
            "363/363 [==============================] - 0s 256us/sample - loss: 18.0657 - mse: 18.0657 - val_loss: 18.4549 - val_mse: 18.4549\n",
            "Epoch 93/100\n",
            "363/363 [==============================] - 0s 247us/sample - loss: 17.9600 - mse: 17.9600 - val_loss: 18.3042 - val_mse: 18.3042\n",
            "Epoch 94/100\n",
            "363/363 [==============================] - 0s 236us/sample - loss: 17.9410 - mse: 17.9410 - val_loss: 17.9466 - val_mse: 17.9466\n",
            "Epoch 95/100\n",
            "363/363 [==============================] - 0s 238us/sample - loss: 17.7103 - mse: 17.7103 - val_loss: 17.8277 - val_mse: 17.8277\n",
            "Epoch 96/100\n",
            "363/363 [==============================] - 0s 215us/sample - loss: 17.6373 - mse: 17.6373 - val_loss: 17.7795 - val_mse: 17.7795\n",
            "Epoch 97/100\n",
            "363/363 [==============================] - 0s 241us/sample - loss: 17.4787 - mse: 17.4787 - val_loss: 17.5568 - val_mse: 17.5568\n",
            "Epoch 98/100\n",
            "363/363 [==============================] - 0s 266us/sample - loss: 17.3858 - mse: 17.3858 - val_loss: 17.0864 - val_mse: 17.0864\n",
            "Epoch 99/100\n",
            "363/363 [==============================] - 0s 236us/sample - loss: 17.3517 - mse: 17.3517 - val_loss: 17.4351 - val_mse: 17.4351\n",
            "Epoch 100/100\n",
            "363/363 [==============================] - 0s 237us/sample - loss: 17.2015 - mse: 17.2015 - val_loss: 17.2052 - val_mse: 17.2052\n"
          ],
          "name": "stdout"
        }
      ]
    },
    {
      "cell_type": "code",
      "metadata": {
        "id": "IRdThw0ln_jP",
        "colab_type": "code",
        "colab": {
          "base_uri": "https://localhost:8080/",
          "height": 573
        },
        "outputId": "47dce2d5-db18-4810-b151-235ea6db80a2"
      },
      "source": [
        "plt.plot(history.history['mse'], label='Training mse')\n",
        "plt.plot(history.history['val_mse'], label='Validation mse')\n",
        "plt.title('Validation mse')\n",
        "plt.ylabel('MSE')\n",
        "plt.xlabel('Epoch')\n",
        "plt.legend(loc=\"upper left\")\n",
        "plt.show()\n",
        "\n",
        "plt.plot(history.history['loss'], label='Training loss')\n",
        "plt.plot(history.history['val_loss'], label='Validation loss')\n",
        "plt.title('validation loss values')\n",
        "plt.ylabel('Loss value')\n",
        "plt.xlabel('Epoch')\n",
        "plt.legend(loc=\"upper left\")\n",
        "plt.show()"
      ],
      "execution_count": 54,
      "outputs": [
        {
          "output_type": "display_data",
          "data": {
            "image/png": "[encoded data removed]",
            "text/plain": [
              "<Figure size 432x288 with 1 Axes>"
            ]
          },
          "metadata": {
            "tags": []
          }
        },
        {
          "output_type": "display_data",
          "data": {
            "image/png": "[encoded data removed]",
            "text/plain": [
              "<Figure size 432x288 with 1 Axes>"
            ]
          },
          "metadata": {
            "tags": []
          }
        }
      ]
    },
    {
      "cell_type": "code",
      "metadata": {
        "id": "-LpN4cuKo3WV",
        "colab_type": "code",
        "colab": {
          "base_uri": "https://localhost:8080/",
          "height": 51
        },
        "outputId": "188c27dc-5985-458c-8568-dfd8b581cfde"
      },
      "source": [
        "ypred=model.predict(x_test)\n",
        "score=model.evaluate(x_test,y_test)\n",
        "score"
      ],
      "execution_count": 55,
      "outputs": [
        {
          "output_type": "stream",
          "text": [
            "102/102 [==============================] - 0s 107us/sample - loss: 35.9251 - mse: 35.9251\n"
          ],
          "name": "stdout"
        },
        {
          "output_type": "execute_result",
          "data": {
            "text/plain": [
              "[35.92509183696672, 35.92509]"
            ]
          },
          "metadata": {
            "tags": []
          },
          "execution_count": 55
        }
      ]
    },
    {
      "cell_type": "code",
      "metadata": {
        "id": "dDF56dUCpe2F",
        "colab_type": "code",
        "colab": {}
      },
      "source": [
        ""
      ],
      "execution_count": 0,
      "outputs": []
    }
  ]
}